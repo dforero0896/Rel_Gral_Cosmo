{
 "cells": [
  {
   "cell_type": "markdown",
   "metadata": {},
   "source": [
    "### Relatividad General y Cosmología\n",
    "#### Tarea #4\n",
    "##### Daniel Felipe Forero Sánchez - 201415069"
   ]
  },
  {
   "cell_type": "code",
   "execution_count": 1,
   "metadata": {
    "collapsed": true
   },
   "outputs": [],
   "source": [
    "from sympy import *\n",
    "init_printing(use_latex='mathjax')\n",
    "from sympy.diffgeom import *\n",
    "from sympy.tensor.array import Array\n",
    "from IPython.display import display"
   ]
  },
  {
   "cell_type": "markdown",
   "metadata": {},
   "source": [
    "Tomamos, de la tarea 2:"
   ]
  },
  {
   "cell_type": "code",
   "execution_count": 90,
   "metadata": {},
   "outputs": [
    {
     "data": {
      "text/latex": [
       "$$\\left[\\begin{matrix}- f{\\left (t,r \\right )} & 0 & 0 & 0\\\\0 & g{\\left (t,r \\right )} & 0 & 0\\\\0 & 0 & r^{2} & 0\\\\0 & 0 & 0 & r^{2} \\sin^{2}{\\left (\\theta \\right )}\\end{matrix}\\right]$$"
      ],
      "text/plain": [
       "⎡-f(t, r)     0     0       0     ⎤\n",
       "⎢                                 ⎥\n",
       "⎢   0      g(t, r)  0       0     ⎥\n",
       "⎢                                 ⎥\n",
       "⎢                    2            ⎥\n",
       "⎢   0         0     r       0     ⎥\n",
       "⎢                                 ⎥\n",
       "⎢                        2    2   ⎥\n",
       "⎣   0         0     0   r ⋅sin (θ)⎦"
      ]
     },
     "metadata": {},
     "output_type": "display_data"
    },
    {
     "data": {
      "text/latex": [
       "$$\\left[\\begin{matrix}- \\frac{1}{f{\\left (t,r \\right )}} & 0 & 0 & 0\\\\0 & \\frac{1}{g{\\left (t,r \\right )}} & 0 & 0\\\\0 & 0 & \\frac{1}{r^{2}} & 0\\\\0 & 0 & 0 & \\frac{1}{r^{2} \\sin^{2}{\\left (\\theta \\right )}}\\end{matrix}\\right]$$"
      ],
      "text/plain": [
       "⎡  -1                            ⎤\n",
       "⎢───────     0     0       0     ⎥\n",
       "⎢f(t, r)                         ⎥\n",
       "⎢                                ⎥\n",
       "⎢            1                   ⎥\n",
       "⎢   0     ───────  0       0     ⎥\n",
       "⎢         g(t, r)                ⎥\n",
       "⎢                                ⎥\n",
       "⎢                  1             ⎥\n",
       "⎢   0        0     ──      0     ⎥\n",
       "⎢                   2            ⎥\n",
       "⎢                  r             ⎥\n",
       "⎢                                ⎥\n",
       "⎢                          1     ⎥\n",
       "⎢   0        0     0   ──────────⎥\n",
       "⎢                       2    2   ⎥\n",
       "⎣                      r ⋅sin (θ)⎦"
      ]
     },
     "metadata": {},
     "output_type": "display_data"
    }
   ],
   "source": [
    "t, r, th, phi = symbols('t r theta phi')\n",
    "coords_vec = [t, r, th, phi]\n",
    "f = Function('f')\n",
    "f_met = f(t, r)\n",
    "g = Function('g')\n",
    "g_met = g(t, r)\n",
    "R3_Metric_matrix=Matrix([[-f_met, 0, 0, 0], [0, g_met, 0, 0],\\\n",
    "                         [0, 0, r**2, 0], [0, 0, 0, r**2*sin(th)**2]])\n",
    "display(R3_Metric_matrix, R3_Metric_matrix.inv())\n",
    "def Christ(m , i, j, metric=R3_Metric_matrix):\n",
    "    inv_metric=metric.inv()\n",
    "    term1, term2, term3=0, 0, 0\n",
    "    for k in range(len(R3_Metric_matrix[:,0])):\n",
    "        term1+=inv_metric[m, k]*Derivative(metric[k, i], coords_vec[j]).doit()\n",
    "        term2+=inv_metric[m, k]*Derivative(metric[k, j], coords_vec[i]).doit()\n",
    "        term3+=-inv_metric[m, k]*Derivative(metric[i,j], coords_vec[k]).doit()\n",
    "    return nsimplify(1./2)*(term1+term2+term3)\n",
    "#Build whole Christoffel\n",
    "manual_christ = MutableDenseNDimArray([[[0,0,0,0],[0,0,0,0],[0,0,0,0],[0,0,0,0]], \\\n",
    "                                     [[0,0,0,0],[0,0,0,0],[0,0,0,0],[0,0,0,0]],\\\n",
    "                                     [[0,0,0,0],[0,0,0,0],[0,0,0,0],[0,0,0,0]],\\\n",
    "                                      [[0,0,0,0],[0,0,0,0],[0,0,0,0],[0,0,0,0]]])\n",
    "for i in range(len(R3_Metric_matrix[:,0])):\n",
    "    for k in range(len(R3_Metric_matrix[:,0])):\n",
    "        for j in range(len(R3_Metric_matrix[:,0])):\n",
    "            manual_christ[i,k, j]=Christ(i, k, j)\n",
    "def Ricci(i, j, ch):\n",
    "    sum1, sum2, sum3, sum4=0, 0, 0, 0\n",
    "    for l in range(len(R3_Metric_matrix[:,0])):\n",
    "        sum1+=Derivative(ch[l, i, j], coords_vec[l])\n",
    "        sum2+=-Derivative(ch[l, i, l], coords_vec[j])\n",
    "    for m in range(len(R3_Metric_matrix[:,0])):\n",
    "        for l in range(len(R3_Metric_matrix[:,0])):\n",
    "            sum3+=ch[m, i, j]*ch[l, l, m]\n",
    "            sum4+=-ch[m, i, l]*ch[l, j, m]\n",
    "    return simplify(sum1+sum2+sum3+sum4)\n",
    "    \n",
    "\n",
    "manual_Ricci = MutableDenseMatrix([[0, 0, 0,0],[0, 0, 0,0],[0, 0, 0,0],[0, 0, 0,0]])\n",
    "for i in range(len(R3_Metric_matrix[:,0])):\n",
    "    for k in range(len(R3_Metric_matrix[:,0])):\n",
    "        manual_Ricci[i,k]=simplify(Ricci(i, k, manual_christ).doit())"
   ]
  },
  {
   "cell_type": "markdown",
   "metadata": {},
   "source": [
    "En este caso, la ecuación que debemos resolver es la correspondiente a un universo vacío en expansión, es decir, $$R_{\\mu\\nu} - \\frac{1}{2}Rg_{\\mu\\nu} + \\Lambda g_{\\mu\\nu}=0.$$\n",
    "\n",
    "Queremos mostrar que $$g_{00}=\\frac{\\Lambda r^2}{3}-1.$$\n",
    "\n",
    "Debemos calcular entonces, el escalar de curvatura $R=g^{\\mu\\nu}R_{\\mu\\nu}$."
   ]
  },
  {
   "cell_type": "code",
   "execution_count": 87,
   "metadata": {},
   "outputs": [
    {
     "data": {
      "text/latex": [
       "$$- \\frac{1}{4 r f^{2}{\\left (t,r \\right )} g^{2}{\\left (t,r \\right )}} \\left(r \\left(- \\frac{\\partial}{\\partial r} f{\\left (t,r \\right )} \\frac{\\partial}{\\partial r} g{\\left (t,r \\right )} + \\left(\\frac{\\partial}{\\partial t} g{\\left (t,r \\right )}\\right)^{2}\\right) f{\\left (t,r \\right )} + r \\left(- \\left(\\frac{\\partial}{\\partial r} f{\\left (t,r \\right )}\\right)^{2} + \\frac{\\partial}{\\partial t} f{\\left (t,r \\right )} \\frac{\\partial}{\\partial t} g{\\left (t,r \\right )}\\right) g{\\left (t,r \\right )} + 2 r \\left(\\frac{\\partial^{2}}{\\partial r^{2}}  f{\\left (t,r \\right )} - \\frac{\\partial^{2}}{\\partial t^{2}}  g{\\left (t,r \\right )}\\right) f{\\left (t,r \\right )} g{\\left (t,r \\right )} + 4 f{\\left (t,r \\right )} g{\\left (t,r \\right )} \\frac{\\partial}{\\partial r} f{\\left (t,r \\right )}\\right) + \\frac{1}{4 r f^{2}{\\left (t,r \\right )} g^{2}{\\left (t,r \\right )}} \\left(r \\left(\\frac{\\partial}{\\partial r} f{\\left (t,r \\right )} \\frac{\\partial}{\\partial r} g{\\left (t,r \\right )} - \\left(\\frac{\\partial}{\\partial t} g{\\left (t,r \\right )}\\right)^{2}\\right) f{\\left (t,r \\right )} + r \\left(\\left(\\frac{\\partial}{\\partial r} f{\\left (t,r \\right )}\\right)^{2} - \\frac{\\partial}{\\partial t} f{\\left (t,r \\right )} \\frac{\\partial}{\\partial t} g{\\left (t,r \\right )}\\right) g{\\left (t,r \\right )} + 2 r \\left(- \\frac{\\partial^{2}}{\\partial r^{2}}  f{\\left (t,r \\right )} + \\frac{\\partial^{2}}{\\partial t^{2}}  g{\\left (t,r \\right )}\\right) f{\\left (t,r \\right )} g{\\left (t,r \\right )} + 4 f^{2}{\\left (t,r \\right )} \\frac{\\partial}{\\partial r} g{\\left (t,r \\right )}\\right) + \\frac{1}{r^{2} f{\\left (t,r \\right )} g^{2}{\\left (t,r \\right )}} \\left(\\frac{r}{2} f{\\left (t,r \\right )} \\frac{\\partial}{\\partial r} g{\\left (t,r \\right )} - \\frac{r}{2} g{\\left (t,r \\right )} \\frac{\\partial}{\\partial r} f{\\left (t,r \\right )} + f{\\left (t,r \\right )} g^{2}{\\left (t,r \\right )} - f{\\left (t,r \\right )} g{\\left (t,r \\right )}\\right) + \\frac{1}{r^{2}} \\left(\\frac{r \\frac{\\partial}{\\partial r} g{\\left (t,r \\right )}}{2 g^{2}{\\left (t,r \\right )}} - \\frac{r \\frac{\\partial}{\\partial r} f{\\left (t,r \\right )}}{2 f{\\left (t,r \\right )} g{\\left (t,r \\right )}} + 1 - \\frac{1}{g{\\left (t,r \\right )}}\\right)$$"
      ],
      "text/plain": [
       "                                                                              \n",
       "    ⎛                                         2⎞             ⎛               2\n",
       "    ⎜  ∂           ∂             ⎛∂          ⎞ ⎟             ⎜  ⎛∂          ⎞ \n",
       "  r⋅⎜- ──(f(t, r))⋅──(g(t, r)) + ⎜──(g(t, r))⎟ ⎟⋅f(t, r) + r⋅⎜- ⎜──(f(t, r))⎟ \n",
       "    ⎝  ∂r          ∂r            ⎝∂t         ⎠ ⎠             ⎝  ⎝∂r         ⎠ \n",
       "                                                                              \n",
       "- ────────────────────────────────────────────────────────────────────────────\n",
       "                                                                              \n",
       "                                                                              \n",
       "\n",
       "                                                                              \n",
       "                          ⎞               ⎛  2              2         ⎞       \n",
       "   ∂           ∂          ⎟               ⎜ ∂              ∂          ⎟       \n",
       " + ──(f(t, r))⋅──(g(t, r))⎟⋅g(t, r) + 2⋅r⋅⎜───(f(t, r)) - ───(g(t, r))⎟⋅f(t, r\n",
       "   ∂t          ∂t         ⎠               ⎜  2              2         ⎟       \n",
       "                                          ⎝∂r             ∂t          ⎠       \n",
       "──────────────────────────────────────────────────────────────────────────────\n",
       "                2        2                                                    \n",
       "           4⋅r⋅f (t, r)⋅g (t, r)                                              \n",
       "\n",
       "                                                                              \n",
       "                                              ⎛                               \n",
       "                              ∂               ⎜∂           ∂             ⎛∂   \n",
       ")⋅g(t, r) + 4⋅f(t, r)⋅g(t, r)⋅──(f(t, r))   r⋅⎜──(f(t, r))⋅──(g(t, r)) - ⎜──(g\n",
       "                              ∂r              ⎝∂r          ∂r            ⎝∂t  \n",
       "                                                                              \n",
       "───────────────────────────────────────── + ──────────────────────────────────\n",
       "                                                                              \n",
       "                                                                              \n",
       "\n",
       "                                                                              \n",
       "        2⎞             ⎛             2                          ⎞             \n",
       "       ⎞ ⎟             ⎜⎛∂          ⎞    ∂           ∂          ⎟             \n",
       "(t, r))⎟ ⎟⋅f(t, r) + r⋅⎜⎜──(f(t, r))⎟  - ──(f(t, r))⋅──(g(t, r))⎟⋅g(t, r) + 2⋅\n",
       "       ⎠ ⎠             ⎝⎝∂r         ⎠    ∂t          ∂t         ⎠             \n",
       "                                                                              \n",
       "──────────────────────────────────────────────────────────────────────────────\n",
       "                                                     2        2               \n",
       "                                                4⋅r⋅f (t, r)⋅g (t, r)         \n",
       "\n",
       "                                                                              \n",
       "  ⎛    2              2         ⎞                                             \n",
       "  ⎜   ∂              ∂          ⎟                      2       ∂             r\n",
       "r⋅⎜- ───(f(t, r)) + ───(g(t, r))⎟⋅f(t, r)⋅g(t, r) + 4⋅f (t, r)⋅──(g(t, r))    \n",
       "  ⎜    2              2         ⎟                              ∂r            ─\n",
       "  ⎝  ∂r             ∂t          ⎠                                             \n",
       "────────────────────────────────────────────────────────────────────────── + ─\n",
       "                                                                              \n",
       "                                                                              \n",
       "\n",
       "                                                                              \n",
       "         ∂                       ∂                                            \n",
       "⋅f(t, r)⋅──(g(t, r))   r⋅g(t, r)⋅──(f(t, r))                                  \n",
       "         ∂r                      ∂r                     2                     \n",
       "──────────────────── - ───────────────────── + f(t, r)⋅g (t, r) - f(t, r)⋅g(t,\n",
       "         2                       2                                            \n",
       "──────────────────────────────────────────────────────────────────────────────\n",
       "                               2          2                                   \n",
       "                              r ⋅f(t, r)⋅g (t, r)                             \n",
       "\n",
       "        ∂                 ∂                          \n",
       "      r⋅──(g(t, r))     r⋅──(f(t, r))                \n",
       "        ∂r                ∂r                     1   \n",
       "      ───────────── - ───────────────── + 1 - ───────\n",
       " r)        2          2⋅f(t, r)⋅g(t, r)       g(t, r)\n",
       "        2⋅g (t, r)                                   \n",
       "─── + ───────────────────────────────────────────────\n",
       "                              2                      \n",
       "                             r                       "
      ]
     },
     "metadata": {},
     "output_type": "display_data"
    }
   ],
   "source": [
    "lam=symbols('Lambda')\n",
    "def R_scalar(metric, ricci):\n",
    "    inv_met=metric.inv()\n",
    "    R=0\n",
    "    for i in range(len(R3_Metric_matrix[:,0])):\n",
    "        for k in range(len(R3_Metric_matrix[:,0])):\n",
    "            R+=inv_met[i,k]*ricci[i,k]\n",
    "    return R\n",
    "manual_R=R_scalar(R3_Metric_matrix,manual_Ricci)\n",
    "display(manual_R)"
   ]
  },
  {
   "cell_type": "code",
   "execution_count": 88,
   "metadata": {},
   "outputs": [
    {
     "data": {
      "text/plain": [
       "'Components 0, 0 '"
      ]
     },
     "metadata": {},
     "output_type": "display_data"
    },
    {
     "data": {
      "text/latex": [
       "$$- \\Lambda f{\\left (t,r \\right )} + \\frac{f{\\left (t,r \\right )} \\frac{\\partial}{\\partial r} g{\\left (t,r \\right )}}{r g^{2}{\\left (t,r \\right )}} + \\frac{1}{r^{2}} f{\\left (t,r \\right )} - \\frac{f{\\left (t,r \\right )}}{r^{2} g{\\left (t,r \\right )}} = 0$$"
      ],
      "text/plain": [
       "                     ∂                                     \n",
       "             f(t, r)⋅──(g(t, r))                           \n",
       "                     ∂r            f(t, r)    f(t, r)      \n",
       "-Λ⋅f(t, r) + ─────────────────── + ─────── - ────────── = 0\n",
       "                     2                 2      2            \n",
       "                  r⋅g (t, r)          r      r ⋅g(t, r)    "
      ]
     },
     "metadata": {},
     "output_type": "display_data"
    },
    {
     "data": {
      "text/plain": [
       "'Components 0, 1 '"
      ]
     },
     "metadata": {},
     "output_type": "display_data"
    },
    {
     "data": {
      "text/latex": [
       "$$\\frac{\\frac{\\partial}{\\partial t} g{\\left (t,r \\right )}}{r g{\\left (t,r \\right )}} = 0$$"
      ],
      "text/plain": [
       "∂              \n",
       "──(g(t, r))    \n",
       "∂t             \n",
       "─────────── = 0\n",
       " r⋅g(t, r)     "
      ]
     },
     "metadata": {},
     "output_type": "display_data"
    },
    {
     "data": {
      "text/plain": [
       "'Components 0, 2 '"
      ]
     },
     "metadata": {},
     "output_type": "display_data"
    },
    {
     "data": {
      "text/latex": [
       "$$\\mathrm{True}$$"
      ],
      "text/plain": [
       "True"
      ]
     },
     "metadata": {},
     "output_type": "display_data"
    },
    {
     "data": {
      "text/plain": [
       "'Components 0, 3 '"
      ]
     },
     "metadata": {},
     "output_type": "display_data"
    },
    {
     "data": {
      "text/latex": [
       "$$\\mathrm{True}$$"
      ],
      "text/plain": [
       "True"
      ]
     },
     "metadata": {},
     "output_type": "display_data"
    },
    {
     "data": {
      "text/plain": [
       "'Components 1, 0 '"
      ]
     },
     "metadata": {},
     "output_type": "display_data"
    },
    {
     "data": {
      "text/latex": [
       "$$\\frac{\\frac{\\partial}{\\partial t} g{\\left (t,r \\right )}}{r g{\\left (t,r \\right )}} = 0$$"
      ],
      "text/plain": [
       "∂              \n",
       "──(g(t, r))    \n",
       "∂t             \n",
       "─────────── = 0\n",
       " r⋅g(t, r)     "
      ]
     },
     "metadata": {},
     "output_type": "display_data"
    },
    {
     "data": {
      "text/plain": [
       "'Components 1, 1 '"
      ]
     },
     "metadata": {},
     "output_type": "display_data"
    },
    {
     "data": {
      "text/latex": [
       "$$\\Lambda g{\\left (t,r \\right )} + \\frac{\\frac{\\partial}{\\partial r} f{\\left (t,r \\right )}}{r f{\\left (t,r \\right )}} - \\frac{1}{r^{2}} g{\\left (t,r \\right )} + \\frac{1}{r^{2}} = 0$$"
      ],
      "text/plain": [
       "            ∂                             \n",
       "            ──(f(t, r))                   \n",
       "            ∂r            g(t, r)   1     \n",
       "Λ⋅g(t, r) + ─────────── - ─────── + ── = 0\n",
       "             r⋅f(t, r)        2      2    \n",
       "                             r      r     "
      ]
     },
     "metadata": {},
     "output_type": "display_data"
    },
    {
     "data": {
      "text/plain": [
       "'Components 1, 2 '"
      ]
     },
     "metadata": {},
     "output_type": "display_data"
    },
    {
     "data": {
      "text/latex": [
       "$$\\mathrm{True}$$"
      ],
      "text/plain": [
       "True"
      ]
     },
     "metadata": {},
     "output_type": "display_data"
    },
    {
     "data": {
      "text/plain": [
       "'Components 1, 3 '"
      ]
     },
     "metadata": {},
     "output_type": "display_data"
    },
    {
     "data": {
      "text/latex": [
       "$$\\mathrm{True}$$"
      ],
      "text/plain": [
       "True"
      ]
     },
     "metadata": {},
     "output_type": "display_data"
    },
    {
     "data": {
      "text/plain": [
       "'Components 2, 0 '"
      ]
     },
     "metadata": {},
     "output_type": "display_data"
    },
    {
     "data": {
      "text/latex": [
       "$$\\mathrm{True}$$"
      ],
      "text/plain": [
       "True"
      ]
     },
     "metadata": {},
     "output_type": "display_data"
    },
    {
     "data": {
      "text/plain": [
       "'Components 2, 1 '"
      ]
     },
     "metadata": {},
     "output_type": "display_data"
    },
    {
     "data": {
      "text/latex": [
       "$$\\mathrm{True}$$"
      ],
      "text/plain": [
       "True"
      ]
     },
     "metadata": {},
     "output_type": "display_data"
    },
    {
     "data": {
      "text/plain": [
       "'Components 2, 2 '"
      ]
     },
     "metadata": {},
     "output_type": "display_data"
    },
    {
     "data": {
      "text/latex": [
       "$$\\frac{r}{4 f^{2}{\\left (t,r \\right )} g^{2}{\\left (t,r \\right )}} \\left(4 \\Lambda r f^{2}{\\left (t,r \\right )} g^{2}{\\left (t,r \\right )} + 2 r f{\\left (t,r \\right )} g{\\left (t,r \\right )} \\frac{\\partial^{2}}{\\partial r^{2}}  f{\\left (t,r \\right )} - 2 r f{\\left (t,r \\right )} g{\\left (t,r \\right )} \\frac{\\partial^{2}}{\\partial t^{2}}  g{\\left (t,r \\right )} - r f{\\left (t,r \\right )} \\frac{\\partial}{\\partial r} f{\\left (t,r \\right )} \\frac{\\partial}{\\partial r} g{\\left (t,r \\right )} + r f{\\left (t,r \\right )} \\left(\\frac{\\partial}{\\partial t} g{\\left (t,r \\right )}\\right)^{2} - r g{\\left (t,r \\right )} \\left(\\frac{\\partial}{\\partial r} f{\\left (t,r \\right )}\\right)^{2} + r g{\\left (t,r \\right )} \\frac{\\partial}{\\partial t} f{\\left (t,r \\right )} \\frac{\\partial}{\\partial t} g{\\left (t,r \\right )} - 2 f^{2}{\\left (t,r \\right )} \\frac{\\partial}{\\partial r} g{\\left (t,r \\right )} + 2 f{\\left (t,r \\right )} g{\\left (t,r \\right )} \\frac{\\partial}{\\partial r} f{\\left (t,r \\right )}\\right) = 0$$"
      ],
      "text/plain": [
       "  ⎛                                                2                          \n",
       "  ⎜       2        2                              ∂                           \n",
       "r⋅⎜4⋅Λ⋅r⋅f (t, r)⋅g (t, r) + 2⋅r⋅f(t, r)⋅g(t, r)⋅───(f(t, r)) - 2⋅r⋅f(t, r)⋅g(\n",
       "  ⎜                                                2                          \n",
       "  ⎝                                              ∂r                           \n",
       "──────────────────────────────────────────────────────────────────────────────\n",
       "                                                                              \n",
       "                                                                              \n",
       "\n",
       "        2                                                                     \n",
       "       ∂                       ∂           ∂                       ⎛∂         \n",
       "t, r)⋅───(g(t, r)) - r⋅f(t, r)⋅──(f(t, r))⋅──(g(t, r)) + r⋅f(t, r)⋅⎜──(g(t, r)\n",
       "        2                      ∂r          ∂r                      ⎝∂t        \n",
       "      ∂t                                                                      \n",
       "──────────────────────────────────────────────────────────────────────────────\n",
       "                                                       2        2             \n",
       "                                                    4⋅f (t, r)⋅g (t, r)       \n",
       "\n",
       "  2                          2                                                \n",
       " ⎞              ⎛∂          ⎞              ∂           ∂                2     \n",
       ")⎟  - r⋅g(t, r)⋅⎜──(f(t, r))⎟  + r⋅g(t, r)⋅──(f(t, r))⋅──(g(t, r)) - 2⋅f (t, r\n",
       " ⎠              ⎝∂r         ⎠              ∂t          ∂t                     \n",
       "                                                                              \n",
       "──────────────────────────────────────────────────────────────────────────────\n",
       "                                                                              \n",
       "                                                                              \n",
       "\n",
       "                                             ⎞    \n",
       "  ∂                               ∂          ⎟    \n",
       ")⋅──(g(t, r)) + 2⋅f(t, r)⋅g(t, r)⋅──(f(t, r))⎟    \n",
       "  ∂r                              ∂r         ⎟    \n",
       "                                             ⎠    \n",
       "────────────────────────────────────────────── = 0\n",
       "                                                  \n",
       "                                                  "
      ]
     },
     "metadata": {},
     "output_type": "display_data"
    },
    {
     "data": {
      "text/plain": [
       "'Components 2, 3 '"
      ]
     },
     "metadata": {},
     "output_type": "display_data"
    },
    {
     "data": {
      "text/latex": [
       "$$\\mathrm{True}$$"
      ],
      "text/plain": [
       "True"
      ]
     },
     "metadata": {},
     "output_type": "display_data"
    },
    {
     "data": {
      "text/plain": [
       "'Components 3, 0 '"
      ]
     },
     "metadata": {},
     "output_type": "display_data"
    },
    {
     "data": {
      "text/latex": [
       "$$\\mathrm{True}$$"
      ],
      "text/plain": [
       "True"
      ]
     },
     "metadata": {},
     "output_type": "display_data"
    },
    {
     "data": {
      "text/plain": [
       "'Components 3, 1 '"
      ]
     },
     "metadata": {},
     "output_type": "display_data"
    },
    {
     "data": {
      "text/latex": [
       "$$\\mathrm{True}$$"
      ],
      "text/plain": [
       "True"
      ]
     },
     "metadata": {},
     "output_type": "display_data"
    },
    {
     "data": {
      "text/plain": [
       "'Components 3, 2 '"
      ]
     },
     "metadata": {},
     "output_type": "display_data"
    },
    {
     "data": {
      "text/latex": [
       "$$\\mathrm{True}$$"
      ],
      "text/plain": [
       "True"
      ]
     },
     "metadata": {},
     "output_type": "display_data"
    },
    {
     "data": {
      "text/plain": [
       "'Components 3, 3 '"
      ]
     },
     "metadata": {},
     "output_type": "display_data"
    },
    {
     "data": {
      "text/latex": [
       "$$\\frac{r \\sin^{2}{\\left (\\theta \\right )}}{4 f^{2}{\\left (t,r \\right )} g^{2}{\\left (t,r \\right )}} \\left(4 \\Lambda r f^{2}{\\left (t,r \\right )} g^{2}{\\left (t,r \\right )} - r \\left(\\frac{\\partial}{\\partial r} f{\\left (t,r \\right )} \\frac{\\partial}{\\partial r} g{\\left (t,r \\right )} - \\left(\\frac{\\partial}{\\partial t} g{\\left (t,r \\right )}\\right)^{2}\\right) f{\\left (t,r \\right )} - r \\left(\\left(\\frac{\\partial}{\\partial r} f{\\left (t,r \\right )}\\right)^{2} - \\frac{\\partial}{\\partial t} f{\\left (t,r \\right )} \\frac{\\partial}{\\partial t} g{\\left (t,r \\right )}\\right) g{\\left (t,r \\right )} + 2 r \\left(\\frac{\\partial^{2}}{\\partial r^{2}}  f{\\left (t,r \\right )} - \\frac{\\partial^{2}}{\\partial t^{2}}  g{\\left (t,r \\right )}\\right) f{\\left (t,r \\right )} g{\\left (t,r \\right )} - 2 f^{2}{\\left (t,r \\right )} \\frac{\\partial}{\\partial r} g{\\left (t,r \\right )} + 2 f{\\left (t,r \\right )} g{\\left (t,r \\right )} \\frac{\\partial}{\\partial r} f{\\left (t,r \\right )}\\right) = 0$$"
      ],
      "text/plain": [
       "  ⎛                            ⎛                                       2⎞     \n",
       "  ⎜       2        2           ⎜∂           ∂             ⎛∂          ⎞ ⎟     \n",
       "r⋅⎜4⋅Λ⋅r⋅f (t, r)⋅g (t, r) - r⋅⎜──(f(t, r))⋅──(g(t, r)) - ⎜──(g(t, r))⎟ ⎟⋅f(t,\n",
       "  ⎜                            ⎝∂r          ∂r            ⎝∂t         ⎠ ⎠     \n",
       "  ⎝                                                                           \n",
       "──────────────────────────────────────────────────────────────────────────────\n",
       "                                                                              \n",
       "                                                                              \n",
       "\n",
       "        ⎛             2                          ⎞               ⎛  2         \n",
       "        ⎜⎛∂          ⎞    ∂           ∂          ⎟               ⎜ ∂          \n",
       " r) - r⋅⎜⎜──(f(t, r))⎟  - ──(f(t, r))⋅──(g(t, r))⎟⋅g(t, r) + 2⋅r⋅⎜───(f(t, r))\n",
       "        ⎝⎝∂r         ⎠    ∂t          ∂t         ⎠               ⎜  2         \n",
       "                                                                 ⎝∂r          \n",
       "──────────────────────────────────────────────────────────────────────────────\n",
       "                                          2        2                          \n",
       "                                       4⋅f (t, r)⋅g (t, r)                    \n",
       "\n",
       "     2         ⎞                                                              \n",
       "    ∂          ⎟                      2       ∂                               \n",
       " - ───(g(t, r))⎟⋅f(t, r)⋅g(t, r) - 2⋅f (t, r)⋅──(g(t, r)) + 2⋅f(t, r)⋅g(t, r)⋅\n",
       "     2         ⎟                              ∂r                              \n",
       "   ∂t          ⎠                                                              \n",
       "──────────────────────────────────────────────────────────────────────────────\n",
       "                                                                              \n",
       "                                                                              \n",
       "\n",
       "           ⎞            \n",
       "∂          ⎟    2       \n",
       "──(f(t, r))⎟⋅sin (θ)    \n",
       "∂r         ⎟            \n",
       "           ⎠            \n",
       "──────────────────── = 0\n",
       "                        \n",
       "                        "
      ]
     },
     "metadata": {},
     "output_type": "display_data"
    }
   ],
   "source": [
    "thingtosolve=simplify(manual_Ricci-\\\n",
    "                             nsimplify(1./2)*manual_R*R3_Metric_matrix+\\\n",
    "                            lam*R3_Metric_matrix)\n",
    "for i in range(len(R3_Metric_matrix[:,0])):\n",
    "    for k in range(len(R3_Metric_matrix[:,0])):\n",
    "        if(True):#manual_Ricci[i,k]!=0):\n",
    "            display('Components %i, %i '%(i,k),Eq(thingtosolve[i,k],0))"
   ]
  },
  {
   "cell_type": "code",
   "execution_count": 89,
   "metadata": {
    "collapsed": true
   },
   "outputs": [],
   "source": [
    "f = Function('f')\n",
    "f_r=f(r)\n",
    "g = Function('g')\n",
    "g_r=g(r)"
   ]
  },
  {
   "cell_type": "markdown",
   "metadata": {},
   "source": [
    "De la componente 0,1 tenemos que $g(t,r)=g(r)$."
   ]
  },
  {
   "cell_type": "code",
   "execution_count": 100,
   "metadata": {
    "scrolled": true
   },
   "outputs": [
    {
     "data": {
      "text/plain": [
       "'Solucion para g de la componente 0,0'"
      ]
     },
     "metadata": {},
     "output_type": "display_data"
    },
    {
     "data": {
      "text/latex": [
       "$$g{\\left (r \\right )} = - \\frac{3 r}{C_{1} + \\Lambda r^{3} - 3 r}$$"
      ],
      "text/plain": [
       "            -3⋅r      \n",
       "g(r) = ───────────────\n",
       "               3      \n",
       "       C₁ + Λ⋅r  - 3⋅r"
      ]
     },
     "metadata": {},
     "output_type": "display_data"
    }
   ],
   "source": [
    "g_sol=simplify(dsolve(Eq(simplify(thingtosolve[0,0].subs(g_met, g_r).doit(),0)/f_met),g_r,ics={g(oo):0}))\n",
    "display('Solucion para g de la componente 0,0',g_sol)"
   ]
  },
  {
   "cell_type": "code",
   "execution_count": 103,
   "metadata": {},
   "outputs": [],
   "source": [
    "f_sol=pdsolve(Eq(simplify(thingtosolve[1,1].subs(g_met, g_sol.rhs).doit(),0)))\n",
    "f_sol=factor(dsolve(Eq(simplify(thingtosolve[1,1].subs(g_met, g_sol.rhs).subs(f_met,f_r).doit(),0))))"
   ]
  },
  {
   "cell_type": "code",
   "execution_count": 122,
   "metadata": {},
   "outputs": [
    {
     "data": {
      "text/latex": [
       "$$f{\\left (r \\right )} = \\frac{C_{1}}{\\Lambda r} \\left(C_{2} + \\Lambda r^{3} - 3 r\\right)$$"
      ],
      "text/plain": [
       "          ⎛        3      ⎞\n",
       "       C₁⋅⎝C₂ + Λ⋅r  - 3⋅r⎠\n",
       "f(r) = ────────────────────\n",
       "               Λ⋅r         "
      ]
     },
     "execution_count": 122,
     "metadata": {},
     "output_type": "execute_result"
    }
   ],
   "source": [
    "from sympy.solvers.ode import constantsimp\n",
    "c1, c2 = symbols('C_1 C_2')\n",
    "f_sol"
   ]
  },
  {
   "cell_type": "code",
   "execution_count": 127,
   "metadata": {},
   "outputs": [
    {
     "data": {
      "text/latex": [
       "$$\\frac{3 \\left(C_{1} \\Lambda r^{2} - C_{1} - C_{2} \\Lambda r^{2} + C_{2}\\right)}{r \\left(C_{1} C_{2} + C_{1} \\Lambda r^{3} - 3 C_{1} r + C_{2} \\Lambda r^{3} - 3 C_{2} r + \\Lambda^{2} r^{6} - 6 \\Lambda r^{4} + 9 r^{2}\\right)}$$"
      ],
      "text/plain": [
       "                      ⎛      2              2     ⎞                    \n",
       "                    3⋅⎝C₁⋅Λ⋅r  - C₁ - C₂⋅Λ⋅r  + C₂⎠                    \n",
       "───────────────────────────────────────────────────────────────────────\n",
       "  ⎛              3                  3             2  6        4      2⎞\n",
       "r⋅⎝C₁⋅C₂ + C₁⋅Λ⋅r  - 3⋅C₁⋅r + C₂⋅Λ⋅r  - 3⋅C₂⋅r + Λ ⋅r  - 6⋅Λ⋅r  + 9⋅r ⎠"
      ]
     },
     "metadata": {},
     "output_type": "display_data"
    },
    {
     "data": {
      "text/latex": [
       "$$\\left [ \\left \\{ C_{1} : C_{2}\\right \\}, \\quad \\left \\{ \\Lambda : \\frac{1}{r^{2}}\\right \\}\\right ]$$"
      ],
      "text/plain": [
       "⎡          ⎧   1 ⎫⎤\n",
       "⎢{C₁: C₂}, ⎪Λ: ──⎪⎥\n",
       "⎢          ⎨    2⎬⎥\n",
       "⎢          ⎪   r ⎪⎥\n",
       "⎣          ⎩     ⎭⎦"
      ]
     },
     "execution_count": 127,
     "metadata": {},
     "output_type": "execute_result"
    }
   ],
   "source": [
    "display(simplify(thingtosolve[1,1].subs(g_met, g_sol.rhs).subs(f_met, f_sol.rhs).doit()))\n",
    "solve(simplify(thingtosolve[1,1].subs(g_met, g_sol.rhs).subs(f_met, f_sol.rhs).doit()))"
   ]
  },
  {
   "cell_type": "code",
   "execution_count": 129,
   "metadata": {},
   "outputs": [
    {
     "data": {
      "text/latex": [
       "$$\\frac{- 3 C_{1} C_{2} \\Lambda r^{2} - C_{1} C_{2} + 2 C_{1} \\Lambda r^{3} + 6 C_{1} r + 3 C_{2}^{2} \\Lambda r^{2} + C_{2}^{2} - 2 C_{2} \\Lambda r^{3} - 6 C_{2} r}{4 \\left(C_{2}^{2} + 2 C_{2} \\Lambda r^{3} - 6 C_{2} r + \\Lambda^{2} r^{6} - 6 \\Lambda r^{4} + 9 r^{2}\\right)}$$"
      ],
      "text/plain": [
       "             2                   3                2    2     2           3    \n",
       "- 3⋅C₁⋅C₂⋅Λ⋅r  - C₁⋅C₂ + 2⋅C₁⋅Λ⋅r  + 6⋅C₁⋅r + 3⋅C₂ ⋅Λ⋅r  + C₂  - 2⋅C₂⋅Λ⋅r  - 6\n",
       "──────────────────────────────────────────────────────────────────────────────\n",
       "                  ⎛  2           3             2  6        4      2⎞          \n",
       "                4⋅⎝C₂  + 2⋅C₂⋅Λ⋅r  - 6⋅C₂⋅r + Λ ⋅r  - 6⋅Λ⋅r  + 9⋅r ⎠          \n",
       "\n",
       "     \n",
       "⋅C₂⋅r\n",
       "─────\n",
       "     \n",
       "     "
      ]
     },
     "metadata": {},
     "output_type": "display_data"
    },
    {
     "data": {
      "text/latex": [
       "$$\\left [ \\left \\{ C_{1} : C_{2}\\right \\}, \\quad \\left \\{ \\Lambda : \\frac{C_{2} - 6 r}{r^{2} \\left(- 3 C_{2} + 2 r\\right)}\\right \\}\\right ]$$"
      ],
      "text/plain": [
       "⎡          ⎧       C₂ - 6⋅r    ⎫⎤\n",
       "⎢{C₁: C₂}, ⎪Λ: ────────────────⎪⎥\n",
       "⎢          ⎨    2              ⎬⎥\n",
       "⎢          ⎪   r ⋅(-3⋅C₂ + 2⋅r)⎪⎥\n",
       "⎣          ⎩                   ⎭⎦"
      ]
     },
     "execution_count": 129,
     "metadata": {},
     "output_type": "execute_result"
    }
   ],
   "source": [
    "display(simplify(thingtosolve[2,2].subs(g_met, g_sol.rhs).subs(f_met, f_sol.rhs).doit()))\n",
    "solve(simplify(thingtosolve[2,2].subs(g_met, g_sol.rhs).subs(f_met, f_sol.rhs).doit()))"
   ]
  },
  {
   "cell_type": "code",
   "execution_count": 131,
   "metadata": {},
   "outputs": [
    {
     "data": {
      "text/latex": [
       "$$\\frac{\\left(- 3 C_{1} C_{2} \\Lambda r^{2} - C_{1} C_{2} + 2 C_{1} \\Lambda r^{3} + 6 C_{1} r + 3 C_{2}^{2} \\Lambda r^{2} + C_{2}^{2} - 2 C_{2} \\Lambda r^{3} - 6 C_{2} r\\right) \\sin^{2}{\\left (\\theta \\right )}}{4 \\left(C_{2}^{2} + 2 C_{2} \\Lambda r^{3} - 6 C_{2} r + \\Lambda^{2} r^{6} - 6 \\Lambda r^{4} + 9 r^{2}\\right)}$$"
      ],
      "text/plain": [
       "⎛             2                   3                2    2     2           3   \n",
       "⎝- 3⋅C₁⋅C₂⋅Λ⋅r  - C₁⋅C₂ + 2⋅C₁⋅Λ⋅r  + 6⋅C₁⋅r + 3⋅C₂ ⋅Λ⋅r  + C₂  - 2⋅C₂⋅Λ⋅r  - \n",
       "──────────────────────────────────────────────────────────────────────────────\n",
       "                       ⎛  2           3             2  6        4      2⎞     \n",
       "                     4⋅⎝C₂  + 2⋅C₂⋅Λ⋅r  - 6⋅C₂⋅r + Λ ⋅r  - 6⋅Λ⋅r  + 9⋅r ⎠     \n",
       "\n",
       "      ⎞    2   \n",
       "6⋅C₂⋅r⎠⋅sin (θ)\n",
       "───────────────\n",
       "               \n",
       "               "
      ]
     },
     "metadata": {},
     "output_type": "display_data"
    },
    {
     "data": {
      "text/latex": [
       "$$\\left [ \\left \\{ C_{1} : C_{2}\\right \\}, \\quad \\left \\{ \\Lambda : \\frac{C_{2} - 6 r}{r^{2} \\left(- 3 C_{2} + 2 r\\right)}\\right \\}, \\quad \\left \\{ \\theta : 0\\right \\}, \\quad \\left \\{ \\theta : \\pi\\right \\}\\right ]$$"
      ],
      "text/plain": [
       "⎡          ⎧       C₂ - 6⋅r    ⎫                ⎤\n",
       "⎢{C₁: C₂}, ⎪Λ: ────────────────⎪, {θ: 0}, {θ: π}⎥\n",
       "⎢          ⎨    2              ⎬                ⎥\n",
       "⎢          ⎪   r ⋅(-3⋅C₂ + 2⋅r)⎪                ⎥\n",
       "⎣          ⎩                   ⎭                ⎦"
      ]
     },
     "execution_count": 131,
     "metadata": {},
     "output_type": "execute_result"
    }
   ],
   "source": [
    "display(simplify(thingtosolve[3,3].subs(g_met, g_sol.rhs).subs(f_met, f_sol.rhs).doit()))\n",
    "solve(simplify(thingtosolve[3,3].subs(g_met, g_sol.rhs).subs(f_met, f_sol.rhs).doit()))"
   ]
  },
  {
   "cell_type": "code",
   "execution_count": null,
   "metadata": {
    "collapsed": true
   },
   "outputs": [],
   "source": []
  },
  {
   "cell_type": "code",
   "execution_count": 73,
   "metadata": {},
   "outputs": [
    {
     "data": {
      "text/latex": [
       "$$\\left[\\begin{matrix}- \\frac{C_{1}}{\\Lambda r} \\left(\\Lambda r^{3} - 3 r + F{\\left (t \\right )}\\right) & 0 & 0 & 0\\\\0 & - \\frac{3 r}{C_{1} + \\Lambda r^{3} - 3 r} & 0 & 0\\\\0 & 0 & r^{2} & 0\\\\0 & 0 & 0 & r^{2} \\sin^{2}{\\left (\\theta \\right )}\\end{matrix}\\right]$$"
      ],
      "text/plain": [
       "⎡    ⎛   3             ⎞                                  ⎤\n",
       "⎢-C₁⋅⎝Λ⋅r  - 3⋅r + F(t)⎠                                  ⎥\n",
       "⎢────────────────────────         0         0       0     ⎥\n",
       "⎢          Λ⋅r                                            ⎥\n",
       "⎢                                                         ⎥\n",
       "⎢                               -3⋅r                      ⎥\n",
       "⎢           0              ───────────────  0       0     ⎥\n",
       "⎢                                  3                      ⎥\n",
       "⎢                          C₁ + Λ⋅r  - 3⋅r                ⎥\n",
       "⎢                                                         ⎥\n",
       "⎢                                            2            ⎥\n",
       "⎢           0                     0         r       0     ⎥\n",
       "⎢                                                         ⎥\n",
       "⎢                                                2    2   ⎥\n",
       "⎣           0                     0         0   r ⋅sin (θ)⎦"
      ]
     },
     "metadata": {},
     "output_type": "display_data"
    },
    {
     "data": {
      "text/latex": [
       "$$\\left[\\begin{matrix}- \\frac{\\Lambda r}{C_{1} \\left(\\Lambda r^{3} - 3 r + F{\\left (t \\right )}\\right)} & 0 & 0 & 0\\\\0 & - \\frac{1}{3 r} \\left(C_{1} + \\Lambda r^{3} - 3 r\\right) & 0 & 0\\\\0 & 0 & \\frac{1}{r^{2}} & 0\\\\0 & 0 & 0 & \\frac{1}{r^{2} \\sin^{2}{\\left (\\theta \\right )}}\\end{matrix}\\right]$$"
      ],
      "text/plain": [
       "⎡        -Λ⋅r                                               ⎤\n",
       "⎢──────────────────────           0           0       0     ⎥\n",
       "⎢   ⎛   3             ⎞                                     ⎥\n",
       "⎢C₁⋅⎝Λ⋅r  - 3⋅r + F(t)⎠                                     ⎥\n",
       "⎢                                                           ⎥\n",
       "⎢                         ⎛        3      ⎞                 ⎥\n",
       "⎢                        -⎝C₁ + Λ⋅r  - 3⋅r⎠                 ⎥\n",
       "⎢          0             ───────────────────  0       0     ⎥\n",
       "⎢                                3⋅r                        ⎥\n",
       "⎢                                                           ⎥\n",
       "⎢                                             1             ⎥\n",
       "⎢          0                      0           ──      0     ⎥\n",
       "⎢                                              2            ⎥\n",
       "⎢                                             r             ⎥\n",
       "⎢                                                           ⎥\n",
       "⎢                                                     1     ⎥\n",
       "⎢          0                      0           0   ──────────⎥\n",
       "⎢                                                  2    2   ⎥\n",
       "⎣                                                 r ⋅sin (θ)⎦"
      ]
     },
     "metadata": {},
     "output_type": "display_data"
    }
   ],
   "source": [
    "R3_Metric_matrix=Matrix([[-f_sol.rhs, 0, 0, 0], [0, g_sol.rhs, 0, 0],\\\n",
    "                         [0, 0, r**2, 0], [0, 0, 0, r**2*sin(th)**2]])\n",
    "display(R3_Metric_matrix, R3_Metric_matrix.inv())\n",
    "def Christ(m , i, j, metric=R3_Metric_matrix):\n",
    "    inv_metric=metric.inv()\n",
    "    term1, term2, term3=0, 0, 0\n",
    "    for k in range(len(R3_Metric_matrix[:,0])):\n",
    "        term1+=inv_metric[m, k]*Derivative(metric[k, i], coords_vec[j]).doit()\n",
    "        term2+=inv_metric[m, k]*Derivative(metric[k, j], coords_vec[i]).doit()\n",
    "        term3+=-inv_metric[m, k]*Derivative(metric[i,j], coords_vec[k]).doit()\n",
    "    return nsimplify(1./2)*(term1+term2+term3)\n",
    "#Build whole Christoffel\n",
    "manual_christ = MutableDenseNDimArray([[[0,0,0,0],[0,0,0,0],[0,0,0,0],[0,0,0,0]], \\\n",
    "                                     [[0,0,0,0],[0,0,0,0],[0,0,0,0],[0,0,0,0]],\\\n",
    "                                     [[0,0,0,0],[0,0,0,0],[0,0,0,0],[0,0,0,0]],\\\n",
    "                                      [[0,0,0,0],[0,0,0,0],[0,0,0,0],[0,0,0,0]]])\n",
    "for i in range(len(R3_Metric_matrix[:,0])):\n",
    "    for k in range(len(R3_Metric_matrix[:,0])):\n",
    "        for j in range(len(R3_Metric_matrix[:,0])):\n",
    "            manual_christ[i,k, j]=Christ(i, k, j)\n",
    "def Ricci(i, j, ch):\n",
    "    sum1, sum2, sum3, sum4=0, 0, 0, 0\n",
    "    for l in range(len(R3_Metric_matrix[:,0])):\n",
    "        sum1+=Derivative(ch[l, i, j], coords_vec[l])\n",
    "        sum2+=-Derivative(ch[l, i, l], coords_vec[j])\n",
    "    for m in range(len(R3_Metric_matrix[:,0])):\n",
    "        for l in range(len(R3_Metric_matrix[:,0])):\n",
    "            sum3+=ch[m, i, j]*ch[l, l, m]\n",
    "            sum4+=-ch[m, i, l]*ch[l, j, m]\n",
    "    return simplify(sum1+sum2+sum3+sum4)\n",
    "    \n",
    "\n",
    "manual_Ricci = MutableDenseMatrix([[0, 0, 0,0],[0, 0, 0,0],[0, 0, 0,0],[0, 0, 0,0]])\n",
    "for i in range(len(R3_Metric_matrix[:,0])):\n",
    "    for k in range(len(R3_Metric_matrix[:,0])):\n",
    "        manual_Ricci[i,k]=simplify(Ricci(i, k, manual_christ).doit())"
   ]
  },
  {
   "cell_type": "code",
   "execution_count": 81,
   "metadata": {},
   "outputs": [
    {
     "data": {
      "text/latex": [
       "$$\\frac{\\left(C_{1} + \\Lambda r^{3} - 3 r\\right) \\left(- 6 C_{1} \\Lambda^{2} r^{5} + 18 C_{1} \\Lambda r^{3} + 3 C_{1} \\Lambda r^{2} F{\\left (t \\right )} - 36 C_{1} r + 9 C_{1} F{\\left (t \\right )} + 12 \\Lambda^{3} r^{8} - 72 \\Lambda^{2} r^{6} + 30 \\Lambda^{2} r^{5} F{\\left (t \\right )} + 108 \\Lambda r^{4} - 90 \\Lambda r^{3} F{\\left (t \\right )} + 9 \\Lambda r^{2} F^{2}{\\left (t \\right )} + 36 r F{\\left (t \\right )} - 9 F^{2}{\\left (t \\right )}\\right)}{12 r^{2} \\left(C_{1} \\Lambda^{2} r^{6} - 6 C_{1} \\Lambda r^{4} + 2 C_{1} \\Lambda r^{3} F{\\left (t \\right )} + 9 C_{1} r^{2} - 6 C_{1} r F{\\left (t \\right )} + C_{1} F^{2}{\\left (t \\right )} + \\Lambda^{3} r^{9} - 9 \\Lambda^{2} r^{7} + 2 \\Lambda^{2} r^{6} F{\\left (t \\right )} + 27 \\Lambda r^{5} - 12 \\Lambda r^{4} F{\\left (t \\right )} + \\Lambda r^{3} F^{2}{\\left (t \\right )} - 27 r^{3} + 18 r^{2} F{\\left (t \\right )} - 3 r F^{2}{\\left (t \\right )}\\right)} + \\frac{1}{r^{2} \\left(\\Lambda r^{3} - 3 r + F{\\left (t \\right )}\\right)} \\left(C_{1} \\Lambda r^{2} - C_{1} + 2 \\Lambda^{2} r^{5} - 6 \\Lambda r^{3} + \\Lambda r^{2} F{\\left (t \\right )} + F{\\left (t \\right )}\\right) + \\frac{1}{4 r^{2} \\left(\\Lambda r^{3} - 3 r + F{\\left (t \\right )}\\right)^{2}} \\left(2 C_{1} \\Lambda^{2} r^{5} - 10 C_{1} \\Lambda r^{3} + 5 C_{1} \\Lambda r^{2} F{\\left (t \\right )} - C_{1} F{\\left (t \\right )} + 4 \\Lambda^{3} r^{8} - 24 \\Lambda^{2} r^{6} + 6 \\Lambda^{2} r^{5} F{\\left (t \\right )} + 36 \\Lambda r^{4} - 14 \\Lambda r^{3} F{\\left (t \\right )} - \\Lambda r^{2} F^{2}{\\left (t \\right )} + F^{2}{\\left (t \\right )}\\right)$$"
      ],
      "text/plain": [
       "⎛        3      ⎞ ⎛        2  5            3           2                      \n",
       "⎝C₁ + Λ⋅r  - 3⋅r⎠⋅⎝- 6⋅C₁⋅Λ ⋅r  + 18⋅C₁⋅Λ⋅r  + 3⋅C₁⋅Λ⋅r ⋅F(t) - 36⋅C₁⋅r + 9⋅C₁\n",
       "──────────────────────────────────────────────────────────────────────────────\n",
       "     2 ⎛    2  6           4           3              2                     2 \n",
       " 12⋅r ⋅⎝C₁⋅Λ ⋅r  - 6⋅C₁⋅Λ⋅r  + 2⋅C₁⋅Λ⋅r ⋅F(t) + 9⋅C₁⋅r  - 6⋅C₁⋅r⋅F(t) + C₁⋅F (\n",
       "                                                                              \n",
       "\n",
       "            3  8       2  6       2  5               4         3             2\n",
       "⋅F(t) + 12⋅Λ ⋅r  - 72⋅Λ ⋅r  + 30⋅Λ ⋅r ⋅F(t) + 108⋅Λ⋅r  - 90⋅Λ⋅r ⋅F(t) + 9⋅Λ⋅r \n",
       "──────────────────────────────────────────────────────────────────────────────\n",
       "      3  9      2  7      2  6              5         4           3  2        \n",
       "t) + Λ ⋅r  - 9⋅Λ ⋅r  + 2⋅Λ ⋅r ⋅F(t) + 27⋅Λ⋅r  - 12⋅Λ⋅r ⋅F(t) + Λ⋅r ⋅F (t) - 27\n",
       "                                                                              \n",
       "\n",
       "  2                     2   ⎞         2           2  5        3      2        \n",
       "⋅F (t) + 36⋅r⋅F(t) - 9⋅F (t)⎠   C₁⋅Λ⋅r  - C₁ + 2⋅Λ ⋅r  - 6⋅Λ⋅r  + Λ⋅r ⋅F(t) + \n",
       "───────────────────────────── + ──────────────────────────────────────────────\n",
       "  3       2             2   ⎞                  2 ⎛   3             ⎞          \n",
       "⋅r  + 18⋅r ⋅F(t) - 3⋅r⋅F (t)⎠                 r ⋅⎝Λ⋅r  - 3⋅r + F(t)⎠          \n",
       "                                                                              \n",
       "\n",
       "             2  5            3           2                     3  8       2  6\n",
       "F(t)   2⋅C₁⋅Λ ⋅r  - 10⋅C₁⋅Λ⋅r  + 5⋅C₁⋅Λ⋅r ⋅F(t) - C₁⋅F(t) + 4⋅Λ ⋅r  - 24⋅Λ ⋅r \n",
       "──── + ───────────────────────────────────────────────────────────────────────\n",
       "                                                                              \n",
       "                                                               2 ⎛   3        \n",
       "                                                            4⋅r ⋅⎝Λ⋅r  - 3⋅r +\n",
       "\n",
       "      2  5              4         3           2  2       2   \n",
       " + 6⋅Λ ⋅r ⋅F(t) + 36⋅Λ⋅r  - 14⋅Λ⋅r ⋅F(t) - Λ⋅r ⋅F (t) + F (t)\n",
       "─────────────────────────────────────────────────────────────\n",
       "      2                                                      \n",
       "     ⎞                                                       \n",
       " F(t)⎠                                                       "
      ]
     },
     "metadata": {},
     "output_type": "display_data"
    }
   ],
   "source": [
    "lam=symbols('Lambda')\n",
    "def R_scalar(metric, ricci):\n",
    "    inv_met=metric.inv()\n",
    "    R=0\n",
    "    for i in range(len(R3_Metric_matrix[:,0])):\n",
    "        for k in range(len(R3_Metric_matrix[:,0])):\n",
    "            R+=inv_met[i,k]*ricci[i,k]\n",
    "    return R\n",
    "manual_R=R_scalar(R3_Metric_matrix,manual_Ricci)\n",
    "display(manual_R)"
   ]
  },
  {
   "cell_type": "code",
   "execution_count": 82,
   "metadata": {
    "scrolled": false
   },
   "outputs": [
    {
     "data": {
      "text/plain": [
       "'Components 0, 0 '"
      ]
     },
     "metadata": {},
     "output_type": "display_data"
    },
    {
     "data": {
      "text/latex": [
       "$$\\mathrm{True}$$"
      ],
      "text/plain": [
       "True"
      ]
     },
     "metadata": {},
     "output_type": "display_data"
    },
    {
     "data": {
      "text/plain": [
       "'Components 0, 1 '"
      ]
     },
     "metadata": {},
     "output_type": "display_data"
    },
    {
     "data": {
      "text/latex": [
       "$$\\mathrm{True}$$"
      ],
      "text/plain": [
       "True"
      ]
     },
     "metadata": {},
     "output_type": "display_data"
    },
    {
     "data": {
      "text/plain": [
       "'Components 0, 2 '"
      ]
     },
     "metadata": {},
     "output_type": "display_data"
    },
    {
     "data": {
      "text/latex": [
       "$$\\mathrm{True}$$"
      ],
      "text/plain": [
       "True"
      ]
     },
     "metadata": {},
     "output_type": "display_data"
    },
    {
     "data": {
      "text/plain": [
       "'Components 0, 3 '"
      ]
     },
     "metadata": {},
     "output_type": "display_data"
    },
    {
     "data": {
      "text/latex": [
       "$$\\mathrm{True}$$"
      ],
      "text/plain": [
       "True"
      ]
     },
     "metadata": {},
     "output_type": "display_data"
    },
    {
     "data": {
      "text/plain": [
       "'Components 1, 0 '"
      ]
     },
     "metadata": {},
     "output_type": "display_data"
    },
    {
     "data": {
      "text/latex": [
       "$$\\mathrm{True}$$"
      ],
      "text/plain": [
       "True"
      ]
     },
     "metadata": {},
     "output_type": "display_data"
    },
    {
     "data": {
      "text/plain": [
       "'Components 1, 1 '"
      ]
     },
     "metadata": {},
     "output_type": "display_data"
    },
    {
     "data": {
      "text/latex": [
       "$$\\frac{3 \\left(C_{1} \\Lambda r^{2} - C_{1} - \\Lambda r^{2} F{\\left (t \\right )} + F{\\left (t \\right )}\\right)}{r \\left(C_{1} \\Lambda r^{3} - 3 C_{1} r + C_{1} F{\\left (t \\right )} + \\Lambda^{2} r^{6} - 6 \\Lambda r^{4} + \\Lambda r^{3} F{\\left (t \\right )} + 9 r^{2} - 3 r F{\\left (t \\right )}\\right)} = 0$$"
      ],
      "text/plain": [
       "                       ⎛      2           2            ⎞                      \n",
       "                     3⋅⎝C₁⋅Λ⋅r  - C₁ - Λ⋅r ⋅F(t) + F(t)⎠                      \n",
       "───────────────────────────────────────────────────────────────────────────── \n",
       "  ⎛      3                       2  6        4      3           2           ⎞ \n",
       "r⋅⎝C₁⋅Λ⋅r  - 3⋅C₁⋅r + C₁⋅F(t) + Λ ⋅r  - 6⋅Λ⋅r  + Λ⋅r ⋅F(t) + 9⋅r  - 3⋅r⋅F(t)⎠ \n",
       "\n",
       "   \n",
       "   \n",
       "= 0\n",
       "   \n",
       "   "
      ]
     },
     "metadata": {},
     "output_type": "display_data"
    },
    {
     "data": {
      "text/plain": [
       "'Components 1, 2 '"
      ]
     },
     "metadata": {},
     "output_type": "display_data"
    },
    {
     "data": {
      "text/latex": [
       "$$\\mathrm{True}$$"
      ],
      "text/plain": [
       "True"
      ]
     },
     "metadata": {},
     "output_type": "display_data"
    },
    {
     "data": {
      "text/plain": [
       "'Components 1, 3 '"
      ]
     },
     "metadata": {},
     "output_type": "display_data"
    },
    {
     "data": {
      "text/latex": [
       "$$\\mathrm{True}$$"
      ],
      "text/plain": [
       "True"
      ]
     },
     "metadata": {},
     "output_type": "display_data"
    },
    {
     "data": {
      "text/plain": [
       "'Components 2, 0 '"
      ]
     },
     "metadata": {},
     "output_type": "display_data"
    },
    {
     "data": {
      "text/latex": [
       "$$\\mathrm{True}$$"
      ],
      "text/plain": [
       "True"
      ]
     },
     "metadata": {},
     "output_type": "display_data"
    },
    {
     "data": {
      "text/plain": [
       "'Components 2, 1 '"
      ]
     },
     "metadata": {},
     "output_type": "display_data"
    },
    {
     "data": {
      "text/latex": [
       "$$\\mathrm{True}$$"
      ],
      "text/plain": [
       "True"
      ]
     },
     "metadata": {},
     "output_type": "display_data"
    },
    {
     "data": {
      "text/plain": [
       "'Components 2, 2 '"
      ]
     },
     "metadata": {},
     "output_type": "display_data"
    },
    {
     "data": {
      "text/latex": [
       "$$\\frac{2 C_{1} \\Lambda r^{3} - 3 C_{1} \\Lambda r^{2} F{\\left (t \\right )} + 6 C_{1} r - C_{1} F{\\left (t \\right )} - 2 \\Lambda r^{3} F{\\left (t \\right )} + 3 \\Lambda r^{2} F^{2}{\\left (t \\right )} - 6 r F{\\left (t \\right )} + F^{2}{\\left (t \\right )}}{4 \\left(\\Lambda^{2} r^{6} - 6 \\Lambda r^{4} + 2 \\Lambda r^{3} F{\\left (t \\right )} + 9 r^{2} - 6 r F{\\left (t \\right )} + F^{2}{\\left (t \\right )}\\right)} = 0$$"
      ],
      "text/plain": [
       "        3           2                                3             2  2       \n",
       "2⋅C₁⋅Λ⋅r  - 3⋅C₁⋅Λ⋅r ⋅F(t) + 6⋅C₁⋅r - C₁⋅F(t) - 2⋅Λ⋅r ⋅F(t) + 3⋅Λ⋅r ⋅F (t) - 6\n",
       "──────────────────────────────────────────────────────────────────────────────\n",
       "                    ⎛ 2  6        4        3           2               2   ⎞  \n",
       "                  4⋅⎝Λ ⋅r  - 6⋅Λ⋅r  + 2⋅Λ⋅r ⋅F(t) + 9⋅r  - 6⋅r⋅F(t) + F (t)⎠  \n",
       "\n",
       "           2       \n",
       "⋅r⋅F(t) + F (t)    \n",
       "─────────────── = 0\n",
       "                   \n",
       "                   "
      ]
     },
     "metadata": {},
     "output_type": "display_data"
    },
    {
     "data": {
      "text/plain": [
       "'Components 2, 3 '"
      ]
     },
     "metadata": {},
     "output_type": "display_data"
    },
    {
     "data": {
      "text/latex": [
       "$$\\mathrm{True}$$"
      ],
      "text/plain": [
       "True"
      ]
     },
     "metadata": {},
     "output_type": "display_data"
    },
    {
     "data": {
      "text/plain": [
       "'Components 3, 0 '"
      ]
     },
     "metadata": {},
     "output_type": "display_data"
    },
    {
     "data": {
      "text/latex": [
       "$$\\mathrm{True}$$"
      ],
      "text/plain": [
       "True"
      ]
     },
     "metadata": {},
     "output_type": "display_data"
    },
    {
     "data": {
      "text/plain": [
       "'Components 3, 1 '"
      ]
     },
     "metadata": {},
     "output_type": "display_data"
    },
    {
     "data": {
      "text/latex": [
       "$$\\mathrm{True}$$"
      ],
      "text/plain": [
       "True"
      ]
     },
     "metadata": {},
     "output_type": "display_data"
    },
    {
     "data": {
      "text/plain": [
       "'Components 3, 2 '"
      ]
     },
     "metadata": {},
     "output_type": "display_data"
    },
    {
     "data": {
      "text/latex": [
       "$$\\mathrm{True}$$"
      ],
      "text/plain": [
       "True"
      ]
     },
     "metadata": {},
     "output_type": "display_data"
    },
    {
     "data": {
      "text/plain": [
       "'Components 3, 3 '"
      ]
     },
     "metadata": {},
     "output_type": "display_data"
    },
    {
     "data": {
      "text/latex": [
       "$$\\frac{\\left(2 C_{1} \\Lambda r^{3} - 3 C_{1} \\Lambda r^{2} F{\\left (t \\right )} + 6 C_{1} r - C_{1} F{\\left (t \\right )} - 2 \\Lambda r^{3} F{\\left (t \\right )} + 3 \\Lambda r^{2} F^{2}{\\left (t \\right )} - 6 r F{\\left (t \\right )} + F^{2}{\\left (t \\right )}\\right) \\sin^{2}{\\left (\\theta \\right )}}{4 \\left(\\Lambda^{2} r^{6} - 6 \\Lambda r^{4} + 2 \\Lambda r^{3} F{\\left (t \\right )} + 9 r^{2} - 6 r F{\\left (t \\right )} + F^{2}{\\left (t \\right )}\\right)} = 0$$"
      ],
      "text/plain": [
       "⎛        3           2                                3             2  2      \n",
       "⎝2⋅C₁⋅Λ⋅r  - 3⋅C₁⋅Λ⋅r ⋅F(t) + 6⋅C₁⋅r - C₁⋅F(t) - 2⋅Λ⋅r ⋅F(t) + 3⋅Λ⋅r ⋅F (t) - \n",
       "──────────────────────────────────────────────────────────────────────────────\n",
       "                         ⎛ 2  6        4        3           2               2 \n",
       "                       4⋅⎝Λ ⋅r  - 6⋅Λ⋅r  + 2⋅Λ⋅r ⋅F(t) + 9⋅r  - 6⋅r⋅F(t) + F (\n",
       "\n",
       "            2   ⎞    2       \n",
       "6⋅r⋅F(t) + F (t)⎠⋅sin (θ)    \n",
       "───────────────────────── = 0\n",
       "  ⎞                          \n",
       "t)⎠                          "
      ]
     },
     "metadata": {},
     "output_type": "display_data"
    }
   ],
   "source": [
    "thingtosolve=simplify(manual_Ricci-\\\n",
    "                             nsimplify(1./2)*manual_R*R3_Metric_matrix+\\\n",
    "                            lam*R3_Metric_matrix)\n",
    "for i in range(len(R3_Metric_matrix[:,0])):\n",
    "    for k in range(len(R3_Metric_matrix[:,0])):\n",
    "        if(True):#manual_Ricci[i,k]!=0):\n",
    "            display('Components %i, %i '%(i,k),Eq(thingtosolve[i,k],0))"
   ]
  },
  {
   "cell_type": "code",
   "execution_count": null,
   "metadata": {
    "collapsed": true
   },
   "outputs": [],
   "source": []
  }
 ],
 "metadata": {
  "anaconda-cloud": {},
  "kernelspec": {
   "display_name": "Python [default]",
   "language": "python",
   "name": "python2"
  },
  "language_info": {
   "codemirror_mode": {
    "name": "ipython",
    "version": 2
   },
   "file_extension": ".py",
   "mimetype": "text/x-python",
   "name": "python",
   "nbconvert_exporter": "python",
   "pygments_lexer": "ipython2",
   "version": "2.7.12"
  }
 },
 "nbformat": 4,
 "nbformat_minor": 1
}
