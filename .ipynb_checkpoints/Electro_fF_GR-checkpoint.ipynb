{
 "cells": [
  {
   "cell_type": "code",
   "execution_count": 2,
   "metadata": {
    "collapsed": true
   },
   "outputs": [],
   "source": [
    "'''\n",
    "Electro_fF_GR: This program calculates the energy conditions\n",
    "for a f(F) lagrangian for electrodynamics. As an example,\n",
    "SEC condition is saturated and an exponential lagrangian\n",
    "is used as test.'''\n",
    "__author__ = 'Daniel Forero'\n",
    "from sympy import *\n",
    "init_printing()\n",
    "from sympy.diffgeom import *\n",
    "from sympy.tensor.array import Array, tensorproduct\n",
    "from IPython.display import display"
   ]
  },
  {
   "cell_type": "code",
   "execution_count": 3,
   "metadata": {},
   "outputs": [
    {
     "data": {
      "image/png": "[encoded data removed]",
      "text/latex": [
       "$$- \\mathrm{d}t\\otimes\\mathrm{d}t + \\mathrm{d}x\\otimes\\mathrm{d}x + \\mathrm{d}y\\otimes\\mathrm{d}y + \\mathrm{d}z\\otimes\\mathrm{d}z$$"
      ],
      "text/plain": [
       "-TensorProduct(dt, dt) + TensorProduct(dx, dx) + TensorProduct(dy, dy) + Tenso\n",
       "rProduct(dz, dz)"
      ]
     },
     "metadata": {},
     "output_type": "display_data"
    }
   ],
   "source": [
    "M = Manifold('M', 4)\n",
    "P = Patch('P', M)\n",
    "R3_CS = CoordSystem('R3_CS', P, ['t', 'x', 'y', 'z'])\n",
    "e_0, e_1, e_2, e_3 = R3_CS.base_vectors()\n",
    "dx0, dx1, dx2, dx3 = R3_CS.base_oneforms()\n",
    "x0, x1, x2, x3 = R3_CS.coord_functions()\n",
    "\n",
    "TP=TensorProduct\n",
    "R3_Metric = -TP(dx0, dx0) + TP(dx1, dx1) + TP(dx2,dx2) + TP(dx3, dx3)\n",
    "R3_Metric\n",
    "R3_ch = metric_to_Christoffel_2nd(R3_Metric)\n",
    "R3_Ricci = metric_to_Ricci_components(R3_Metric)\n",
    "display(R3_Metric)"
   ]
  },
  {
   "cell_type": "code",
   "execution_count": 54,
   "metadata": {},
   "outputs": [],
   "source": [
    "#Define a metric\n",
    "#Mink\n",
    "g_00 = -1\n",
    "g_11 = 1\n",
    "g_22 = 1\n",
    "g_33 = 1\n",
    "'''\n",
    "#Schwarzchild\n",
    "M, r, th, phi = symbols('M, r, theta, phi')\n",
    "f =1-(2*M/r)\n",
    "display(f)\n",
    "g_00 = -f\n",
    "g_11 = f**-1\n",
    "g_22 = r**2\n",
    "g_33 = r**2*sin(th)\n",
    "'''\n",
    "g = Matrix([[g_00, 0, 0, 0], [0, g_11, 0, 0], [0, 0, g_22, 0], [0, 0, 0, g_33]])\n",
    "#Define symbols for vectors.\n",
    "a, b, c, d = symbols('a b c d')\n",
    "#Lightlike\n",
    "l_con = Matrix([[a], [1], [0], [0]])\n",
    "l_cov = g.inv()*l_con\n",
    "light_sol = solve(l_con.dot(l_cov), a, dict=True)\n",
    "a = light_sol[1][a]\n",
    "l_con = Matrix([[a], [1], [0], [0]])\n",
    "l_cov = g.inv()*l_con\n",
    "#Timelike\n",
    "t_con = Matrix([[b], [0], [0], [0]])\n",
    "t_cov = g.inv()*t_con\n",
    "time_sol = solve(t_con.dot(t_cov)+1, b, dict=True)\n",
    "b = time_sol[1][b]\n",
    "t_con = Matrix([[b], [0], [0], [0]])\n",
    "t_cov = g.inv()*t_con\n"
   ]
  },
  {
   "cell_type": "code",
   "execution_count": 55,
   "metadata": {},
   "outputs": [
    {
     "data": {
      "image/png": "[encoded data removed]",
      "text/latex": [
       "$$2 B_{x}^{2} + 2 B_{y}^{2} + 2 B_{z}^{2} - 2 E_{x}^{2} - 2 E_{y}^{2} - 2 E_{z}^{2}$$"
      ],
      "text/plain": [
       "    2        2        2       2        2        2\n",
       "2⋅Bₓ  + 2⋅B_y  + 2⋅B_z  - 2⋅Eₓ  - 2⋅E_y  - 2⋅E_z "
      ]
     },
     "metadata": {},
     "output_type": "display_data"
    },
    {
     "data": {
      "text/latex": [
       "$$\\left[\\begin{matrix}0 & - E_{x} & - E_{y} & - E_{z}\\\\E_{x} & 0 & B_{z} & - B_{y}\\\\E_{y} & - B_{z} & 0 & B_{x}\\\\E_{z} & B_{y} & - B_{x} & 0\\end{matrix}\\right]$$"
      ],
      "text/plain": [
       "⎡ 0   -Eₓ   -E_y  -E_z⎤\n",
       "⎢                     ⎥\n",
       "⎢Eₓ    0    B_z   -B_y⎥\n",
       "⎢                     ⎥\n",
       "⎢E_y  -B_z   0     Bₓ ⎥\n",
       "⎢                     ⎥\n",
       "⎣E_z  B_y   -Bₓ    0  ⎦"
      ]
     },
     "execution_count": 55,
     "metadata": {},
     "output_type": "execute_result"
    }
   ],
   "source": [
    "\n",
    "#Symbols for field components.\n",
    "Ex, Ey, Ez, Bx, By, Bz = symbols('E_x E_y E_z B_x B_y B_z', positive=True)\n",
    "#Define F tensor according to convention in Carroll's notes.\n",
    "Fcov = Matrix([[0, -Ex, -Ey, -Ez],[Ex,0,Bz,-By],[Ey,-Bz,0,Bx],[Ez,By,-Bx,0]]) #contra contravariante\n",
    "Fcon = g.inv()*Fcov*g.inv()\n",
    "#Calculate F scalar\n",
    "F_scalar = 0\n",
    "for m in range(4):\n",
    "    for n in range(4):\n",
    "        F_scalar+=Fcov[m,n]*Fcon[m,n]\n",
    "display(F_scalar)\n",
    "#Calculate other forms of the F tensor\n",
    "Fconcov = Matrix(g.inv()*Fcov)\n",
    "Fcovcon = Matrix(Fcov*g.inv())\n",
    "Fcov"
   ]
  },
  {
   "cell_type": "code",
   "execution_count": 57,
   "metadata": {},
   "outputs": [
    {
     "data": {
      "text/latex": [
       "$$\\left[\\begin{matrix}\\frac{B_{x}^{2}}{2} + \\frac{B_{y}^{2}}{2} + \\frac{B_{z}^{2}}{2} + \\frac{E_{x}^{2}}{2} + \\frac{E_{y}^{2}}{2} + \\frac{E_{z}^{2}}{2} & B_{y} E_{z} - B_{z} E_{y} & - B_{x} E_{z} + B_{z} E_{x} & B_{x} E_{y} - B_{y} E_{x}\\\\B_{y} E_{z} - B_{z} E_{y} & - \\frac{B_{x}^{2}}{2} + \\frac{B_{y}^{2}}{2} + \\frac{B_{z}^{2}}{2} - \\frac{E_{x}^{2}}{2} + \\frac{E_{y}^{2}}{2} + \\frac{E_{z}^{2}}{2} & - B_{x} B_{y} - E_{x} E_{y} & - B_{x} B_{z} - E_{x} E_{z}\\\\- B_{x} E_{z} + B_{z} E_{x} & - B_{x} B_{y} - E_{x} E_{y} & \\frac{B_{x}^{2}}{2} - \\frac{B_{y}^{2}}{2} + \\frac{B_{z}^{2}}{2} + \\frac{E_{x}^{2}}{2} - \\frac{E_{y}^{2}}{2} + \\frac{E_{z}^{2}}{2} & - B_{y} B_{z} - E_{y} E_{z}\\\\B_{x} E_{y} - B_{y} E_{x} & - B_{x} B_{z} - E_{x} E_{z} & - B_{y} B_{z} - E_{y} E_{z} & \\frac{B_{x}^{2}}{2} + \\frac{B_{y}^{2}}{2} - \\frac{B_{z}^{2}}{2} + \\frac{E_{x}^{2}}{2} + \\frac{E_{y}^{2}}{2} - \\frac{E_{z}^{2}}{2}\\end{matrix}\\right]$$"
      ],
      "text/plain": [
       "⎡  2      2      2     2      2      2                                        \n",
       "⎢Bₓ    B_y    B_z    Eₓ    E_y    E_z                                         \n",
       "⎢─── + ──── + ──── + ─── + ──── + ────             B_y⋅E_z - B_z⋅E_y          \n",
       "⎢ 2     2      2      2     2      2                                          \n",
       "⎢                                                                             \n",
       "⎢                                           2      2      2     2      2      \n",
       "⎢                                         Bₓ    B_y    B_z    Eₓ    E_y    E_z\n",
       "⎢          B_y⋅E_z - B_z⋅E_y            - ─── + ──── + ──── - ─── + ──── + ───\n",
       "⎢                                          2     2      2      2     2      2 \n",
       "⎢                                                                             \n",
       "⎢                                                                             \n",
       "⎢                                                                             \n",
       "⎢          -Bₓ⋅E_z + B_z⋅Eₓ                        -Bₓ⋅B_y - Eₓ⋅E_y           \n",
       "⎢                                                                             \n",
       "⎢                                                                             \n",
       "⎢                                                                             \n",
       "⎢                                                                             \n",
       "⎢           Bₓ⋅E_y - B_y⋅Eₓ                        -Bₓ⋅B_z - Eₓ⋅E_z           \n",
       "⎣                                                                             \n",
       "\n",
       "                                                                              \n",
       "                                                                              \n",
       "             -Bₓ⋅E_z + B_z⋅Eₓ                        Bₓ⋅E_y - B_y⋅Eₓ          \n",
       "                                                                              \n",
       "                                                                              \n",
       "2                                                                             \n",
       "                                                                              \n",
       "─            -Bₓ⋅B_y - Eₓ⋅E_y                       -Bₓ⋅B_z - Eₓ⋅E_z          \n",
       "                                                                              \n",
       "                                                                              \n",
       "     2      2      2     2      2      2                                      \n",
       "   Bₓ    B_y    B_z    Eₓ    E_y    E_z                                       \n",
       "   ─── - ──── + ──── + ─── - ──── + ────           -B_y⋅B_z - E_y⋅E_z         \n",
       "    2     2      2      2     2      2                                        \n",
       "                                                                              \n",
       "                                            2      2      2     2      2      \n",
       "                                          Bₓ    B_y    B_z    Eₓ    E_y    E_z\n",
       "            -B_y⋅B_z - E_y⋅E_z            ─── + ──── - ──── + ─── + ──── - ───\n",
       "                                           2     2      2      2     2      2 \n",
       "\n",
       " ⎤\n",
       " ⎥\n",
       " ⎥\n",
       " ⎥\n",
       " ⎥\n",
       " ⎥\n",
       " ⎥\n",
       " ⎥\n",
       " ⎥\n",
       " ⎥\n",
       " ⎥\n",
       " ⎥\n",
       " ⎥\n",
       " ⎥\n",
       " ⎥\n",
       "2⎥\n",
       " ⎥\n",
       "─⎥\n",
       " ⎦"
      ]
     },
     "execution_count": 57,
     "metadata": {},
     "output_type": "execute_result"
    }
   ],
   "source": [
    "#Calculate usual T tensor with cross-index F form\n",
    "Tusual=MutableMatrix(zeros(4))\n",
    "for m in range(4):\n",
    "    for n in range(4):\n",
    "        term = 0\n",
    "        for b in range(4):\n",
    "            term+=Fcov[m,b]*Fcovcon[n, b]\n",
    "        Tusual[m,n]=nsimplify(term - (1./4)*g[m,n]*F_scalar)\n",
    "Tusual\n",
    "\n"
   ]
  },
  {
   "cell_type": "code",
   "execution_count": 58,
   "metadata": {},
   "outputs": [
    {
     "data": {
      "text/latex": [
       "$$\\left[\\begin{matrix}\\frac{B_{x}^{2}}{2} + \\frac{B_{y}^{2}}{2} + \\frac{B_{z}^{2}}{2} + \\frac{E_{x}^{2}}{2} + \\frac{E_{y}^{2}}{2} + \\frac{E_{z}^{2}}{2} & B_{y} E_{z} - B_{z} E_{y} & - B_{x} E_{z} + B_{z} E_{x} & B_{x} E_{y} - B_{y} E_{x}\\\\B_{y} E_{z} - B_{z} E_{y} & - \\frac{B_{x}^{2}}{2} + \\frac{B_{y}^{2}}{2} + \\frac{B_{z}^{2}}{2} - \\frac{E_{x}^{2}}{2} + \\frac{E_{y}^{2}}{2} + \\frac{E_{z}^{2}}{2} & - B_{x} B_{y} - E_{x} E_{y} & - B_{x} B_{z} - E_{x} E_{z}\\\\- B_{x} E_{z} + B_{z} E_{x} & - B_{x} B_{y} - E_{x} E_{y} & \\frac{B_{x}^{2}}{2} - \\frac{B_{y}^{2}}{2} + \\frac{B_{z}^{2}}{2} + \\frac{E_{x}^{2}}{2} - \\frac{E_{y}^{2}}{2} + \\frac{E_{z}^{2}}{2} & - B_{y} B_{z} - E_{y} E_{z}\\\\B_{x} E_{y} - B_{y} E_{x} & - B_{x} B_{z} - E_{x} E_{z} & - B_{y} B_{z} - E_{y} E_{z} & \\frac{B_{x}^{2}}{2} + \\frac{B_{y}^{2}}{2} - \\frac{B_{z}^{2}}{2} + \\frac{E_{x}^{2}}{2} + \\frac{E_{y}^{2}}{2} - \\frac{E_{z}^{2}}{2}\\end{matrix}\\right]$$"
      ],
      "text/plain": [
       "⎡  2      2      2     2      2      2                                        \n",
       "⎢Bₓ    B_y    B_z    Eₓ    E_y    E_z                                         \n",
       "⎢─── + ──── + ──── + ─── + ──── + ────             B_y⋅E_z - B_z⋅E_y          \n",
       "⎢ 2     2      2      2     2      2                                          \n",
       "⎢                                                                             \n",
       "⎢                                           2      2      2     2      2      \n",
       "⎢                                         Bₓ    B_y    B_z    Eₓ    E_y    E_z\n",
       "⎢          B_y⋅E_z - B_z⋅E_y            - ─── + ──── + ──── - ─── + ──── + ───\n",
       "⎢                                          2     2      2      2     2      2 \n",
       "⎢                                                                             \n",
       "⎢                                                                             \n",
       "⎢                                                                             \n",
       "⎢          -Bₓ⋅E_z + B_z⋅Eₓ                        -Bₓ⋅B_y - Eₓ⋅E_y           \n",
       "⎢                                                                             \n",
       "⎢                                                                             \n",
       "⎢                                                                             \n",
       "⎢                                                                             \n",
       "⎢           Bₓ⋅E_y - B_y⋅Eₓ                        -Bₓ⋅B_z - Eₓ⋅E_z           \n",
       "⎣                                                                             \n",
       "\n",
       "                                                                              \n",
       "                                                                              \n",
       "             -Bₓ⋅E_z + B_z⋅Eₓ                        Bₓ⋅E_y - B_y⋅Eₓ          \n",
       "                                                                              \n",
       "                                                                              \n",
       "2                                                                             \n",
       "                                                                              \n",
       "─            -Bₓ⋅B_y - Eₓ⋅E_y                       -Bₓ⋅B_z - Eₓ⋅E_z          \n",
       "                                                                              \n",
       "                                                                              \n",
       "     2      2      2     2      2      2                                      \n",
       "   Bₓ    B_y    B_z    Eₓ    E_y    E_z                                       \n",
       "   ─── - ──── + ──── + ─── - ──── + ────           -B_y⋅B_z - E_y⋅E_z         \n",
       "    2     2      2      2     2      2                                        \n",
       "                                                                              \n",
       "                                            2      2      2     2      2      \n",
       "                                          Bₓ    B_y    B_z    Eₓ    E_y    E_z\n",
       "            -B_y⋅B_z - E_y⋅E_z            ─── + ──── - ──── + ─── + ──── - ───\n",
       "                                           2     2      2      2     2      2 \n",
       "\n",
       " ⎤\n",
       " ⎥\n",
       " ⎥\n",
       " ⎥\n",
       " ⎥\n",
       " ⎥\n",
       " ⎥\n",
       " ⎥\n",
       " ⎥\n",
       " ⎥\n",
       " ⎥\n",
       " ⎥\n",
       " ⎥\n",
       " ⎥\n",
       " ⎥\n",
       "2⎥\n",
       " ⎥\n",
       "─⎥\n",
       " ⎦"
      ]
     },
     "metadata": {},
     "output_type": "display_data"
    },
    {
     "data": {
      "image/png": "[encoded data removed]",
      "text/latex": [
       "$$0$$"
      ],
      "text/plain": [
       "0"
      ]
     },
     "metadata": {},
     "output_type": "display_data"
    }
   ],
   "source": [
    "#Calculate usual T tensor using only covariant F.\n",
    "Tusual=MutableMatrix(zeros(4))\n",
    "for m in range(4):\n",
    "    for n in range(4):\n",
    "        term = 0\n",
    "        for b in range(4):\n",
    "            for a in range(4):\n",
    "                term+=g[a,b]*Fcov[a,m]*Fcov[b,n]\n",
    "        Tusual[m,n]=nsimplify(term - (1./4)*g[m,n]*F_scalar)\n",
    "display(Tusual)\n",
    "#Calculate the trace.\n",
    "T_trace = 0\n",
    "for m in range(4):\n",
    "    for n in range(4):\n",
    "        T_trace += g[m,n]*Tusual[m,n]\n",
    "display(T_trace)"
   ]
  },
  {
   "cell_type": "code",
   "execution_count": 59,
   "metadata": {},
   "outputs": [
    {
     "data": {
      "text/latex": [
       "$$\\left[\\begin{matrix}\\left(- 4 E_{x}^{2} - 4 E_{y}^{2} - 4 E_{z}^{2}\\right) \\frac{d}{d F} f{\\left (F \\right )} - f{\\left (F \\right )} & \\left(- 4 B_{y} E_{z} + 4 B_{z} E_{y}\\right) \\frac{d}{d F} f{\\left (F \\right )} & \\left(4 B_{x} E_{z} - 4 B_{z} E_{x}\\right) \\frac{d}{d F} f{\\left (F \\right )} & \\left(- 4 B_{x} E_{y} + 4 B_{y} E_{x}\\right) \\frac{d}{d F} f{\\left (F \\right )}\\\\\\left(- 4 B_{y} E_{z} + 4 B_{z} E_{y}\\right) \\frac{d}{d F} f{\\left (F \\right )} & \\left(- 4 B_{y}^{2} - 4 B_{z}^{2} + 4 E_{x}^{2}\\right) \\frac{d}{d F} f{\\left (F \\right )} + f{\\left (F \\right )} & \\left(4 B_{x} B_{y} + 4 E_{x} E_{y}\\right) \\frac{d}{d F} f{\\left (F \\right )} & \\left(4 B_{x} B_{z} + 4 E_{x} E_{z}\\right) \\frac{d}{d F} f{\\left (F \\right )}\\\\\\left(4 B_{x} E_{z} - 4 B_{z} E_{x}\\right) \\frac{d}{d F} f{\\left (F \\right )} & \\left(4 B_{x} B_{y} + 4 E_{x} E_{y}\\right) \\frac{d}{d F} f{\\left (F \\right )} & \\left(- 4 B_{x}^{2} - 4 B_{z}^{2} + 4 E_{y}^{2}\\right) \\frac{d}{d F} f{\\left (F \\right )} + f{\\left (F \\right )} & \\left(4 B_{y} B_{z} + 4 E_{y} E_{z}\\right) \\frac{d}{d F} f{\\left (F \\right )}\\\\\\left(- 4 B_{x} E_{y} + 4 B_{y} E_{x}\\right) \\frac{d}{d F} f{\\left (F \\right )} & \\left(4 B_{x} B_{z} + 4 E_{x} E_{z}\\right) \\frac{d}{d F} f{\\left (F \\right )} & \\left(4 B_{y} B_{z} + 4 E_{y} E_{z}\\right) \\frac{d}{d F} f{\\left (F \\right )} & \\left(- 4 B_{x}^{2} - 4 B_{y}^{2} + 4 E_{z}^{2}\\right) \\frac{d}{d F} f{\\left (F \\right )} + f{\\left (F \\right )}\\end{matrix}\\right]$$"
      ],
      "text/plain": [
       "⎡⎛      2        2        2⎞ d                                              d \n",
       "⎢⎝- 4⋅Eₓ  - 4⋅E_y  - 4⋅E_z ⎠⋅──(f(F)) - f(F)       (-4⋅B_y⋅E_z + 4⋅B_z⋅E_y)⋅──\n",
       "⎢                            dF                                             dF\n",
       "⎢                                                                             \n",
       "⎢                              d              ⎛       2        2       2⎞ d   \n",
       "⎢     (-4⋅B_y⋅E_z + 4⋅B_z⋅E_y)⋅──(f(F))       ⎝- 4⋅B_y  - 4⋅B_z  + 4⋅Eₓ ⎠⋅──(f\n",
       "⎢                              dF                                         dF  \n",
       "⎢                                                                             \n",
       "⎢                            d                                            d   \n",
       "⎢      (4⋅Bₓ⋅E_z - 4⋅B_z⋅Eₓ)⋅──(f(F))               (4⋅Bₓ⋅B_y + 4⋅Eₓ⋅E_y)⋅──(f\n",
       "⎢                            dF                                           dF  \n",
       "⎢                                                                             \n",
       "⎢                             d                                           d   \n",
       "⎢      (-4⋅Bₓ⋅E_y + 4⋅B_y⋅Eₓ)⋅──(f(F))              (4⋅Bₓ⋅B_z + 4⋅Eₓ⋅E_z)⋅──(f\n",
       "⎣                             dF                                          dF  \n",
       "\n",
       "                                         d                                    \n",
       "(f(F))             (4⋅Bₓ⋅E_z - 4⋅B_z⋅Eₓ)⋅──(f(F))               (-4⋅Bₓ⋅E_y + 4\n",
       "                                         dF                                   \n",
       "                                                                              \n",
       "                                         d                                    \n",
       "(F)) + f(F)        (4⋅Bₓ⋅B_y + 4⋅Eₓ⋅E_y)⋅──(f(F))               (4⋅Bₓ⋅B_z + 4⋅\n",
       "                                         dF                                   \n",
       "                                                                              \n",
       "             ⎛      2        2        2⎞ d                                    \n",
       "(F))         ⎝- 4⋅Bₓ  - 4⋅B_z  + 4⋅E_y ⎠⋅──(f(F)) + f(F)       (4⋅B_y⋅B_z + 4⋅\n",
       "                                         dF                                   \n",
       "                                                                              \n",
       "                                          d               ⎛      2        2   \n",
       "(F))              (4⋅B_y⋅B_z + 4⋅E_y⋅E_z)⋅──(f(F))        ⎝- 4⋅Bₓ  - 4⋅B_y  + \n",
       "                                          dF                                  \n",
       "\n",
       "         d             ⎤\n",
       "⋅B_y⋅Eₓ)⋅──(f(F))      ⎥\n",
       "         dF            ⎥\n",
       "                       ⎥\n",
       "        d              ⎥\n",
       "Eₓ⋅E_z)⋅──(f(F))       ⎥\n",
       "        dF             ⎥\n",
       "                       ⎥\n",
       "         d             ⎥\n",
       "E_y⋅E_z)⋅──(f(F))      ⎥\n",
       "         dF            ⎥\n",
       "                       ⎥\n",
       "     2⎞ d              ⎥\n",
       "4⋅E_z ⎠⋅──(f(F)) + f(F)⎥\n",
       "        dF             ⎦"
      ]
     },
     "execution_count": 59,
     "metadata": {},
     "output_type": "execute_result"
    }
   ],
   "source": [
    "#Calculate the T tensor for f(F) lagrangian.\n",
    "T=MutableMatrix(zeros(4))\n",
    "f=Function('f')\n",
    "F=symbols('F')\n",
    "f=f(F)\n",
    "for m in range(4):\n",
    "    for n in range(4):\n",
    "        term = 0\n",
    "        for b in range(4):\n",
    "            for a in range(4):\n",
    "                term+=g[a,b]*Fcov[a,m]*Fcov[b,n]\n",
    "        T[m,n]=nsimplify(-4*term*diff(f,F) + g[m,n]*f)\n",
    "T"
   ]
  },
  {
   "cell_type": "code",
   "execution_count": 61,
   "metadata": {},
   "outputs": [
    {
     "data": {
      "text/plain": [
       "True"
      ]
     },
     "execution_count": 61,
     "metadata": {},
     "output_type": "execute_result"
    }
   ],
   "source": [
    "#Check that f(F)=-(1/4)F leads to usual T.\n",
    "T.subs(f, -F/4).doit().subs(F, F_scalar)==Tusual"
   ]
  },
  {
   "cell_type": "code",
   "execution_count": 62,
   "metadata": {},
   "outputs": [
    {
     "data": {
      "image/png": "[encoded data removed]",
      "text/latex": [
       "$$- 4 \\left(2 B_{x}^{2} \\frac{d}{d F} f{\\left (F \\right )} + 2 B_{y}^{2} \\frac{d}{d F} f{\\left (F \\right )} + 2 B_{z}^{2} \\frac{d}{d F} f{\\left (F \\right )} - 2 E_{x}^{2} \\frac{d}{d F} f{\\left (F \\right )} - 2 E_{y}^{2} \\frac{d}{d F} f{\\left (F \\right )} - 2 E_{z}^{2} \\frac{d}{d F} f{\\left (F \\right )} - f{\\left (F \\right )}\\right)$$"
      ],
      "text/plain": [
       "   ⎛    2 d               2 d               2 d              2 d              \n",
       "-4⋅⎜2⋅Bₓ ⋅──(f(F)) + 2⋅B_y ⋅──(f(F)) + 2⋅B_z ⋅──(f(F)) - 2⋅Eₓ ⋅──(f(F)) - 2⋅E_\n",
       "   ⎝      dF                dF                dF               dF             \n",
       "\n",
       " 2 d               2 d              ⎞\n",
       "y ⋅──(f(F)) - 2⋅E_z ⋅──(f(F)) - f(F)⎟\n",
       "   dF                dF             ⎠"
      ]
     },
     "execution_count": 62,
     "metadata": {},
     "output_type": "execute_result"
    }
   ],
   "source": [
    "#Calculate the trace.\n",
    "T_trace = 0\n",
    "for m in range(4):\n",
    "    for n in range(4):\n",
    "        T_trace += g[m,n]*T[m,n]\n",
    "#factor(T_trace).subs(f, -F/4).doit().subs(F, F_scalar)\n",
    "factor(T_trace)"
   ]
  },
  {
   "cell_type": "markdown",
   "metadata": {},
   "source": [
    "# SEC"
   ]
  },
  {
   "cell_type": "code",
   "execution_count": 71,
   "metadata": {},
   "outputs": [
    {
     "data": {
      "image/png": "[encoded data removed]",
      "text/latex": [
       "$$- 4 B_{x}^{2} \\frac{d}{d F} f{\\left (F \\right )} - 4 B_{y}^{2} \\frac{d}{d F} f{\\left (F \\right )} - 4 B_{z}^{2} \\frac{d}{d F} f{\\left (F \\right )} + f{\\left (F \\right )}$$"
      ],
      "text/plain": [
       "      2 d               2 d               2 d              \n",
       "- 4⋅Bₓ ⋅──(f(F)) - 4⋅B_y ⋅──(f(F)) - 4⋅B_z ⋅──(f(F)) + f(F)\n",
       "        dF                dF                dF             "
      ]
     },
     "metadata": {},
     "output_type": "display_data"
    },
    {
     "data": {
      "image/png": "[encoded data removed]",
      "text/latex": [
       "$$4 \\left(- B_{x}^{2} - B_{y}^{2} - B_{z}^{2}\\right) \\log{\\left (f{\\left (F \\right )} \\right )} = C_{1} - F$$"
      ],
      "text/plain": [
       "  ⎛    2      2      2⎞                   \n",
       "4⋅⎝- Bₓ  - B_y  - B_z ⎠⋅log(f(F)) = C₁ - F"
      ]
     },
     "execution_count": 71,
     "metadata": {},
     "output_type": "execute_result"
    }
   ],
   "source": [
    "k=symbols('kappa')\n",
    "SEC = nsimplify(Matrix(T.dot(t_con)).dot(t_con) + (1./2)*T_trace)\n",
    "#factor(SEC).subs(f, -F/4).doit().subs(F, F_scalar) #SEC se cumple en el caso usual\n",
    "display(simplify(factor(SEC)))\n",
    "dsolve(simplify(factor(SEC)),f)"
   ]
  },
  {
   "cell_type": "markdown",
   "metadata": {},
   "source": [
    "# NEC"
   ]
  },
  {
   "cell_type": "code",
   "execution_count": 67,
   "metadata": {},
   "outputs": [
    {
     "data": {
      "image/png": "[encoded data removed]",
      "text/latex": [
       "$$- 4 \\left(B_{y}^{2} + 2 B_{y} E_{z} + B_{z}^{2} - 2 B_{z} E_{y} + E_{y}^{2} + E_{z}^{2}\\right) \\frac{d}{d F} f{\\left (F \\right )}$$"
      ],
      "text/plain": [
       "   ⎛   2                  2                  2      2⎞ d       \n",
       "-4⋅⎝B_y  + 2⋅B_y⋅E_z + B_z  - 2⋅B_z⋅E_y + E_y  + E_z ⎠⋅──(f(F))\n",
       "                                                       dF      "
      ]
     },
     "execution_count": 67,
     "metadata": {},
     "output_type": "execute_result"
    }
   ],
   "source": [
    "NEC = nsimplify(Matrix(T.dot(l_con)).dot(l_con))\n",
    "#factor(NEC).subs(f, -F/4).doit().subs(F, F_scalar)\n",
    "factor(NEC)"
   ]
  },
  {
   "cell_type": "markdown",
   "metadata": {},
   "source": [
    "# DEC"
   ]
  },
  {
   "cell_type": "code",
   "execution_count": 68,
   "metadata": {},
   "outputs": [
    {
     "data": {
      "text/latex": [
       "$$\\left[\\begin{matrix}- \\left(- 4 E_{x}^{2} - 4 E_{y}^{2} - 4 E_{z}^{2}\\right) \\frac{d}{d F} f{\\left (F \\right )} + f{\\left (F \\right )} & - \\left(- 4 B_{y} E_{z} + 4 B_{z} E_{y}\\right) \\frac{d}{d F} f{\\left (F \\right )} & - \\left(4 B_{x} E_{z} - 4 B_{z} E_{x}\\right) \\frac{d}{d F} f{\\left (F \\right )} & - \\left(- 4 B_{x} E_{y} + 4 B_{y} E_{x}\\right) \\frac{d}{d F} f{\\left (F \\right )}\\\\\\left(- 4 B_{y} E_{z} + 4 B_{z} E_{y}\\right) \\frac{d}{d F} f{\\left (F \\right )} & \\left(- 4 B_{y}^{2} - 4 B_{z}^{2} + 4 E_{x}^{2}\\right) \\frac{d}{d F} f{\\left (F \\right )} + f{\\left (F \\right )} & \\left(4 B_{x} B_{y} + 4 E_{x} E_{y}\\right) \\frac{d}{d F} f{\\left (F \\right )} & \\left(4 B_{x} B_{z} + 4 E_{x} E_{z}\\right) \\frac{d}{d F} f{\\left (F \\right )}\\\\\\left(4 B_{x} E_{z} - 4 B_{z} E_{x}\\right) \\frac{d}{d F} f{\\left (F \\right )} & \\left(4 B_{x} B_{y} + 4 E_{x} E_{y}\\right) \\frac{d}{d F} f{\\left (F \\right )} & \\left(- 4 B_{x}^{2} - 4 B_{z}^{2} + 4 E_{y}^{2}\\right) \\frac{d}{d F} f{\\left (F \\right )} + f{\\left (F \\right )} & \\left(4 B_{y} B_{z} + 4 E_{y} E_{z}\\right) \\frac{d}{d F} f{\\left (F \\right )}\\\\\\left(- 4 B_{x} E_{y} + 4 B_{y} E_{x}\\right) \\frac{d}{d F} f{\\left (F \\right )} & \\left(4 B_{x} B_{z} + 4 E_{x} E_{z}\\right) \\frac{d}{d F} f{\\left (F \\right )} & \\left(4 B_{y} B_{z} + 4 E_{y} E_{z}\\right) \\frac{d}{d F} f{\\left (F \\right )} & \\left(- 4 B_{x}^{2} - 4 B_{y}^{2} + 4 E_{z}^{2}\\right) \\frac{d}{d F} f{\\left (F \\right )} + f{\\left (F \\right )}\\end{matrix}\\right]$$"
      ],
      "text/plain": [
       "⎡  ⎛      2        2        2⎞ d                                              \n",
       "⎢- ⎝- 4⋅Eₓ  - 4⋅E_y  - 4⋅E_z ⎠⋅──(f(F)) + f(F)      -(-4⋅B_y⋅E_z + 4⋅B_z⋅E_y)⋅\n",
       "⎢                              dF                                             \n",
       "⎢                                                                             \n",
       "⎢                               d               ⎛       2        2       2⎞ d \n",
       "⎢      (-4⋅B_y⋅E_z + 4⋅B_z⋅E_y)⋅──(f(F))        ⎝- 4⋅B_y  - 4⋅B_z  + 4⋅Eₓ ⎠⋅──\n",
       "⎢                               dF                                          dF\n",
       "⎢                                                                             \n",
       "⎢                             d                                             d \n",
       "⎢       (4⋅Bₓ⋅E_z - 4⋅B_z⋅Eₓ)⋅──(f(F))                (4⋅Bₓ⋅B_y + 4⋅Eₓ⋅E_y)⋅──\n",
       "⎢                             dF                                            dF\n",
       "⎢                                                                             \n",
       "⎢                              d                                            d \n",
       "⎢       (-4⋅Bₓ⋅E_y + 4⋅B_y⋅Eₓ)⋅──(f(F))               (4⋅Bₓ⋅B_z + 4⋅Eₓ⋅E_z)⋅──\n",
       "⎣                              dF                                           dF\n",
       "\n",
       "d                                           d                                 \n",
       "──(f(F))             -(4⋅Bₓ⋅E_z - 4⋅B_z⋅Eₓ)⋅──(f(F))             -(-4⋅Bₓ⋅E_y +\n",
       "dF                                          dF                                \n",
       "                                                                              \n",
       "                                           d                                  \n",
       "(f(F)) + f(F)        (4⋅Bₓ⋅B_y + 4⋅Eₓ⋅E_y)⋅──(f(F))               (4⋅Bₓ⋅B_z + \n",
       "                                           dF                                 \n",
       "                                                                              \n",
       "               ⎛      2        2        2⎞ d                                  \n",
       "(f(F))         ⎝- 4⋅Bₓ  - 4⋅B_z  + 4⋅E_y ⎠⋅──(f(F)) + f(F)       (4⋅B_y⋅B_z + \n",
       "                                           dF                                 \n",
       "                                                                              \n",
       "                                            d               ⎛      2        2 \n",
       "(f(F))              (4⋅B_y⋅B_z + 4⋅E_y⋅E_z)⋅──(f(F))        ⎝- 4⋅Bₓ  - 4⋅B_y  \n",
       "                                            dF                                \n",
       "\n",
       "           d             ⎤\n",
       " 4⋅B_y⋅Eₓ)⋅──(f(F))      ⎥\n",
       "           dF            ⎥\n",
       "                         ⎥\n",
       "          d              ⎥\n",
       "4⋅Eₓ⋅E_z)⋅──(f(F))       ⎥\n",
       "          dF             ⎥\n",
       "                         ⎥\n",
       "           d             ⎥\n",
       "4⋅E_y⋅E_z)⋅──(f(F))      ⎥\n",
       "           dF            ⎥\n",
       "                         ⎥\n",
       "       2⎞ d              ⎥\n",
       "+ 4⋅E_z ⎠⋅──(f(F)) + f(F)⎥\n",
       "          dF             ⎦"
      ]
     },
     "execution_count": 68,
     "metadata": {},
     "output_type": "execute_result"
    }
   ],
   "source": [
    "#Calculate the \n",
    "Tcovcon=MutableMatrix(zeros(4))\n",
    "for n in range(4):\n",
    "    for m in range(4):\n",
    "        s=0\n",
    "        for l in range(4):\n",
    "            s+=T[l,m]*g.inv()[l,n]\n",
    "                \n",
    "        Tcovcon[n,m]=s\n",
    "Tcovcon"
   ]
  },
  {
   "cell_type": "code",
   "execution_count": 69,
   "metadata": {
    "scrolled": true
   },
   "outputs": [
    {
     "data": {
      "image/png": "[encoded data removed]",
      "text/latex": [
       "$$16 \\left(B_{x} E_{y} - B_{y} E_{x}\\right)^{2} \\left(\\frac{d}{d F} f{\\left (F \\right )}\\right)^{2} + 16 \\left(B_{x} E_{z} - B_{z} E_{x}\\right)^{2} \\left(\\frac{d}{d F} f{\\left (F \\right )}\\right)^{2} + 16 \\left(B_{y} E_{z} - B_{z} E_{y}\\right)^{2} \\left(\\frac{d}{d F} f{\\left (F \\right )}\\right)^{2} - \\left(4 \\left(E_{x}^{2} + E_{y}^{2} + E_{z}^{2}\\right) \\frac{d}{d F} f{\\left (F \\right )} + f{\\left (F \\right )}\\right)^{2}$$"
      ],
      "text/plain": [
       "                                2                                   2         \n",
       "                    2 ⎛d       ⎞                        2 ⎛d       ⎞          \n",
       "16⋅(Bₓ⋅E_y - B_y⋅Eₓ) ⋅⎜──(f(F))⎟  + 16⋅(Bₓ⋅E_z - B_z⋅Eₓ) ⋅⎜──(f(F))⎟  + 16⋅(B_\n",
       "                      ⎝dF      ⎠                          ⎝dF      ⎠          \n",
       "\n",
       "                            2                                          2\n",
       "                2 ⎛d       ⎞    ⎛  ⎛  2      2      2⎞ d              ⎞ \n",
       "y⋅E_z - B_z⋅E_y) ⋅⎜──(f(F))⎟  - ⎜4⋅⎝Eₓ  + E_y  + E_z ⎠⋅──(f(F)) + f(F)⎟ \n",
       "                  ⎝dF      ⎠    ⎝                      dF             ⎠ "
      ]
     },
     "execution_count": 69,
     "metadata": {},
     "output_type": "execute_result"
    }
   ],
   "source": [
    "DEC=0\n",
    "for m in range(4):\n",
    "    for n in range(4):\n",
    "        for l in range(4):\n",
    "            DEC+=T[m,n]*Tcovcon[n,l]*t_con[m]*t_con[l]\n",
    "simplify(DEC)"
   ]
  },
  {
   "cell_type": "markdown",
   "metadata": {},
   "source": [
    "# WEC"
   ]
  },
  {
   "cell_type": "code",
   "execution_count": 70,
   "metadata": {},
   "outputs": [
    {
     "data": {
      "image/png": "[encoded data removed]",
      "text/latex": [
       "$$- 4 E_{x}^{2} \\frac{d}{d F} f{\\left (F \\right )} - 4 E_{y}^{2} \\frac{d}{d F} f{\\left (F \\right )} - 4 E_{z}^{2} \\frac{d}{d F} f{\\left (F \\right )} - f{\\left (F \\right )}$$"
      ],
      "text/plain": [
       "      2 d               2 d               2 d              \n",
       "- 4⋅Eₓ ⋅──(f(F)) - 4⋅E_y ⋅──(f(F)) - 4⋅E_z ⋅──(f(F)) - f(F)\n",
       "        dF                dF                dF             "
      ]
     },
     "execution_count": 70,
     "metadata": {},
     "output_type": "execute_result"
    }
   ],
   "source": [
    "WEC = nsimplify(Matrix(T.dot(t_con)).dot(t_con))\n",
    "simplify(factor(WEC))#.subs(f, a*exp(F/(4*(Bx**2+By**2+Bz**2)))).doit())"
   ]
  },
  {
   "cell_type": "markdown",
   "metadata": {},
   "source": [
    "## $f$ Exponencial"
   ]
  },
  {
   "cell_type": "code",
   "execution_count": 77,
   "metadata": {},
   "outputs": [
    {
     "data": {
      "text/plain": [
       "'WEC'"
      ]
     },
     "metadata": {},
     "output_type": "display_data"
    },
    {
     "data": {
      "image/png": "[encoded data removed]",
      "text/latex": [
       "$$- \\frac{\\kappa e^{\\frac{F}{4 B_{x}^{2} + 4 B_{y}^{2} + 4 B_{z}^{2}}}}{B_{x}^{2} + B_{y}^{2} + B_{z}^{2}} \\left(B_{x}^{2} + B_{y}^{2} + B_{z}^{2} + E_{x}^{2} + E_{y}^{2} + E_{z}^{2}\\right) \\geq 0$$"
      ],
      "text/plain": [
       "                                                       F                \n",
       "                                            ───────────────────────     \n",
       "                                                2        2        2     \n",
       "   ⎛  2      2      2     2      2      2⎞  4⋅Bₓ  + 4⋅B_y  + 4⋅B_z      \n",
       "-κ⋅⎝Bₓ  + B_y  + B_z  + Eₓ  + E_y  + E_z ⎠⋅ℯ                            \n",
       "──────────────────────────────────────────────────────────────────── ≥ 0\n",
       "                           2      2      2                              \n",
       "                         Bₓ  + B_y  + B_z                               "
      ]
     },
     "metadata": {},
     "output_type": "display_data"
    },
    {
     "data": {
      "text/plain": [
       "'NEC'"
      ]
     },
     "metadata": {},
     "output_type": "display_data"
    },
    {
     "data": {
      "image/png": "[encoded data removed]",
      "text/latex": [
       "$$- \\frac{\\kappa e^{\\frac{F}{4 B_{x}^{2} + 4 B_{y}^{2} + 4 B_{z}^{2}}}}{B_{x}^{2} + B_{y}^{2} + B_{z}^{2}} \\left(B_{y}^{2} + 2 B_{y} E_{z} + B_{z}^{2} - 2 B_{z} E_{y} + E_{y}^{2} + E_{z}^{2}\\right) \\geq 0$$"
      ],
      "text/plain": [
       "                                                                   F          \n",
       "                                                        ──────────────────────\n",
       "                                                            2        2        \n",
       "   ⎛   2                  2                  2      2⎞  4⋅Bₓ  + 4⋅B_y  + 4⋅B_z\n",
       "-κ⋅⎝B_y  + 2⋅B_y⋅E_z + B_z  - 2⋅B_z⋅E_y + E_y  + E_z ⎠⋅ℯ                      \n",
       "──────────────────────────────────────────────────────────────────────────────\n",
       "                                 2      2      2                              \n",
       "                               Bₓ  + B_y  + B_z                               \n",
       "\n",
       "      \n",
       "─     \n",
       "2     \n",
       "      \n",
       "      \n",
       "── ≥ 0\n",
       "      \n",
       "      "
      ]
     },
     "metadata": {},
     "output_type": "display_data"
    },
    {
     "data": {
      "text/plain": [
       "'SEC'"
      ]
     },
     "metadata": {},
     "output_type": "display_data"
    },
    {
     "data": {
      "image/png": "[encoded data removed]",
      "text/latex": [
       "$$\\mathrm{True}$$"
      ],
      "text/plain": [
       "True"
      ]
     },
     "metadata": {},
     "output_type": "display_data"
    },
    {
     "data": {
      "text/plain": [
       "'DEC'"
      ]
     },
     "metadata": {},
     "output_type": "display_data"
    },
    {
     "data": {
      "image/png": "[encoded data removed]",
      "text/latex": [
       "$$- \\frac{\\kappa^{2} e^{\\frac{F}{2 B_{x}^{2} + 2 B_{y}^{2} + 2 B_{z}^{2}}}}{\\left(B_{x}^{2} + B_{y}^{2} + B_{z}^{2}\\right)^{2}} \\left(B_{x}^{4} + 2 B_{x}^{2} B_{y}^{2} + 2 B_{x}^{2} B_{z}^{2} + 2 B_{x}^{2} E_{x}^{2} + B_{x}^{2} E_{y}^{2} + B_{x}^{2} E_{z}^{2} + 2 B_{x} B_{y} E_{x} E_{y} + 2 B_{x} B_{z} E_{x} E_{z} + B_{y}^{4} + 2 B_{y}^{2} B_{z}^{2} + B_{y}^{2} E_{x}^{2} + 2 B_{y}^{2} E_{y}^{2} + B_{y}^{2} E_{z}^{2} + 2 B_{y} B_{z} E_{y} E_{z} + B_{z}^{4} + B_{z}^{2} E_{x}^{2} + B_{z}^{2} E_{y}^{2} + 2 B_{z}^{2} E_{z}^{2} + E_{x}^{4} + 2 E_{x}^{2} E_{y}^{2} + 2 E_{x}^{2} E_{z}^{2} + E_{y}^{4} + 2 E_{y}^{2} E_{z}^{2} + E_{z}^{4}\\right) \\leq 0$$"
      ],
      "text/plain": [
       "                                                                              \n",
       "                                                                              \n",
       "                                                                              \n",
       "  2 ⎛  4       2    2       2    2       2   2     2    2     2    2          \n",
       "-κ ⋅⎝Bₓ  + 2⋅Bₓ ⋅B_y  + 2⋅Bₓ ⋅B_z  + 2⋅Bₓ ⋅Eₓ  + Bₓ ⋅E_y  + Bₓ ⋅E_z  + 2⋅Bₓ⋅B_\n",
       "──────────────────────────────────────────────────────────────────────────────\n",
       "                                                                              \n",
       "                                                                              \n",
       "                                                                              \n",
       "\n",
       "                                                                              \n",
       "                                                                              \n",
       "                                                                              \n",
       "                                4        2    2      2   2        2    2      \n",
       "y⋅Eₓ⋅E_y + 2⋅Bₓ⋅B_z⋅Eₓ⋅E_z + B_y  + 2⋅B_y ⋅B_z  + B_y ⋅Eₓ  + 2⋅B_y ⋅E_y  + B_y\n",
       "──────────────────────────────────────────────────────────────────────────────\n",
       "                                                                              \n",
       "                                                                     ⎛  2     \n",
       "                                                                     ⎝Bₓ  + B_\n",
       "\n",
       "                                                                              \n",
       "                                                                              \n",
       "                                                                              \n",
       "2    2                          4      2   2      2    2        2    2     4  \n",
       " ⋅E_z  + 2⋅B_y⋅B_z⋅E_y⋅E_z + B_z  + B_z ⋅Eₓ  + B_z ⋅E_y  + 2⋅B_z ⋅E_z  + Eₓ  +\n",
       "──────────────────────────────────────────────────────────────────────────────\n",
       "          2                                                                   \n",
       " 2      2⎞                                                                    \n",
       "y  + B_z ⎠                                                                    \n",
       "\n",
       "                                                                  F           \n",
       "                                                       ───────────────────────\n",
       "                                                           2        2        2\n",
       "     2    2       2    2      4        2    2      4⎞  2⋅Bₓ  + 2⋅B_y  + 2⋅B_z \n",
       " 2⋅Eₓ ⋅E_y  + 2⋅Eₓ ⋅E_z  + E_y  + 2⋅E_y ⋅E_z  + E_z ⎠⋅ℯ                       \n",
       "──────────────────────────────────────────────────────────────────────────────\n",
       "                                                                              \n",
       "                                                                              \n",
       "                                                                              \n",
       "\n",
       "     \n",
       "     \n",
       "     \n",
       "     \n",
       "     \n",
       "─ ≤ 0\n",
       "     \n",
       "     \n",
       "     "
      ]
     },
     "metadata": {},
     "output_type": "display_data"
    }
   ],
   "source": [
    "display('WEC',simplify(factor(WEC).subs(f, k*exp(F/(4*(Bx**2+By**2+Bz**2)))).doit())>=0)\n",
    "display('NEC',simplify(factor(NEC).subs(f, k*exp(F/(4*(Bx**2+By**2+Bz**2)))).doit())>=0)\n",
    "display('SEC',simplify(factor(SEC).subs(f, k*exp(F/(4*(Bx**2+By**2+Bz**2)))).doit().subs(F,F_scalar))>=0)\n",
    "display('DEC',factor(simplify(factor(DEC).subs(f, k*exp(F/(4*(Bx**2+By**2+Bz**2)))).doit()))<=0)\n"
   ]
  },
  {
   "cell_type": "code",
   "execution_count": 78,
   "metadata": {},
   "outputs": [
    {
     "data": {
      "image/png": "[encoded data removed]",
      "text/latex": [
       "$$B_{x}^{4} + 2 B_{x}^{2} B_{y}^{2} + 2 B_{x}^{2} B_{z}^{2} + 2 B_{x}^{2} E_{x}^{2} + 2 B_{x}^{2} E_{y}^{2} + 2 B_{x}^{2} E_{z}^{2} + B_{y}^{4} + 2 B_{y}^{2} B_{z}^{2} + 2 B_{y}^{2} E_{x}^{2} + 2 B_{y}^{2} E_{y}^{2} + 2 B_{y}^{2} E_{z}^{2} + B_{z}^{4} + 2 B_{z}^{2} E_{x}^{2} + 2 B_{z}^{2} E_{y}^{2} + 2 B_{z}^{2} E_{z}^{2} + E_{x}^{4} + 2 E_{x}^{2} E_{y}^{2} + 2 E_{x}^{2} E_{z}^{2} + E_{y}^{4} + 2 E_{y}^{2} E_{z}^{2} + E_{z}^{4}$$"
      ],
      "text/plain": [
       "  4       2    2       2    2       2   2       2    2       2    2      4    \n",
       "Bₓ  + 2⋅Bₓ ⋅B_y  + 2⋅Bₓ ⋅B_z  + 2⋅Bₓ ⋅Eₓ  + 2⋅Bₓ ⋅E_y  + 2⋅Bₓ ⋅E_z  + B_y  + 2\n",
       "\n",
       "    2    2        2   2        2    2        2    2      4        2   2       \n",
       "⋅B_y ⋅B_z  + 2⋅B_y ⋅Eₓ  + 2⋅B_y ⋅E_y  + 2⋅B_y ⋅E_z  + B_z  + 2⋅B_z ⋅Eₓ  + 2⋅B_\n",
       "\n",
       " 2    2        2    2     4       2    2       2    2      4        2    2    \n",
       "z ⋅E_y  + 2⋅B_z ⋅E_z  + Eₓ  + 2⋅Eₓ ⋅E_y  + 2⋅Eₓ ⋅E_z  + E_y  + 2⋅E_y ⋅E_z  + E\n",
       "\n",
       "  4\n",
       "_z "
      ]
     },
     "execution_count": 78,
     "metadata": {},
     "output_type": "execute_result"
    }
   ],
   "source": [
    "#Factor DEC in terms of B, E and S\n",
    "Bsq = Bx**2+By**2+Bz**2\n",
    "Esq = Ex**2+Ey**2+Ez**2\n",
    "expand((Bsq+Esq)**2)"
   ]
  },
  {
   "cell_type": "code",
   "execution_count": 79,
   "metadata": {},
   "outputs": [
    {
     "data": {
      "image/png": "[encoded data removed]",
      "text/latex": [
       "$$B_{x}^{2} E_{y}^{2} + B_{x}^{2} E_{z}^{2} - 2 B_{x} B_{y} E_{x} E_{y} - 2 B_{x} B_{z} E_{x} E_{z} + B_{y}^{2} E_{x}^{2} + B_{y}^{2} E_{z}^{2} - 2 B_{y} B_{z} E_{y} E_{z} + B_{z}^{2} E_{x}^{2} + B_{z}^{2} E_{y}^{2}$$"
      ],
      "text/plain": [
       "  2    2     2    2                                          2   2      2    2\n",
       "Bₓ ⋅E_y  + Bₓ ⋅E_z  - 2⋅Bₓ⋅B_y⋅Eₓ⋅E_y - 2⋅Bₓ⋅B_z⋅Eₓ⋅E_z + B_y ⋅Eₓ  + B_y ⋅E_z \n",
       "\n",
       "                          2   2      2    2\n",
       " - 2⋅B_y⋅B_z⋅E_y⋅E_z + B_z ⋅Eₓ  + B_z ⋅E_y "
      ]
     },
     "execution_count": 79,
     "metadata": {},
     "output_type": "execute_result"
    }
   ],
   "source": [
    "fac = simplify(factor(simplify(factor(DEC).subs(f, a*exp(F/(4*(Bx**2+By**2+Bz**2)))).doit()))\\\n",
    "*(a*exp(F/(4*(Bx**2+By**2+Bz**2))))**(-2)*Bsq**2)\n",
    "simplify(expand((Bsq+Esq)**2)+fac)"
   ]
  },
  {
   "cell_type": "code",
   "execution_count": 80,
   "metadata": {},
   "outputs": [
    {
     "data": {
      "image/png": "[encoded data removed]",
      "text/latex": [
       "$$B_{x}^{2} E_{y}^{2} + B_{x}^{2} E_{z}^{2} - 2 B_{x} B_{y} E_{x} E_{y} - 2 B_{x} B_{z} E_{x} E_{z} + B_{y}^{2} E_{x}^{2} + B_{y}^{2} E_{z}^{2} - 2 B_{y} B_{z} E_{y} E_{z} + B_{z}^{2} E_{x}^{2} + B_{z}^{2} E_{y}^{2}$$"
      ],
      "text/plain": [
       "  2    2     2    2                                          2   2      2    2\n",
       "Bₓ ⋅E_y  + Bₓ ⋅E_z  - 2⋅Bₓ⋅B_y⋅Eₓ⋅E_y - 2⋅Bₓ⋅B_z⋅Eₓ⋅E_z + B_y ⋅Eₓ  + B_y ⋅E_z \n",
       "\n",
       "                          2   2      2    2\n",
       " - 2⋅B_y⋅B_z⋅E_y⋅E_z + B_z ⋅Eₓ  + B_z ⋅E_y "
      ]
     },
     "execution_count": 80,
     "metadata": {},
     "output_type": "execute_result"
    }
   ],
   "source": [
    "Bmat = Matrix([[Bx],[By],[Bz]])\n",
    "Emat = Matrix([[Ex],[Ey],[Ez]])\n",
    "S=Emat.cross(Bmat)\n",
    "expand(S.dot(S))"
   ]
  },
  {
   "cell_type": "code",
   "execution_count": 81,
   "metadata": {},
   "outputs": [
    {
     "data": {
      "image/png": "[encoded data removed]",
      "text/latex": [
       "$$0$$"
      ],
      "text/plain": [
       "0"
      ]
     },
     "execution_count": 81,
     "metadata": {},
     "output_type": "execute_result"
    }
   ],
   "source": [
    "simplify(expand((Bsq+Esq)**2)+fac)-expand(S.dot(S))"
   ]
  },
  {
   "cell_type": "code",
   "execution_count": null,
   "metadata": {
    "collapsed": true
   },
   "outputs": [],
   "source": []
  }
 ],
 "metadata": {
  "anaconda-cloud": {},
  "kernelspec": {
   "display_name": "Python [conda root]",
   "language": "python",
   "name": "conda-root-py"
  },
  "language_info": {
   "codemirror_mode": {
    "name": "ipython",
    "version": 2
   },
   "file_extension": ".py",
   "mimetype": "text/x-python",
   "name": "python",
   "nbconvert_exporter": "python",
   "pygments_lexer": "ipython2",
   "version": "2.7.12"
  }
 },
 "nbformat": 4,
 "nbformat_minor": 1
}
