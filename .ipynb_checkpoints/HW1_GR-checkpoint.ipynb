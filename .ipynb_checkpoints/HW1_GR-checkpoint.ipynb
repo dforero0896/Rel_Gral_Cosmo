{
 "cells": [
  {
   "cell_type": "code",
   "execution_count": 1,
   "metadata": {},
   "outputs": [
    {
     "name": "stdout",
     "output_type": "stream",
     "text": [
      "IPython console for SymPy 1.0 (Python 2.7.12-64-bit) (ground types: python)\n",
      "\n",
      "These commands were executed:\n",
      ">>> from __future__ import division\n",
      ">>> from sympy import *\n",
      ">>> x, y, z, t = symbols('x y z t')\n",
      ">>> k, m, n = symbols('k m n', integer=True)\n",
      ">>> f, g, h = symbols('f g h', cls=Function)\n",
      ">>> init_printing()\n",
      "\n",
      "Documentation can be found at http://docs.sympy.org/1.0/\n"
     ]
    }
   ],
   "source": [
    "from sympy import init_session\n",
    "init_session()\n",
    "from sympy.diffgeom import *\n",
    "from sympy.tensor.array import Array"
   ]
  },
  {
   "cell_type": "code",
   "execution_count": 2,
   "metadata": {
    "collapsed": true
   },
   "outputs": [],
   "source": [
    "theta, phi, I = symbols('theta phi I')\n",
    "M=Manifold('M', 2)\n",
    "P=Patch('P', M)\n",
    "S2 = CoordSystem('S2', P, ['I', 'varphi'])\n",
    "e_I, e_phi = S2.base_vectors()\n",
    "dI, dphi = S2.base_oneforms()\n",
    "I, phi = S2.coord_functions()\n",
    "K=(1-I**2)\n",
    "TP=TensorProduct\n",
    "metric = (1/K)*TP(dI,dI) + K*TP(dphi,dphi)\n",
    "S2_metric=Array([[1/K,0],[0,K]])\n",
    "S2_ch=metric_to_Christoffel_2nd(metric)\n"
   ]
  },
  {
   "cell_type": "code",
   "execution_count": 8,
   "metadata": {},
   "outputs": [
    {
     "name": "stdout",
     "output_type": "stream",
     "text": [
      "Gamma^( 0 )_( 0 0 ) = I/(-I**2 + 1)\n",
      "Gamma^( 0 )_( 0 1 ) = 0\n",
      "Gamma^( 0 )_( 1 0 ) = 0\n",
      "Gamma^( 0 )_( 1 1 ) = (-I**2 + 1)*I\n",
      "Gamma^( 1 )_( 0 0 ) = 0\n",
      "Gamma^( 1 )_( 0 1 ) = -I/(-I**2 + 1)\n",
      "Gamma^( 1 )_( 1 0 ) = -I/(-I**2 + 1)\n",
      "Gamma^( 1 )_( 1 1 ) = 0\n"
     ]
    }
   ],
   "source": [
    "dim_index = [0,1]\n",
    "for i in dim_index:\n",
    "    for k in dim_index:\n",
    "        for j in dim_index:\n",
    "            print \"Gamma^(\", i, \")_(\", k, j, \") =\", S2_ch[i, j, k]            "
   ]
  },
  {
   "cell_type": "code",
   "execution_count": 9,
   "metadata": {},
   "outputs": [
    {
     "name": "stdout",
     "output_type": "stream",
     "text": [
      "R^( 0 )_( 0 0 0 ) = 0\n",
      "R^( 0 )_( 0 0 1 ) = 0\n",
      "R^( 0 )_( 0 1 0 ) = 0\n",
      "R^( 0 )_( 0 1 1 ) = 0\n",
      "R^( 0 )_( 1 0 0 ) = 0\n",
      "R^( 0 )_( 1 0 1 ) = -I**2 + 1\n",
      "R^( 0 )_( 1 1 0 ) = I**2 - 1\n",
      "R^( 0 )_( 1 1 1 ) = 0\n",
      "R^( 1 )_( 0 0 0 ) = 0\n",
      "R^( 1 )_( 0 0 1 ) = -1/(-I**2 + 1)\n",
      "R^( 1 )_( 0 1 0 ) = 1/(-I**2 + 1)\n",
      "R^( 1 )_( 0 1 1 ) = 0\n",
      "R^( 1 )_( 1 0 0 ) = 0\n",
      "R^( 1 )_( 1 0 1 ) = 0\n",
      "R^( 1 )_( 1 1 0 ) = 0\n",
      "R^( 1 )_( 1 1 1 ) = 0\n"
     ]
    }
   ],
   "source": [
    "S2_Riemman=metric_to_Riemann_components(metric)\n",
    "S2_Riemman\n",
    "for i in dim_index:\n",
    "    for k in dim_index:\n",
    "        for n in dim_index:\n",
    "            for m in dim_index:\n",
    "                print \"R^(\", i, \")_(\", k, n, m,\") =\", S2_Riemman[i, k, n, m]"
   ]
  },
  {
   "cell_type": "code",
   "execution_count": 10,
   "metadata": {},
   "outputs": [
    {
     "data": {
      "text/latex": [
       "$$\\left[\\begin{matrix}\\frac{1}{- \\boldsymbol{\\mathrm{I}}^{2} + 1} & 0\\\\0 & - \\boldsymbol{\\mathrm{I}}^{2} + 1\\end{matrix}\\right]$$"
      ],
      "text/plain": [
       "⎡   1              ⎤\n",
       "⎢────────     0    ⎥\n",
       "⎢   2              ⎥\n",
       "⎢- I  + 1          ⎥\n",
       "⎢                  ⎥\n",
       "⎢             2    ⎥\n",
       "⎣   0      - I  + 1⎦"
      ]
     },
     "execution_count": 10,
     "metadata": {},
     "output_type": "execute_result"
    }
   ],
   "source": [
    "S2_Ricci=metric_to_Ricci_components(metric)\n",
    "S2_Ricci.tomatrix()\n"
   ]
  },
  {
   "cell_type": "code",
   "execution_count": 11,
   "metadata": {},
   "outputs": [
    {
     "data": {
      "image/png": "[encoded data removed]",
      "text/latex": [
       "$$2$$"
      ],
      "text/plain": [
       "2"
      ]
     },
     "execution_count": 11,
     "metadata": {},
     "output_type": "execute_result"
    }
   ],
   "source": [
    "S2_R=S2_metric.tomatrix().inv()[0,0]*S2_Ricci[0,0]+\\\n",
    "S2_metric.tomatrix().inv()[1,1]*S2_Ricci[1,1]\n",
    "S2_R"
   ]
  },
  {
   "cell_type": "code",
   "execution_count": 12,
   "metadata": {
    "collapsed": true
   },
   "outputs": [],
   "source": [
    "S2_Einstein = S2_Ricci - (1/2)*S2_R*S2_metric"
   ]
  },
  {
   "cell_type": "code",
   "execution_count": 13,
   "metadata": {},
   "outputs": [
    {
     "data": {
      "text/latex": [
       "$$\\left[\\begin{matrix}0 & 0\\\\0 & 0\\end{matrix}\\right]$$"
      ],
      "text/plain": [
       "⎡0  0⎤\n",
       "⎢    ⎥\n",
       "⎣0  0⎦"
      ]
     },
     "execution_count": 13,
     "metadata": {},
     "output_type": "execute_result"
    }
   ],
   "source": [
    "S2_Einstein.tomatrix()"
   ]
  }
 ],
 "metadata": {
  "anaconda-cloud": {},
  "kernelspec": {
   "display_name": "Python [default]",
   "language": "python",
   "name": "python2"
  },
  "language_info": {
   "codemirror_mode": {
    "name": "ipython",
    "version": 2
   },
   "file_extension": ".py",
   "mimetype": "text/x-python",
   "name": "python",
   "nbconvert_exporter": "python",
   "pygments_lexer": "ipython2",
   "version": "2.7.12"
  }
 },
 "nbformat": 4,
 "nbformat_minor": 1
}
