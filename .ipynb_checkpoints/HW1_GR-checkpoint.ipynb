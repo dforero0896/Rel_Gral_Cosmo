{
 "cells": [
  {
   "cell_type": "code",
   "execution_count": 1,
   "metadata": {},
   "outputs": [
    {
     "name": "stdout",
     "output_type": "stream",
     "text": [
      "IPython console for SymPy 1.0 (Python 2.7.12-64-bit) (ground types: python)\n",
      "\n",
      "These commands were executed:\n",
      ">>> from __future__ import division\n",
      ">>> from sympy import *\n",
      ">>> x, y, z, t = symbols('x y z t')\n",
      ">>> k, m, n = symbols('k m n', integer=True)\n",
      ">>> f, g, h = symbols('f g h', cls=Function)\n",
      ">>> init_printing()\n",
      "\n",
      "Documentation can be found at http://docs.sympy.org/1.0/\n"
     ]
    }
   ],
   "source": [
    "from sympy import init_session\n",
    "init_session()\n",
    "from sympy.diffgeom import *\n",
    "from sympy.tensor.array import Array"
   ]
  },
  {
   "cell_type": "code",
   "execution_count": 2,
   "metadata": {
    "collapsed": true
   },
   "outputs": [],
   "source": [
    "theta, phi, I = symbols('theta phi I')\n",
    "M=Manifold('M', 2)\n",
    "P=Patch('P', M)\n",
    "S2 = CoordSystem('S2', P, ['I', 'varphi'])\n",
    "e_I, e_phi = S2.base_vectors()\n",
    "dI, dphi = S2.base_oneforms()\n",
    "I, phi = S2.coord_functions()\n",
    "K=(1-I**2)\n",
    "TP=TensorProduct\n",
    "metric = (1/K)*TP(dI,dI) + K*TP(dphi,dphi)\n",
    "S2_metric=Array([[1/K,0],[0,K]])\n",
    "S2_ch=metric_to_Christoffel_2nd(metric)\n"
   ]
  },
  {
   "cell_type": "code",
   "execution_count": 3,
   "metadata": {},
   "outputs": [
    {
     "name": "stdout",
     "output_type": "stream",
     "text": [
      "Gamma^( 0 )_( 0 0 ) = I/(-I**2 + 1)\n",
      "Gamma^( 0 )_( 0 1 ) = 0\n",
      "Gamma^( 0 )_( 1 0 ) = 0\n",
      "Gamma^( 0 )_( 1 1 ) = (-I**2 + 1)*I\n",
      "Gamma^( 1 )_( 0 0 ) = 0\n",
      "Gamma^( 1 )_( 0 1 ) = -I/(-I**2 + 1)\n",
      "Gamma^( 1 )_( 1 0 ) = -I/(-I**2 + 1)\n",
      "Gamma^( 1 )_( 1 1 ) = 0\n"
     ]
    }
   ],
   "source": [
    "dim_index = [0,1]\n",
    "for i in dim_index:\n",
    "    for k in dim_index:\n",
    "        for j in dim_index:\n",
    "            print \"Gamma^(\", i, \")_(\", k, j, \") =\", S2_ch[i, j, k]            "
   ]
  },
  {
   "cell_type": "code",
   "execution_count": 4,
   "metadata": {},
   "outputs": [
    {
     "name": "stdout",
     "output_type": "stream",
     "text": [
      "R^( 0 )_( 0 0 0 ) = 0\n",
      "R^( 0 )_( 0 0 1 ) = 0\n",
      "R^( 0 )_( 0 1 0 ) = 0\n",
      "R^( 0 )_( 0 1 1 ) = 0\n",
      "R^( 0 )_( 1 0 0 ) = 0\n",
      "R^( 0 )_( 1 0 1 ) = -I**2 + 1\n",
      "R^( 0 )_( 1 1 0 ) = I**2 - 1\n",
      "R^( 0 )_( 1 1 1 ) = 0\n",
      "R^( 1 )_( 0 0 0 ) = 0\n",
      "R^( 1 )_( 0 0 1 ) = -1/(-I**2 + 1)\n",
      "R^( 1 )_( 0 1 0 ) = 1/(-I**2 + 1)\n",
      "R^( 1 )_( 0 1 1 ) = 0\n",
      "R^( 1 )_( 1 0 0 ) = 0\n",
      "R^( 1 )_( 1 0 1 ) = 0\n",
      "R^( 1 )_( 1 1 0 ) = 0\n",
      "R^( 1 )_( 1 1 1 ) = 0\n"
     ]
    }
   ],
   "source": [
    "S2_Riemman=metric_to_Riemann_components(metric)\n",
    "for i in dim_index:\n",
    "    for k in dim_index:\n",
    "        for n in dim_index:\n",
    "            for m in dim_index:\n",
    "                print \"R^(\", i, \")_(\", k, n, m,\") =\", S2_Riemman[i, k, n, m]"
   ]
  },
  {
   "cell_type": "code",
   "execution_count": 5,
   "metadata": {},
   "outputs": [
    {
     "data": {
      "text/latex": [
       "$$\\left[\\begin{matrix}\\frac{1}{- \\boldsymbol{\\mathrm{I}}^{2} + 1} & 0\\\\0 & - \\boldsymbol{\\mathrm{I}}^{2} + 1\\end{matrix}\\right]$$"
      ],
      "text/plain": [
       "⎡   1              ⎤\n",
       "⎢────────     0    ⎥\n",
       "⎢   2              ⎥\n",
       "⎢- I  + 1          ⎥\n",
       "⎢                  ⎥\n",
       "⎢             2    ⎥\n",
       "⎣   0      - I  + 1⎦"
      ]
     },
     "execution_count": 5,
     "metadata": {},
     "output_type": "execute_result"
    }
   ],
   "source": [
    "S2_Ricci=metric_to_Ricci_components(metric)\n",
    "S2_Ricci.tomatrix()\n"
   ]
  },
  {
   "cell_type": "code",
   "execution_count": 6,
   "metadata": {},
   "outputs": [
    {
     "data": {
      "image/png": "[encoded data removed]",
      "text/latex": [
       "$$2$$"
      ],
      "text/plain": [
       "2"
      ]
     },
     "execution_count": 6,
     "metadata": {},
     "output_type": "execute_result"
    }
   ],
   "source": [
    "S2_R=S2_metric.tomatrix().inv()[0,0]*S2_Ricci[0,0]+\\\n",
    "S2_metric.tomatrix().inv()[1,1]*S2_Ricci[1,1]\n",
    "S2_R"
   ]
  },
  {
   "cell_type": "code",
   "execution_count": 7,
   "metadata": {
    "collapsed": true
   },
   "outputs": [],
   "source": [
    "S2_Einstein = S2_Ricci - (1/2)*S2_R*S2_metric"
   ]
  },
  {
   "cell_type": "code",
   "execution_count": 8,
   "metadata": {},
   "outputs": [
    {
     "data": {
      "text/latex": [
       "$$\\left[\\begin{matrix}0 & 0\\\\0 & 0\\end{matrix}\\right]$$"
      ],
      "text/plain": [
       "⎡0  0⎤\n",
       "⎢    ⎥\n",
       "⎣0  0⎦"
      ]
     },
     "execution_count": 8,
     "metadata": {},
     "output_type": "execute_result"
    }
   ],
   "source": [
    "S2_Einstein.tomatrix()"
   ]
  },
  {
   "cell_type": "code",
   "execution_count": 28,
   "metadata": {},
   "outputs": [],
   "source": [
    "S2_std = CoordSystem('S2_std', P, ['theta', 'varphi'])\n",
    "e_theta, e_phi = S2_std.base_vectors()\n",
    "dtheta, dphi = S2_std.base_oneforms()\n",
    "theta, phi = S2_std.coord_functions()\n",
    "metric_std = TP(dtheta, dtheta) + sin(theta)**2*TP(dphi, dphi)\n",
    "S2_metric_std=Array([[1,0],[0,sin(theta)**2]])\n"
   ]
  },
  {
   "cell_type": "code",
   "execution_count": 29,
   "metadata": {},
   "outputs": [
    {
     "name": "stdout",
     "output_type": "stream",
     "text": [
      "Gamma^( 0 )_( 0 0 ) = 0\n",
      "Gamma^( 0 )_( 0 1 ) = 0\n",
      "Gamma^( 0 )_( 1 0 ) = 0\n",
      "Gamma^( 0 )_( 1 1 ) = -sin(2*theta)/2\n",
      "Gamma^( 1 )_( 0 0 ) = 0\n",
      "Gamma^( 1 )_( 0 1 ) = 1/tan(theta)\n",
      "Gamma^( 1 )_( 1 0 ) = 1/tan(theta)\n",
      "Gamma^( 1 )_( 1 1 ) = 0\n"
     ]
    }
   ],
   "source": [
    "S2_ch_std=metric_to_Christoffel_2nd(metric_std)\n",
    "for i in dim_index:\n",
    "    for k in dim_index:\n",
    "        for j in dim_index:\n",
    "            print \"Gamma^(\", i, \")_(\", k, j, \") =\", simplify(S2_ch_std[i, j, k])"
   ]
  },
  {
   "cell_type": "code",
   "execution_count": 31,
   "metadata": {},
   "outputs": [
    {
     "name": "stdout",
     "output_type": "stream",
     "text": [
      "R^( 0 )_( 0 0 0 ) = 0\n",
      "R^( 0 )_( 0 0 1 ) = 0\n",
      "R^( 0 )_( 0 1 0 ) = 0\n",
      "R^( 0 )_( 0 1 1 ) = 0\n",
      "R^( 0 )_( 1 0 0 ) = 0\n",
      "R^( 0 )_( 1 0 1 ) = sin(theta)**2\n",
      "R^( 0 )_( 1 1 0 ) = -sin(theta)**2\n",
      "R^( 0 )_( 1 1 1 ) = 0\n",
      "R^( 1 )_( 0 0 0 ) = 0\n",
      "R^( 1 )_( 0 0 1 ) = -1\n",
      "R^( 1 )_( 0 1 0 ) = 1\n",
      "R^( 1 )_( 0 1 1 ) = 0\n",
      "R^( 1 )_( 1 0 0 ) = 0\n",
      "R^( 1 )_( 1 0 1 ) = 0\n",
      "R^( 1 )_( 1 1 0 ) = 0\n",
      "R^( 1 )_( 1 1 1 ) = 0\n"
     ]
    }
   ],
   "source": [
    "S2_Riemman_std=metric_to_Riemann_components(metric_std)\n",
    "for i in dim_index:\n",
    "    for k in dim_index:\n",
    "        for n in dim_index:\n",
    "            for m in dim_index:\n",
    "                print \"R^(\", i, \")_(\", k, n, m,\") =\", S2_Riemman_std[i, k, n, m]"
   ]
  },
  {
   "cell_type": "code",
   "execution_count": 32,
   "metadata": {},
   "outputs": [
    {
     "data": {
      "text/latex": [
       "$$\\left[\\begin{matrix}1 & 0\\\\0 & \\sin^{2}{\\left (\\boldsymbol{\\mathrm{\\theta}} \\right )}\\end{matrix}\\right]$$"
      ],
      "text/plain": [
       "⎡1     0   ⎤\n",
       "⎢          ⎥\n",
       "⎢      2   ⎥\n",
       "⎣0  sin (θ)⎦"
      ]
     },
     "execution_count": 32,
     "metadata": {},
     "output_type": "execute_result"
    }
   ],
   "source": [
    "S2_Ricci_std=metric_to_Ricci_components(metric_std)\n",
    "S2_Ricci_std.tomatrix()\n"
   ]
  },
  {
   "cell_type": "code",
   "execution_count": 33,
   "metadata": {},
   "outputs": [
    {
     "data": {
      "image/png": "[encoded data removed]",
      "text/latex": [
       "$$2$$"
      ],
      "text/plain": [
       "2"
      ]
     },
     "execution_count": 33,
     "metadata": {},
     "output_type": "execute_result"
    }
   ],
   "source": [
    "S2_R_std=S2_metric_std.tomatrix().inv()[0,0]*S2_Ricci_std[0,0]+\\\n",
    "S2_metric_std.tomatrix().inv()[1,1]*S2_Ricci_std[1,1]\n",
    "S2_R_std"
   ]
  },
  {
   "cell_type": "code",
   "execution_count": 34,
   "metadata": {},
   "outputs": [
    {
     "data": {
      "text/latex": [
       "$$\\left[\\begin{matrix}0 & 0\\\\0 & 0\\end{matrix}\\right]$$"
      ],
      "text/plain": [
       "⎡0  0⎤\n",
       "⎢    ⎥\n",
       "⎣0  0⎦"
      ]
     },
     "execution_count": 34,
     "metadata": {},
     "output_type": "execute_result"
    }
   ],
   "source": [
    "S2_Einstein_std = S2_Ricci_std - (1/2)*S2_R_std*S2_metric_std\n",
    "S2_Einstein_std.tomatrix()"
   ]
  },
  {
   "cell_type": "code",
   "execution_count": 51,
   "metadata": {},
   "outputs": [
    {
     "data": {
      "text/latex": [
       "$$\\sinh^{2}{\\left (\\boldsymbol{\\mathrm{x}} \\right )} \\mathrm{d}\\Omega\\otimes\\mathrm{d}\\Omega + \\mathrm{d}x\\otimes\\mathrm{d}x$$"
      ],
      "text/plain": [
       "    2                                                         \n",
       "sinh (x)⋅TensorProduct(dOmega, dOmega) + TensorProduct(dx, dx)"
      ]
     },
     "execution_count": 51,
     "metadata": {},
     "output_type": "execute_result"
    }
   ],
   "source": [
    "beta, gamm=symbols('beta gamma')\n",
    "R2_vel = CoordSystem('R2_vel', P, ['x', 'Omega'])\n",
    "e_x, e_om = R2_vel.base_vectors()\n",
    "dx, dom = R2_vel.base_oneforms()\n",
    "x, om = R2_vel.coord_functions()\n",
    "metric_vel = TP(dx, dx) + sinh(x)**2*TP(dom, dom)\n",
    "R2_metric_vel=Array([[1,0],[0,sinh(x)**2]])\n",
    "metric_vel"
   ]
  },
  {
   "cell_type": "code",
   "execution_count": 60,
   "metadata": {},
   "outputs": [
    {
     "name": "stdout",
     "output_type": "stream",
     "text": [
      "Gamma^( 0 )_( 0 0 ) = 0\n",
      "Gamma^( 0 )_( 0 1 ) = 0\n",
      "Gamma^( 0 )_( 1 0 ) = 0\n",
      "Gamma^( 0 )_( 1 1 ) = beta/(beta**2 - 1)\n",
      "Gamma^( 1 )_( 0 0 ) = 0\n",
      "Gamma^( 1 )_( 0 1 ) = 1/beta\n",
      "Gamma^( 1 )_( 1 0 ) = 1/beta\n",
      "Gamma^( 1 )_( 1 1 ) = 0\n"
     ]
    }
   ],
   "source": [
    "R2_ch_vel=metric_to_Christoffel_2nd(metric_vel)\n",
    "for i in dim_index:\n",
    "    for k in dim_index:\n",
    "        for j in dim_index:\n",
    "            print \"Gamma^(\", i, \")_(\", k, j, \") =\", simplify(R2_ch_vel[i, j, k].subs(x, atanh(beta)))"
   ]
  },
  {
   "cell_type": "code",
   "execution_count": 58,
   "metadata": {},
   "outputs": [
    {
     "name": "stdout",
     "output_type": "stream",
     "text": [
      "R^( 0 )_( 0 0 0 ) = 0\n",
      "R^( 0 )_( 0 0 1 ) = 0\n",
      "R^( 0 )_( 0 1 0 ) = 0\n",
      "R^( 0 )_( 0 1 1 ) = 0\n",
      "R^( 0 )_( 1 0 0 ) = 0\n",
      "R^( 0 )_( 1 0 1 ) = -gamma**2\n",
      "R^( 0 )_( 1 1 0 ) = gamma**2\n",
      "R^( 0 )_( 1 1 1 ) = 0\n",
      "R^( 1 )_( 0 0 0 ) = 0\n",
      "R^( 1 )_( 0 0 1 ) = 1\n",
      "R^( 1 )_( 0 1 0 ) = -1\n",
      "R^( 1 )_( 0 1 1 ) = 0\n",
      "R^( 1 )_( 1 0 0 ) = 0\n",
      "R^( 1 )_( 1 0 1 ) = 0\n",
      "R^( 1 )_( 1 1 0 ) = 0\n",
      "R^( 1 )_( 1 1 1 ) = 0\n"
     ]
    }
   ],
   "source": [
    "R2_Riemman_vel=metric_to_Riemann_components(metric_vel)\n",
    "for i in dim_index:\n",
    "    for k in dim_index:\n",
    "        for n in dim_index:\n",
    "            for m in dim_index:\n",
    "                print \"R^(\", i, \")_(\", k, n, m,\") =\", R2_Riemman_vel[i, k, n, m].subs(sinh(x), gamm)"
   ]
  },
  {
   "cell_type": "code",
   "execution_count": 49,
   "metadata": {},
   "outputs": [
    {
     "data": {
      "text/latex": [
       "$$\\left[\\begin{matrix}-1 & 0\\\\0 & - \\sinh^{2}{\\left (\\boldsymbol{\\mathrm{x}} \\right )}\\end{matrix}\\right]$$"
      ],
      "text/plain": [
       "⎡-1      0    ⎤\n",
       "⎢             ⎥\n",
       "⎢         2   ⎥\n",
       "⎣0   -sinh (x)⎦"
      ]
     },
     "execution_count": 49,
     "metadata": {},
     "output_type": "execute_result"
    }
   ],
   "source": [
    "R2_Ricci_vel=metric_to_Ricci_components(metric_vel)\n",
    "R2_Ricci_vel.tomatrix()\n"
   ]
  },
  {
   "cell_type": "code",
   "execution_count": 56,
   "metadata": {},
   "outputs": [
    {
     "data": {
      "text/latex": [
       "$$\\left[\\begin{matrix}-1 & 0\\\\0 & - \\gamma^{2}\\end{matrix}\\right]$$"
      ],
      "text/plain": [
       "⎡-1   0 ⎤\n",
       "⎢       ⎥\n",
       "⎢      2⎥\n",
       "⎣0   -γ ⎦"
      ]
     },
     "execution_count": 56,
     "metadata": {},
     "output_type": "execute_result"
    }
   ],
   "source": [
    "simplify(R2_Ricci_vel.tomatrix().subs(sinh(x), gamm))"
   ]
  },
  {
   "cell_type": "code",
   "execution_count": 41,
   "metadata": {},
   "outputs": [
    {
     "data": {
      "image/png": "[encoded data removed]",
      "text/latex": [
       "$$-2$$"
      ],
      "text/plain": [
       "-2"
      ]
     },
     "execution_count": 41,
     "metadata": {},
     "output_type": "execute_result"
    }
   ],
   "source": [
    "R2_R_vel=R2_metric_vel.tomatrix().inv()[0,0]*R2_Ricci_vel[0,0]+\\\n",
    "R2_metric_vel.tomatrix().inv()[1,1]*R2_Ricci_vel[1,1]\n",
    "R2_R_vel"
   ]
  },
  {
   "cell_type": "code",
   "execution_count": 42,
   "metadata": {},
   "outputs": [
    {
     "data": {
      "text/latex": [
       "$$\\left[\\begin{matrix}0 & 0\\\\0 & 0\\end{matrix}\\right]$$"
      ],
      "text/plain": [
       "⎡0  0⎤\n",
       "⎢    ⎥\n",
       "⎣0  0⎦"
      ]
     },
     "execution_count": 42,
     "metadata": {},
     "output_type": "execute_result"
    }
   ],
   "source": [
    "R2_Einstein_vel = R2_Ricci_vel - (1/2)*R2_R_vel*R2_metric_vel\n",
    "R2_Einstein_vel.tomatrix()"
   ]
  },
  {
   "cell_type": "code",
   "execution_count": null,
   "metadata": {
    "collapsed": true
   },
   "outputs": [],
   "source": []
  }
 ],
 "metadata": {
  "anaconda-cloud": {},
  "kernelspec": {
   "display_name": "Python [default]",
   "language": "python",
   "name": "python2"
  },
  "language_info": {
   "codemirror_mode": {
    "name": "ipython",
    "version": 2
   },
   "file_extension": ".py",
   "mimetype": "text/x-python",
   "name": "python",
   "nbconvert_exporter": "python",
   "pygments_lexer": "ipython2",
   "version": "2.7.12"
  }
 },
 "nbformat": 4,
 "nbformat_minor": 1
}
