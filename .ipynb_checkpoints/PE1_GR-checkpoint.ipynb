{
 "cells": [
  {
   "cell_type": "code",
   "execution_count": 1,
   "metadata": {
    "collapsed": true
   },
   "outputs": [],
   "source": [
    "from sympy import *\n",
    "init_printing()\n",
    "from sympy.diffgeom import *\n",
    "from sympy.tensor.array import Array"
   ]
  },
  {
   "cell_type": "markdown",
   "metadata": {},
   "source": [
    "# Punto 1\n",
    "\n",
    "Tenemos la métrica $$ds^2 = -dt^2 + dx_idx^i$$, que en forma matricial se puede escribir como $g_{\\mu\\nu}$ mostrada a continuación."
   ]
  },
  {
   "cell_type": "code",
   "execution_count": 6,
   "metadata": {},
   "outputs": [
    {
     "data": {
      "text/latex": [
       "$$\\left[\\begin{matrix}-1 & 0 & 0 & 0\\\\0 & 1 & 0 & 0\\\\0 & 0 & 1 & 0\\\\0 & 0 & 0 & 1\\end{matrix}\\right]$$"
      ],
      "text/plain": [
       "⎡-1  0  0  0⎤\n",
       "⎢           ⎥\n",
       "⎢0   1  0  0⎥\n",
       "⎢           ⎥\n",
       "⎢0   0  1  0⎥\n",
       "⎢           ⎥\n",
       "⎣0   0  0  1⎦"
      ]
     },
     "execution_count": 6,
     "metadata": {},
     "output_type": "execute_result"
    }
   ],
   "source": [
    "g_mink = Matrix([[-1, 0, 0, 0], [0, 1, 0, 0], [0, 0, 1, 0], [0, 0, 0, 1]])\n",
    "g_mink"
   ]
  },
  {
   "cell_type": "markdown",
   "metadata": {},
   "source": [
    "A un evento $x^\\mu$ se le asocia una cuadrivelocidad $u^\\mu=\\frac{dx^\\mu}{d\\tau}$ donde $\\tau$ es el tiempo propio, que cumple que $t=x^0=\\gamma\\tau$. De esta forma, $$u^\\mu=\\frac{dx^\\mu}{d\\tau}=\\frac{dx^\\mu}{dx^0}\\frac{dx^0}{d\\tau}=\\gamma\\frac{dx^\\mu}{dx^0}.$$\n",
    "Si expandimos $x^\\mu$ tendremos \n",
    "$$u^\\mu = \\gamma\\\\\\left(\\frac{dx^0}{dx^0}, \\frac{dx^i}{dx^0}\\right)=\\gamma(1, \\vec{u}).$$\n",
    "\n",
    "Con esto podemos obtener el producto $$u^\\mu u_\\nu g^{\\mu\\nu} = u_\\mu u^\\mu = \\gamma(1, \\vec{u}) \\cdot \\gamma(-1, \\vec{u}) = \\gamma^2(-1+|\\vec{u}|^2).$$\n",
    "Poniendo la expresión para $\\gamma$:\n",
    "$$u_\\mu u^\\mu = (-1+|\\vec{u}|^2)\\frac{1}{1-|\\vec{u}|^2} = -1$$"
   ]
  },
  {
   "cell_type": "code",
   "execution_count": 66,
   "metadata": {},
   "outputs": [
    {
     "data": {
      "text/latex": [
       "$$\\left[\\begin{matrix}- \\frac{1}{\\beta^{2} \\boldsymbol{\\mathrm{x}}^{2}} & 0\\\\0 & 1\\end{matrix}\\right]$$"
      ],
      "text/plain": [
       "⎡ -1     ⎤\n",
       "⎢─────  0⎥\n",
       "⎢ 2  2   ⎥\n",
       "⎢β ⋅x    ⎥\n",
       "⎢        ⎥\n",
       "⎣  0    1⎦"
      ]
     },
     "execution_count": 66,
     "metadata": {},
     "output_type": "execute_result"
    }
   ],
   "source": [
    "B, x, t = symbols('beta x t')\n",
    "M=Manifold('M', 2)\n",
    "P=Patch('P', M)\n",
    "S2 = CoordSystem('S2', P, ['t', 'x'])\n",
    "e_t, e_x = S2.base_vectors()\n",
    "dt, dx = S2.base_oneforms()\n",
    "t, x = S2.coord_functions()\n",
    "TP=TensorProduct\n",
    "metric2 = -(B*x)**2 * TP(dt,dt) + TP(dx,dx)\n",
    "S2_metric=Array([[-(B*x)**2,0],[0,1]])\n",
    "S2_Ricci=metric_to_Ricci_components(metric2)\n",
    "S2_Ricci\n",
    "S2_metric.tomatrix().inv()\n"
   ]
  },
  {
   "cell_type": "code",
   "execution_count": 68,
   "metadata": {},
   "outputs": [
    {
     "name": "stdout",
     "output_type": "stream",
     "text": [
      "Gamma^( 0 )_( 0 0 ) = 0\n",
      "Gamma^( 0 )_( 0 1 ) = 1/x\n",
      "Gamma^( 0 )_( 1 0 ) = 1/x\n",
      "Gamma^( 0 )_( 1 1 ) = 0\n",
      "Gamma^( 1 )_( 0 0 ) = beta**2*x\n",
      "Gamma^( 1 )_( 0 1 ) = 0\n",
      "Gamma^( 1 )_( 1 0 ) = 0\n",
      "Gamma^( 1 )_( 1 1 ) = 0\n"
     ]
    }
   ],
   "source": [
    "S2_ch = metric_to_Christoffel_2nd(metric2)\n",
    "S2_ch\n",
    "dim_index = [0,1]\n",
    "for i in dim_index:\n",
    "    for k in dim_index:\n",
    "        for j in dim_index:\n",
    "            print \"Gamma^(\", i, \")_(\", k, j, \") =\", S2_ch[i, j, k]  "
   ]
  },
  {
   "cell_type": "code",
   "execution_count": 59,
   "metadata": {},
   "outputs": [
    {
     "name": "stdout",
     "output_type": "stream",
     "text": [
      "R^( 0 )_( 0 0 0 ) = 0\n",
      "R^( 0 )_( 0 0 1 ) = 0\n",
      "R^( 0 )_( 0 1 0 ) = 0\n",
      "R^( 0 )_( 0 1 1 ) = 0\n",
      "R^( 0 )_( 1 0 0 ) = 0\n",
      "R^( 0 )_( 1 0 1 ) = 0\n",
      "R^( 0 )_( 1 1 0 ) = 0\n",
      "R^( 0 )_( 1 1 1 ) = 0\n",
      "R^( 1 )_( 0 0 0 ) = 0\n",
      "R^( 1 )_( 0 0 1 ) = 0\n",
      "R^( 1 )_( 0 1 0 ) = 0\n",
      "R^( 1 )_( 0 1 1 ) = 0\n",
      "R^( 1 )_( 1 0 0 ) = 0\n",
      "R^( 1 )_( 1 0 1 ) = 0\n",
      "R^( 1 )_( 1 1 0 ) = 0\n",
      "R^( 1 )_( 1 1 1 ) = 0\n"
     ]
    }
   ],
   "source": [
    "S2_Riemann = metric_to_Riemann_components(metric2)\n",
    "S2_Riemann\n",
    "for i in dim_index:\n",
    "    for k in dim_index:\n",
    "        for n in dim_index:\n",
    "            for m in dim_index:\n",
    "                print \"R^(\", i, \")_(\", k, n, m,\") =\", S2_Riemman[i, k, n, m]"
   ]
  },
  {
   "cell_type": "code",
   "execution_count": 73,
   "metadata": {},
   "outputs": [
    {
     "data": {
      "image/png": "[encoded data removed]",
      "text/latex": [
       "$$\\left [ \\right ]$$"
      ],
      "text/plain": [
       "[]"
      ]
     },
     "execution_count": 73,
     "metadata": {},
     "output_type": "execute_result"
    }
   ],
   "source": [
    "a, b = symbols('a b')\n",
    "killing = a*e_t + b*e_x\n",
    "ld = LieDerivative(killing, metric2).doit()\n",
    "e_t(killing)"
   ]
  },
  {
   "cell_type": "code",
   "execution_count": 65,
   "metadata": {},
   "outputs": [
    {
     "data": {
      "text/latex": [
       "$$\\left[\\begin{matrix}- \\frac{1}{\\beta^{2} \\boldsymbol{\\mathrm{x_{1}}}^{2}} & 0 & 0 & 0\\\\0 & 1 & 0 & 0\\\\0 & 0 & 1 & 0\\\\0 & 0 & 0 & 1\\end{matrix}\\right]$$"
      ],
      "text/plain": [
       "⎡ -1            ⎤\n",
       "⎢──────  0  0  0⎥\n",
       "⎢ 2   2         ⎥\n",
       "⎢β ⋅x₁          ⎥\n",
       "⎢               ⎥\n",
       "⎢  0     1  0  0⎥\n",
       "⎢               ⎥\n",
       "⎢  0     0  1  0⎥\n",
       "⎢               ⎥\n",
       "⎣  0     0  0  1⎦"
      ]
     },
     "execution_count": 65,
     "metadata": {},
     "output_type": "execute_result"
    }
   ],
   "source": [
    "x1, x2, x3 = symbols('x_1 x_2 x_3')\n",
    "Mp=Manifold('M', 4)\n",
    "Pp=Patch('P', Mp)\n",
    "ET = CoordSystem('ET', Pp, ['t', 'x_1', 'x_2', 'x_3'])\n",
    "e_t, e_x1, e_x2, e_x3 = ET.base_vectors()\n",
    "dt, dx1, dx2, dx3 = ET.base_oneforms()\n",
    "t, x1, x2, x3 = ET.coord_functions()\n",
    "TP=TensorProduct\n",
    "metric4 = -(B*x1)**2 * TP(dt,dt) + TP(dx1,dx1) + TP(dx2,dx2) + TP(dx3,dx3)\n",
    "ET_metric=Array([[-(B*x1)**2,0, 0, 0],[0,1, 0, 0], [0, 0, 1, 0], [0, 0, 0, 1]])\n",
    "ET_Ricci=metric_to_Ricci_components(metric4)\n",
    "ET_metric.tomatrix().inv()"
   ]
  },
  {
   "cell_type": "code",
   "execution_count": 60,
   "metadata": {},
   "outputs": [
    {
     "name": "stdout",
     "output_type": "stream",
     "text": [
      "Gamma^( 0 )_( 0 0 ) = 0\n",
      "Gamma^( 0 )_( 0 1 ) = 1/x_1\n",
      "Gamma^( 0 )_( 0 2 ) = 0\n",
      "Gamma^( 0 )_( 0 3 ) = 0\n",
      "Gamma^( 0 )_( 1 0 ) = 1/x_1\n",
      "Gamma^( 0 )_( 1 1 ) = 0\n",
      "Gamma^( 0 )_( 1 2 ) = 0\n",
      "Gamma^( 0 )_( 1 3 ) = 0\n",
      "Gamma^( 0 )_( 2 0 ) = 0\n",
      "Gamma^( 0 )_( 2 1 ) = 0\n",
      "Gamma^( 0 )_( 2 2 ) = 0\n",
      "Gamma^( 0 )_( 2 3 ) = 0\n",
      "Gamma^( 0 )_( 3 0 ) = 0\n",
      "Gamma^( 0 )_( 3 1 ) = 0\n",
      "Gamma^( 0 )_( 3 2 ) = 0\n",
      "Gamma^( 0 )_( 3 3 ) = 0\n",
      "Gamma^( 1 )_( 0 0 ) = beta**2*x_1\n",
      "Gamma^( 1 )_( 0 1 ) = 0\n",
      "Gamma^( 1 )_( 0 2 ) = 0\n",
      "Gamma^( 1 )_( 0 3 ) = 0\n",
      "Gamma^( 1 )_( 1 0 ) = 0\n",
      "Gamma^( 1 )_( 1 1 ) = 0\n",
      "Gamma^( 1 )_( 1 2 ) = 0\n",
      "Gamma^( 1 )_( 1 3 ) = 0\n",
      "Gamma^( 1 )_( 2 0 ) = 0\n",
      "Gamma^( 1 )_( 2 1 ) = 0\n",
      "Gamma^( 1 )_( 2 2 ) = 0\n",
      "Gamma^( 1 )_( 2 3 ) = 0\n",
      "Gamma^( 1 )_( 3 0 ) = 0\n",
      "Gamma^( 1 )_( 3 1 ) = 0\n",
      "Gamma^( 1 )_( 3 2 ) = 0\n",
      "Gamma^( 1 )_( 3 3 ) = 0\n",
      "Gamma^( 2 )_( 0 0 ) = 0\n",
      "Gamma^( 2 )_( 0 1 ) = 0\n",
      "Gamma^( 2 )_( 0 2 ) = 0\n",
      "Gamma^( 2 )_( 0 3 ) = 0\n",
      "Gamma^( 2 )_( 1 0 ) = 0\n",
      "Gamma^( 2 )_( 1 1 ) = 0\n",
      "Gamma^( 2 )_( 1 2 ) = 0\n",
      "Gamma^( 2 )_( 1 3 ) = 0\n",
      "Gamma^( 2 )_( 2 0 ) = 0\n",
      "Gamma^( 2 )_( 2 1 ) = 0\n",
      "Gamma^( 2 )_( 2 2 ) = 0\n",
      "Gamma^( 2 )_( 2 3 ) = 0\n",
      "Gamma^( 2 )_( 3 0 ) = 0\n",
      "Gamma^( 2 )_( 3 1 ) = 0\n",
      "Gamma^( 2 )_( 3 2 ) = 0\n",
      "Gamma^( 2 )_( 3 3 ) = 0\n",
      "Gamma^( 3 )_( 0 0 ) = 0\n",
      "Gamma^( 3 )_( 0 1 ) = 0\n",
      "Gamma^( 3 )_( 0 2 ) = 0\n",
      "Gamma^( 3 )_( 0 3 ) = 0\n",
      "Gamma^( 3 )_( 1 0 ) = 0\n",
      "Gamma^( 3 )_( 1 1 ) = 0\n",
      "Gamma^( 3 )_( 1 2 ) = 0\n",
      "Gamma^( 3 )_( 1 3 ) = 0\n",
      "Gamma^( 3 )_( 2 0 ) = 0\n",
      "Gamma^( 3 )_( 2 1 ) = 0\n",
      "Gamma^( 3 )_( 2 2 ) = 0\n",
      "Gamma^( 3 )_( 2 3 ) = 0\n",
      "Gamma^( 3 )_( 3 0 ) = 0\n",
      "Gamma^( 3 )_( 3 1 ) = 0\n",
      "Gamma^( 3 )_( 3 2 ) = 0\n",
      "Gamma^( 3 )_( 3 3 ) = 0\n"
     ]
    }
   ],
   "source": [
    "ET_ch=metric_to_Christoffel_2nd(metric4)\n",
    "ET_ch\n",
    "dim_index = [0,1, 2, 3]\n",
    "for i in dim_index:\n",
    "    for k in dim_index:\n",
    "        for j in dim_index:\n",
    "            print \"Gamma^(\", i, \")_(\", k, j, \") =\", ET_ch[i, j, k]  "
   ]
  },
  {
   "cell_type": "code",
   "execution_count": 62,
   "metadata": {
    "scrolled": false
   },
   "outputs": [
    {
     "name": "stdout",
     "output_type": "stream",
     "text": [
      "@@@@@@@@@@@@@@@ i =0 @@@@@@@@@@@\n",
      "R^( 0 )_( 0 0 0 ) = 0\n",
      "R^( 0 )_( 0 0 1 ) = 0\n",
      "R^( 0 )_( 0 0 2 ) = 0\n",
      "R^( 0 )_( 0 0 3 ) = 0\n",
      "R^( 0 )_( 0 1 0 ) = 0\n",
      "R^( 0 )_( 0 1 1 ) = 0\n",
      "R^( 0 )_( 0 1 2 ) = 0\n",
      "R^( 0 )_( 0 1 3 ) = 0\n",
      "R^( 0 )_( 0 2 0 ) = 0\n",
      "R^( 0 )_( 0 2 1 ) = 0\n",
      "R^( 0 )_( 0 2 2 ) = 0\n",
      "R^( 0 )_( 0 2 3 ) = 0\n",
      "R^( 0 )_( 0 3 0 ) = 0\n",
      "R^( 0 )_( 0 3 1 ) = 0\n",
      "R^( 0 )_( 0 3 2 ) = 0\n",
      "R^( 0 )_( 0 3 3 ) = 0\n",
      "R^( 0 )_( 1 0 0 ) = 0\n",
      "R^( 0 )_( 1 0 1 ) = 0\n",
      "R^( 0 )_( 1 0 2 ) = 0\n",
      "R^( 0 )_( 1 0 3 ) = 0\n",
      "R^( 0 )_( 1 1 0 ) = 0\n",
      "R^( 0 )_( 1 1 1 ) = 0\n",
      "R^( 0 )_( 1 1 2 ) = 0\n",
      "R^( 0 )_( 1 1 3 ) = 0\n",
      "R^( 0 )_( 1 2 0 ) = 0\n",
      "R^( 0 )_( 1 2 1 ) = 0\n",
      "R^( 0 )_( 1 2 2 ) = 0\n",
      "R^( 0 )_( 1 2 3 ) = 0\n",
      "R^( 0 )_( 1 3 0 ) = 0\n",
      "R^( 0 )_( 1 3 1 ) = 0\n",
      "R^( 0 )_( 1 3 2 ) = 0\n",
      "R^( 0 )_( 1 3 3 ) = 0\n",
      "R^( 0 )_( 2 0 0 ) = 0\n",
      "R^( 0 )_( 2 0 1 ) = 0\n",
      "R^( 0 )_( 2 0 2 ) = 0\n",
      "R^( 0 )_( 2 0 3 ) = 0\n",
      "R^( 0 )_( 2 1 0 ) = 0\n",
      "R^( 0 )_( 2 1 1 ) = 0\n",
      "R^( 0 )_( 2 1 2 ) = 0\n",
      "R^( 0 )_( 2 1 3 ) = 0\n",
      "R^( 0 )_( 2 2 0 ) = 0\n",
      "R^( 0 )_( 2 2 1 ) = 0\n",
      "R^( 0 )_( 2 2 2 ) = 0\n",
      "R^( 0 )_( 2 2 3 ) = 0\n",
      "R^( 0 )_( 2 3 0 ) = 0\n",
      "R^( 0 )_( 2 3 1 ) = 0\n",
      "R^( 0 )_( 2 3 2 ) = 0\n",
      "R^( 0 )_( 2 3 3 ) = 0\n",
      "R^( 0 )_( 3 0 0 ) = 0\n",
      "R^( 0 )_( 3 0 1 ) = 0\n",
      "R^( 0 )_( 3 0 2 ) = 0\n",
      "R^( 0 )_( 3 0 3 ) = 0\n",
      "R^( 0 )_( 3 1 0 ) = 0\n",
      "R^( 0 )_( 3 1 1 ) = 0\n",
      "R^( 0 )_( 3 1 2 ) = 0\n",
      "R^( 0 )_( 3 1 3 ) = 0\n",
      "R^( 0 )_( 3 2 0 ) = 0\n",
      "R^( 0 )_( 3 2 1 ) = 0\n",
      "R^( 0 )_( 3 2 2 ) = 0\n",
      "R^( 0 )_( 3 2 3 ) = 0\n",
      "R^( 0 )_( 3 3 0 ) = 0\n",
      "R^( 0 )_( 3 3 1 ) = 0\n",
      "R^( 0 )_( 3 3 2 ) = 0\n",
      "R^( 0 )_( 3 3 3 ) = 0\n",
      "@@@@@@@@@@@@@@@ i =1 @@@@@@@@@@@\n",
      "R^( 1 )_( 0 0 0 ) = 0\n",
      "R^( 1 )_( 0 0 1 ) = 0\n",
      "R^( 1 )_( 0 0 2 ) = 0\n",
      "R^( 1 )_( 0 0 3 ) = 0\n",
      "R^( 1 )_( 0 1 0 ) = 0\n",
      "R^( 1 )_( 0 1 1 ) = 0\n",
      "R^( 1 )_( 0 1 2 ) = 0\n",
      "R^( 1 )_( 0 1 3 ) = 0\n",
      "R^( 1 )_( 0 2 0 ) = 0\n",
      "R^( 1 )_( 0 2 1 ) = 0\n",
      "R^( 1 )_( 0 2 2 ) = 0\n",
      "R^( 1 )_( 0 2 3 ) = 0\n",
      "R^( 1 )_( 0 3 0 ) = 0\n",
      "R^( 1 )_( 0 3 1 ) = 0\n",
      "R^( 1 )_( 0 3 2 ) = 0\n",
      "R^( 1 )_( 0 3 3 ) = 0\n",
      "R^( 1 )_( 1 0 0 ) = 0\n",
      "R^( 1 )_( 1 0 1 ) = 0\n",
      "R^( 1 )_( 1 0 2 ) = 0\n",
      "R^( 1 )_( 1 0 3 ) = 0\n",
      "R^( 1 )_( 1 1 0 ) = 0\n",
      "R^( 1 )_( 1 1 1 ) = 0\n",
      "R^( 1 )_( 1 1 2 ) = 0\n",
      "R^( 1 )_( 1 1 3 ) = 0\n",
      "R^( 1 )_( 1 2 0 ) = 0\n",
      "R^( 1 )_( 1 2 1 ) = 0\n",
      "R^( 1 )_( 1 2 2 ) = 0\n",
      "R^( 1 )_( 1 2 3 ) = 0\n",
      "R^( 1 )_( 1 3 0 ) = 0\n",
      "R^( 1 )_( 1 3 1 ) = 0\n",
      "R^( 1 )_( 1 3 2 ) = 0\n",
      "R^( 1 )_( 1 3 3 ) = 0\n",
      "R^( 1 )_( 2 0 0 ) = 0\n",
      "R^( 1 )_( 2 0 1 ) = 0\n",
      "R^( 1 )_( 2 0 2 ) = 0\n",
      "R^( 1 )_( 2 0 3 ) = 0\n",
      "R^( 1 )_( 2 1 0 ) = 0\n",
      "R^( 1 )_( 2 1 1 ) = 0\n",
      "R^( 1 )_( 2 1 2 ) = 0\n",
      "R^( 1 )_( 2 1 3 ) = 0\n",
      "R^( 1 )_( 2 2 0 ) = 0\n",
      "R^( 1 )_( 2 2 1 ) = 0\n",
      "R^( 1 )_( 2 2 2 ) = 0\n",
      "R^( 1 )_( 2 2 3 ) = 0\n",
      "R^( 1 )_( 2 3 0 ) = 0\n",
      "R^( 1 )_( 2 3 1 ) = 0\n",
      "R^( 1 )_( 2 3 2 ) = 0\n",
      "R^( 1 )_( 2 3 3 ) = 0\n",
      "R^( 1 )_( 3 0 0 ) = 0\n",
      "R^( 1 )_( 3 0 1 ) = 0\n",
      "R^( 1 )_( 3 0 2 ) = 0\n",
      "R^( 1 )_( 3 0 3 ) = 0\n",
      "R^( 1 )_( 3 1 0 ) = 0\n",
      "R^( 1 )_( 3 1 1 ) = 0\n",
      "R^( 1 )_( 3 1 2 ) = 0\n",
      "R^( 1 )_( 3 1 3 ) = 0\n",
      "R^( 1 )_( 3 2 0 ) = 0\n",
      "R^( 1 )_( 3 2 1 ) = 0\n",
      "R^( 1 )_( 3 2 2 ) = 0\n",
      "R^( 1 )_( 3 2 3 ) = 0\n",
      "R^( 1 )_( 3 3 0 ) = 0\n",
      "R^( 1 )_( 3 3 1 ) = 0\n",
      "R^( 1 )_( 3 3 2 ) = 0\n",
      "R^( 1 )_( 3 3 3 ) = 0\n",
      "@@@@@@@@@@@@@@@ i =2 @@@@@@@@@@@\n",
      "R^( 2 )_( 0 0 0 ) = 0\n",
      "R^( 2 )_( 0 0 1 ) = 0\n",
      "R^( 2 )_( 0 0 2 ) = 0\n",
      "R^( 2 )_( 0 0 3 ) = 0\n",
      "R^( 2 )_( 0 1 0 ) = 0\n",
      "R^( 2 )_( 0 1 1 ) = 0\n",
      "R^( 2 )_( 0 1 2 ) = 0\n",
      "R^( 2 )_( 0 1 3 ) = 0\n",
      "R^( 2 )_( 0 2 0 ) = 0\n",
      "R^( 2 )_( 0 2 1 ) = 0\n",
      "R^( 2 )_( 0 2 2 ) = 0\n",
      "R^( 2 )_( 0 2 3 ) = 0\n",
      "R^( 2 )_( 0 3 0 ) = 0\n",
      "R^( 2 )_( 0 3 1 ) = 0\n",
      "R^( 2 )_( 0 3 2 ) = 0\n",
      "R^( 2 )_( 0 3 3 ) = 0\n",
      "R^( 2 )_( 1 0 0 ) = 0\n",
      "R^( 2 )_( 1 0 1 ) = 0\n",
      "R^( 2 )_( 1 0 2 ) = 0\n",
      "R^( 2 )_( 1 0 3 ) = 0\n",
      "R^( 2 )_( 1 1 0 ) = 0\n",
      "R^( 2 )_( 1 1 1 ) = 0\n",
      "R^( 2 )_( 1 1 2 ) = 0\n",
      "R^( 2 )_( 1 1 3 ) = 0\n",
      "R^( 2 )_( 1 2 0 ) = 0\n",
      "R^( 2 )_( 1 2 1 ) = 0\n",
      "R^( 2 )_( 1 2 2 ) = 0\n",
      "R^( 2 )_( 1 2 3 ) = 0\n",
      "R^( 2 )_( 1 3 0 ) = 0\n",
      "R^( 2 )_( 1 3 1 ) = 0\n",
      "R^( 2 )_( 1 3 2 ) = 0\n",
      "R^( 2 )_( 1 3 3 ) = 0\n",
      "R^( 2 )_( 2 0 0 ) = 0\n",
      "R^( 2 )_( 2 0 1 ) = 0\n",
      "R^( 2 )_( 2 0 2 ) = 0\n",
      "R^( 2 )_( 2 0 3 ) = 0\n",
      "R^( 2 )_( 2 1 0 ) = 0\n",
      "R^( 2 )_( 2 1 1 ) = 0\n",
      "R^( 2 )_( 2 1 2 ) = 0\n",
      "R^( 2 )_( 2 1 3 ) = 0\n",
      "R^( 2 )_( 2 2 0 ) = 0\n",
      "R^( 2 )_( 2 2 1 ) = 0\n",
      "R^( 2 )_( 2 2 2 ) = 0\n",
      "R^( 2 )_( 2 2 3 ) = 0\n",
      "R^( 2 )_( 2 3 0 ) = 0\n",
      "R^( 2 )_( 2 3 1 ) = 0\n",
      "R^( 2 )_( 2 3 2 ) = 0\n",
      "R^( 2 )_( 2 3 3 ) = 0\n",
      "R^( 2 )_( 3 0 0 ) = 0\n",
      "R^( 2 )_( 3 0 1 ) = 0\n",
      "R^( 2 )_( 3 0 2 ) = 0\n",
      "R^( 2 )_( 3 0 3 ) = 0\n",
      "R^( 2 )_( 3 1 0 ) = 0\n",
      "R^( 2 )_( 3 1 1 ) = 0\n",
      "R^( 2 )_( 3 1 2 ) = 0\n",
      "R^( 2 )_( 3 1 3 ) = 0\n",
      "R^( 2 )_( 3 2 0 ) = 0\n",
      "R^( 2 )_( 3 2 1 ) = 0\n",
      "R^( 2 )_( 3 2 2 ) = 0\n",
      "R^( 2 )_( 3 2 3 ) = 0\n",
      "R^( 2 )_( 3 3 0 ) = 0\n",
      "R^( 2 )_( 3 3 1 ) = 0\n",
      "R^( 2 )_( 3 3 2 ) = 0\n",
      "R^( 2 )_( 3 3 3 ) = 0\n",
      "@@@@@@@@@@@@@@@ i =3 @@@@@@@@@@@\n",
      "R^( 3 )_( 0 0 0 ) = 0\n",
      "R^( 3 )_( 0 0 1 ) = 0\n",
      "R^( 3 )_( 0 0 2 ) = 0\n",
      "R^( 3 )_( 0 0 3 ) = 0\n",
      "R^( 3 )_( 0 1 0 ) = 0\n",
      "R^( 3 )_( 0 1 1 ) = 0\n",
      "R^( 3 )_( 0 1 2 ) = 0\n",
      "R^( 3 )_( 0 1 3 ) = 0\n",
      "R^( 3 )_( 0 2 0 ) = 0\n",
      "R^( 3 )_( 0 2 1 ) = 0\n",
      "R^( 3 )_( 0 2 2 ) = 0\n",
      "R^( 3 )_( 0 2 3 ) = 0\n",
      "R^( 3 )_( 0 3 0 ) = 0\n",
      "R^( 3 )_( 0 3 1 ) = 0\n",
      "R^( 3 )_( 0 3 2 ) = 0\n",
      "R^( 3 )_( 0 3 3 ) = 0\n",
      "R^( 3 )_( 1 0 0 ) = 0\n",
      "R^( 3 )_( 1 0 1 ) = 0\n",
      "R^( 3 )_( 1 0 2 ) = 0\n",
      "R^( 3 )_( 1 0 3 ) = 0\n",
      "R^( 3 )_( 1 1 0 ) = 0\n",
      "R^( 3 )_( 1 1 1 ) = 0\n",
      "R^( 3 )_( 1 1 2 ) = 0\n",
      "R^( 3 )_( 1 1 3 ) = 0\n",
      "R^( 3 )_( 1 2 0 ) = 0\n",
      "R^( 3 )_( 1 2 1 ) = 0\n",
      "R^( 3 )_( 1 2 2 ) = 0\n",
      "R^( 3 )_( 1 2 3 ) = 0\n",
      "R^( 3 )_( 1 3 0 ) = 0\n",
      "R^( 3 )_( 1 3 1 ) = 0\n",
      "R^( 3 )_( 1 3 2 ) = 0\n",
      "R^( 3 )_( 1 3 3 ) = 0\n",
      "R^( 3 )_( 2 0 0 ) = 0\n",
      "R^( 3 )_( 2 0 1 ) = 0\n",
      "R^( 3 )_( 2 0 2 ) = 0\n",
      "R^( 3 )_( 2 0 3 ) = 0\n",
      "R^( 3 )_( 2 1 0 ) = 0\n",
      "R^( 3 )_( 2 1 1 ) = 0\n",
      "R^( 3 )_( 2 1 2 ) = 0\n",
      "R^( 3 )_( 2 1 3 ) = 0\n",
      "R^( 3 )_( 2 2 0 ) = 0\n",
      "R^( 3 )_( 2 2 1 ) = 0\n",
      "R^( 3 )_( 2 2 2 ) = 0\n",
      "R^( 3 )_( 2 2 3 ) = 0\n",
      "R^( 3 )_( 2 3 0 ) = 0\n",
      "R^( 3 )_( 2 3 1 ) = 0\n",
      "R^( 3 )_( 2 3 2 ) = 0\n",
      "R^( 3 )_( 2 3 3 ) = 0\n",
      "R^( 3 )_( 3 0 0 ) = 0\n",
      "R^( 3 )_( 3 0 1 ) = 0\n",
      "R^( 3 )_( 3 0 2 ) = 0\n",
      "R^( 3 )_( 3 0 3 ) = 0\n",
      "R^( 3 )_( 3 1 0 ) = 0\n",
      "R^( 3 )_( 3 1 1 ) = 0\n",
      "R^( 3 )_( 3 1 2 ) = 0\n",
      "R^( 3 )_( 3 1 3 ) = 0\n",
      "R^( 3 )_( 3 2 0 ) = 0\n",
      "R^( 3 )_( 3 2 1 ) = 0\n",
      "R^( 3 )_( 3 2 2 ) = 0\n",
      "R^( 3 )_( 3 2 3 ) = 0\n",
      "R^( 3 )_( 3 3 0 ) = 0\n",
      "R^( 3 )_( 3 3 1 ) = 0\n",
      "R^( 3 )_( 3 3 2 ) = 0\n",
      "R^( 3 )_( 3 3 3 ) = 0\n"
     ]
    }
   ],
   "source": [
    "ET_Riemman=metric_to_Riemann_components(metric4)\n",
    "for i in dim_index:\n",
    "    print '@@@@@@@@@@@@@@@ i =%i @@@@@@@@@@@'%i\n",
    "    for k in dim_index:\n",
    "        for n in dim_index:\n",
    "            for m in dim_index:\n",
    "                print \"R^(\", i, \")_(\", k, n, m,\") =\", ET_Riemman[i, k, n, m]"
   ]
  },
  {
   "cell_type": "code",
   "execution_count": null,
   "metadata": {
    "collapsed": true
   },
   "outputs": [],
   "source": []
  },
  {
   "cell_type": "markdown",
   "metadata": {},
   "source": [
    "# Punto 4"
   ]
  },
  {
   "cell_type": "code",
   "execution_count": 37,
   "metadata": {},
   "outputs": [
    {
     "data": {
      "text/latex": [
       "$$- \\sin{\\left (\\boldsymbol{\\mathrm{\\theta}} \\right )} \\partial_{\\theta} + \\cos{\\left (\\boldsymbol{\\mathrm{\\theta}} \\right )} \\boldsymbol{\\mathrm{r}}^{2} \\partial_{r}$$"
      ],
      "text/plain": [
       "                      2   \n",
       "-sin(θ)⋅∂_θ + cos(θ)⋅r ⋅∂ᵣ"
      ]
     },
     "execution_count": 37,
     "metadata": {},
     "output_type": "execute_result"
    }
   ],
   "source": [
    "r, th = symbols('r theta')\n",
    "M=Manifold('M', 2)\n",
    "P=Patch('P', M)\n",
    "S2 = CoordSystem('S2', P, ['r', 'theta'])\n",
    "e_r, e_th = S2.base_vectors()\n",
    "dr, dth = S2.base_oneforms()\n",
    "r, th = S2.coord_functions()\n",
    "TP=TensorProduct\n",
    "metric = TP(dr,dr) + r**2*TP(dth,dth)\n",
    "S2_metric=Array([[1,0],[0,r**2]])\n",
    "vector_v = r**2*cos(th)*e_r - sin(th)*e_th\n",
    "vector_v"
   ]
  },
  {
   "cell_type": "code",
   "execution_count": 40,
   "metadata": {},
   "outputs": [
    {
     "data": {
      "text/latex": [
       "$$- \\sin{\\left (\\boldsymbol{\\mathrm{\\theta}} \\right )} \\boldsymbol{\\mathrm{r}}^{2} \\partial_{r} + \\sin{\\left (\\boldsymbol{\\mathrm{\\theta}} \\right )} \\boldsymbol{\\mathrm{r}} \\partial_{r} + \\cos{\\left (\\boldsymbol{\\mathrm{\\theta}} \\right )} \\boldsymbol{\\mathrm{r}} \\partial_{\\theta} - \\cos{\\left (\\boldsymbol{\\mathrm{\\theta}} \\right )} \\partial_{\\theta}$$"
      ],
      "text/plain": [
       "          2                                             \n",
       "- sin(θ)⋅r ⋅∂ᵣ + sin(θ)⋅r⋅∂ᵣ + cos(θ)⋅r⋅∂_θ - cos(θ)⋅∂_θ"
      ]
     },
     "execution_count": 40,
     "metadata": {},
     "output_type": "execute_result"
    }
   ],
   "source": [
    "R2_ch = metric_to_Christoffel_2nd(metric)\n",
    "cov_der = BaseCovarDerivativeOp(S2, 1, chr2)\n",
    "simplify(cov_der(vector_v))"
   ]
  },
  {
   "cell_type": "code",
   "execution_count": 39,
   "metadata": {},
   "outputs": [
    {
     "name": "stdout",
     "output_type": "stream",
     "text": [
      "Gamma^( 0 )_( 0 0 ) = 0\n",
      "Gamma^( 0 )_( 0 1 ) = 0\n",
      "Gamma^( 0 )_( 1 0 ) = 0\n",
      "Gamma^( 0 )_( 1 1 ) = -r\n",
      "Gamma^( 1 )_( 0 0 ) = 0\n",
      "Gamma^( 1 )_( 0 1 ) = 1/r\n",
      "Gamma^( 1 )_( 1 0 ) = 1/r\n",
      "Gamma^( 1 )_( 1 1 ) = 0\n"
     ]
    }
   ],
   "source": [
    "dim_index = [0,1]\n",
    "for i in dim_index:\n",
    "    for k in dim_index:\n",
    "        for j in dim_index:\n",
    "            print \"Gamma^(\", i, \")_(\", k, j, \") =\", R2_ch[i, j, k]      "
   ]
  }
 ],
 "metadata": {
  "anaconda-cloud": {},
  "kernelspec": {
   "display_name": "Python [default]",
   "language": "python",
   "name": "python2"
  },
  "language_info": {
   "codemirror_mode": {
    "name": "ipython",
    "version": 2
   },
   "file_extension": ".py",
   "mimetype": "text/x-python",
   "name": "python",
   "nbconvert_exporter": "python",
   "pygments_lexer": "ipython2",
   "version": "2.7.12"
  }
 },
 "nbformat": 4,
 "nbformat_minor": 1
}
