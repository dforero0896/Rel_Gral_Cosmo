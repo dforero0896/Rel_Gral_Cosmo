{
 "cells": [
  {
   "cell_type": "markdown",
   "metadata": {},
   "source": [
    "### Relatividad General y Cosmología\n",
    "#### Tarea #2\n",
    "##### Daniel Felipe Forero Sánchez - 201415069"
   ]
  },
  {
   "cell_type": "code",
   "execution_count": 63,
   "metadata": {
    "collapsed": true
   },
   "outputs": [],
   "source": [
    "from sympy import *\n",
    "init_printing(use_latex='mathjax')\n",
    "from sympy.diffgeom import *\n",
    "from sympy.tensor.array import Array\n",
    "from IPython.display import display"
   ]
  },
  {
   "cell_type": "markdown",
   "metadata": {},
   "source": [
    "# Punto 1:\n",
    "\n",
    "Demuestre que $$C_{\\nu\\rho\\sigma}=8\\pi\\frac{1}{2}\\left[\\nabla_\\rho T_{\\nu\\sigma}-\\nabla_\\sigma T_{\\nu\\rho}-\\frac{1}{3}(\\nabla_\\rho g_{\\nu\\sigma}T - \\nabla_\\sigma g_{\\nu\\rho}T)\\right]$$\n",
    "\n",
    "### Demostración:\n",
    "\n",
    "Partimos de la definición del tensor de Cotton $C_{\\nu\\rho\\sigma} = \\nabla_\\rho P_{\\nu\\sigma}-\\nabla_\\sigma P_{\\nu\\rho}$, donde $P$ es el tensor de Schouten y se define como $P_{\\nu\\mu}=\\frac{1}{n-2}\\left(R_{\\mu\\nu}-\\frac{1}{2(n-1)}g_{\\mu\\nu}R\\right) =\\frac{1}{2}\\left(R_{\\mu\\nu}-\\frac{1}{2(3)}g_{\\mu\\nu}R\\right),\\ n=4.$\n",
    "\n",
    "Entonces,\n"
   ]
  },
  {
   "cell_type": "markdown",
   "metadata": {},
   "source": [
    "$$C_{\\nu\\rho\\sigma}= \\frac{1}{2}\\left(\\nabla_\\rho R_{\\sigma\\nu}-\\frac{1}{6}\\nabla_\\rho g_{\\sigma\\nu}R\\right) - \\frac{1}{2}\\left(\\nabla_\\sigma R_{\\rho\\nu}-\\frac{1}{6}\\nabla_\\sigma g_{\\rho\\nu}R\\right).$$"
   ]
  },
  {
   "cell_type": "markdown",
   "metadata": {},
   "source": [
    "Ahora bien, tomamos la ecuación de campo $G_{\\mu\\nu}=R_{\\mu\\nu}-\\frac{1}{2}g_{\\mu\\nu}R = 8\\pi T_{\\mu\\nu}$ y reemplazamos en la ecuación de arriba.\n",
    "\n",
    "\n",
    "$$C_{\\nu\\rho\\sigma}= \\frac{1}{2}\\left(\\nabla_\\rho R_{\\sigma\\nu}-\\frac{1}{6}\\nabla_\\rho g_{\\sigma\\nu}R-\\frac{1}{2}\\nabla_\\rho g_{\\sigma\\nu}R+\\frac{1}{2}\\nabla_\\rho g_{\\sigma\\nu}R\\right) - \\frac{1}{2}\\left(\\nabla_\\sigma R_{\\rho\\nu}-\\frac{1}{6}\\nabla_\\sigma g_{\\rho\\nu}R-\\frac{1}{2}\\nabla_\\sigma g_{\\rho\\nu}R+\\frac{1}{2}\\nabla_\\sigma g_{\\rho\\nu}R\\right),$$\n",
    "\n",
    "que simplificando se convierte en"
   ]
  },
  {
   "cell_type": "markdown",
   "metadata": {},
   "source": [
    "$$C_{\\nu\\rho\\sigma} = \\frac{1}{2}\\left(8\\pi\\nabla_\\rho T_{\\sigma\\nu}+\\frac{1}{3}\\nabla_\\rho g_{\\sigma\\nu}R\\right)-\\frac{1}{2}\\left(8\\pi\\nabla_\\sigma T_{\\rho\\nu}+\\frac{1}{3}\\nabla_\\sigma g_{\\rho\\nu}R\\right).$$"
   ]
  },
  {
   "cell_type": "markdown",
   "metadata": {},
   "source": [
    "Si trazamos la ecuación de campo, obtenemos que \n",
    "\n",
    "\n",
    "$$g^{\\mu\\nu}R_{\\mu\\nu} - \\frac{1}{2}g^{\\mu\\nu}g_{\\mu\\nu}R = 8\\pi g^{\\mu\\nu}T_{\\mu\\nu}$$\n",
    "\n",
    "$$R-2R = 8\\pi T.$$\n",
    "\n",
    "Es decir, $$R=-8\\pi T.$$"
   ]
  },
  {
   "cell_type": "markdown",
   "metadata": {},
   "source": [
    "Si reemplazamos lo anterior en la expresión que teníamos para el tensor de Cotton, obtendremos que\n",
    "\n",
    "$$C_{\\nu\\rho\\sigma} = \\frac{1}{2}\\left(8\\pi\\nabla_\\rho T_{\\sigma\\nu}+\\frac{1}{3}\\nabla_\\rho g_{\\sigma\\nu}(-8\\pi T)\\right)-\\frac{1}{2}\\left(8\\pi\\nabla_\\sigma T_{\\rho\\nu}+\\frac{1}{3}\\nabla_\\sigma g_{\\rho\\nu}(-8\\pi T)\\right)$$\n",
    "\n",
    "De forma que, reorganizando y factorizando, obtenemos que \n",
    "\n",
    "$$C_{\\nu\\rho\\sigma}=8\\pi\\frac{1}{2}\\left[\\nabla_\\rho T_{\\nu\\sigma}-\\nabla_\\sigma T_{\\nu\\rho}-\\frac{1}{3}(\\nabla_\\rho g_{\\nu\\sigma}T - \\nabla_\\sigma g_{\\nu\\rho}T)\\right].$$\n",
    "\n",
    "Que era lo que se quería demostrar."
   ]
  },
  {
   "cell_type": "markdown",
   "metadata": {},
   "source": [
    "# Punto 2:\n",
    "\n",
    "Resuelva $R_{\\mu\\nu}=0$ en simetría esférica: $$ds^2 = -f(r,t)dt^2 + g(r,t)dr^2 +  r^2d\\theta^2+ r^2\\sin^2\\theta d\\phi^2 $$"
   ]
  },
  {
   "cell_type": "code",
   "execution_count": 11,
   "metadata": {},
   "outputs": [],
   "source": [
    "M = Manifold('M', 4)\n",
    "P = Patch('P', M)\n",
    "R3_CS = CoordSystem('R3_CS', P, ['t', 'r', 'theta', 'phi'])\n",
    "e_t, e_r, e_th, e_phi = R3_CS.base_vectors()\n",
    "dt, dr, dth, dphi = R3_CS.base_oneforms()\n",
    "t, r, th, phi = R3_CS.coord_functions()\n",
    "f = Function('f')\n",
    "f_met = f(t, r)\n",
    "g = Function('g')\n",
    "g_met = g(t, r)\n",
    "TP=TensorProduct\n",
    "R3_Metric = -f_met*TP(dt, dt) + g_met*TP(dr, dr)+ \\\n",
    "r**2 * TP(dth, dth) + r**2*sin(th)**2*TP(dphi, dphi)\n",
    "R3_Metric\n",
    "R3_ch = metric_to_Christoffel_2nd(R3_Metric)\n",
    "R3_Ricci = metric_to_Ricci_components(R3_Metric)"
   ]
  },
  {
   "cell_type": "markdown",
   "metadata": {},
   "source": [
    "Tuve algunos problemas con la librería de geometría diferencial de Sympy (con las funciones que calculan Ricci y el resto de la geometría) así que hubo que programarlas, por lo que los siguientes bloques se pueden ignorar."
   ]
  },
  {
   "cell_type": "code",
   "execution_count": 26,
   "metadata": {},
   "outputs": [
    {
     "data": {
      "text/latex": [
       "$$\\left[\\begin{matrix}- f{\\left (t,r \\right )} & 0 & 0 & 0\\\\0 & g{\\left (t,r \\right )} & 0 & 0\\\\0 & 0 & r^{2} & 0\\\\0 & 0 & 0 & r^{2} \\sin^{2}{\\left (\\theta \\right )}\\end{matrix}\\right]$$"
      ],
      "text/plain": [
       "⎡-f(t, r)     0     0       0     ⎤\n",
       "⎢                                 ⎥\n",
       "⎢   0      g(t, r)  0       0     ⎥\n",
       "⎢                                 ⎥\n",
       "⎢                    2            ⎥\n",
       "⎢   0         0     r       0     ⎥\n",
       "⎢                                 ⎥\n",
       "⎢                        2    2   ⎥\n",
       "⎣   0         0     0   r ⋅sin (θ)⎦"
      ]
     },
     "metadata": {},
     "output_type": "display_data"
    },
    {
     "data": {
      "text/latex": [
       "$$\\left[\\begin{matrix}- \\frac{1}{f{\\left (t,r \\right )}} & 0 & 0 & 0\\\\0 & \\frac{1}{g{\\left (t,r \\right )}} & 0 & 0\\\\0 & 0 & \\frac{1}{r^{2}} & 0\\\\0 & 0 & 0 & \\frac{1}{r^{2} \\sin^{2}{\\left (\\theta \\right )}}\\end{matrix}\\right]$$"
      ],
      "text/plain": [
       "⎡  -1                            ⎤\n",
       "⎢───────     0     0       0     ⎥\n",
       "⎢f(t, r)                         ⎥\n",
       "⎢                                ⎥\n",
       "⎢            1                   ⎥\n",
       "⎢   0     ───────  0       0     ⎥\n",
       "⎢         g(t, r)                ⎥\n",
       "⎢                                ⎥\n",
       "⎢                  1             ⎥\n",
       "⎢   0        0     ──      0     ⎥\n",
       "⎢                   2            ⎥\n",
       "⎢                  r             ⎥\n",
       "⎢                                ⎥\n",
       "⎢                          1     ⎥\n",
       "⎢   0        0     0   ──────────⎥\n",
       "⎢                       2    2   ⎥\n",
       "⎣                      r ⋅sin (θ)⎦"
      ]
     },
     "metadata": {},
     "output_type": "display_data"
    }
   ],
   "source": [
    "t, r, th, phi = symbols('t r theta phi')\n",
    "coords_vec = [t, r, th, phi]\n",
    "f = Function('f')\n",
    "f_met = f(t, r)\n",
    "g = Function('g')\n",
    "g_met = g(t, r)\n",
    "R3_Metric_matrix=Matrix([[-f_met, 0, 0, 0], [0, g_met, 0, 0],\\\n",
    "                         [0, 0, r**2, 0], [0, 0, 0, r**2*sin(th)**2]])\n",
    "display(R3_Metric_matrix, R3_Metric_matrix.inv())\n",
    "def Christ(m , i, j, metric=R3_Metric_matrix):\n",
    "    inv_metric=metric.inv()\n",
    "    term1, term2, term3=0, 0, 0\n",
    "    for k in range(len(R3_Metric_matrix[:,0])):\n",
    "        term1+=inv_metric[m, k]*Derivative(metric[k, i], coords_vec[j]).doit()\n",
    "        term2+=inv_metric[m, k]*Derivative(metric[k, j], coords_vec[i]).doit()\n",
    "        term3+=-inv_metric[m, k]*Derivative(metric[i,j], coords_vec[k]).doit()\n",
    "    return nsimplify(1./2)*(term1+term2+term3)\n",
    "#Build whole Christoffel\n",
    "manual_christ = MutableDenseNDimArray([[[0,0,0,0],[0,0,0,0],[0,0,0,0],[0,0,0,0]], \\\n",
    "                 [[0,0,0,0],[0,0,0,0],[0,0,0,0],[0,0,0,0]],\\\n",
    "                 [[0,0,0,0],[0,0,0,0],[0,0,0,0],[0,0,0,0]],\\\n",
    "                                      [[0,0,0,0],[0,0,0,0],[0,0,0,0],[0,0,0,0]]])\n",
    "for i in range(len(R3_Metric_matrix[:,0])):\n",
    "    for k in range(len(R3_Metric_matrix[:,0])):\n",
    "        for j in range(len(R3_Metric_matrix[:,0])):\n",
    "            manual_christ[i,k, j]=Christ(i, k, j)\n"
   ]
  },
  {
   "cell_type": "code",
   "execution_count": 27,
   "metadata": {
    "scrolled": false
   },
   "outputs": [
    {
     "data": {
      "text/plain": [
       "'Gamma^{0}_{0 0}= '"
      ]
     },
     "metadata": {},
     "output_type": "display_data"
    },
    {
     "data": {
      "text/latex": [
       "$$\\frac{\\frac{\\partial}{\\partial t} f{\\left (t,r \\right )}}{2 f{\\left (t,r \\right )}}$$"
      ],
      "text/plain": [
       "∂          \n",
       "──(f(t, r))\n",
       "∂t         \n",
       "───────────\n",
       " 2⋅f(t, r) "
      ]
     },
     "metadata": {},
     "output_type": "display_data"
    },
    {
     "data": {
      "text/plain": [
       "'Gamma^{0}_{0 1}= '"
      ]
     },
     "metadata": {},
     "output_type": "display_data"
    },
    {
     "data": {
      "text/latex": [
       "$$\\frac{\\frac{\\partial}{\\partial r} f{\\left (t,r \\right )}}{2 f{\\left (t,r \\right )}}$$"
      ],
      "text/plain": [
       "∂          \n",
       "──(f(t, r))\n",
       "∂r         \n",
       "───────────\n",
       " 2⋅f(t, r) "
      ]
     },
     "metadata": {},
     "output_type": "display_data"
    },
    {
     "data": {
      "text/plain": [
       "'Gamma^{0}_{1 0}= '"
      ]
     },
     "metadata": {},
     "output_type": "display_data"
    },
    {
     "data": {
      "text/latex": [
       "$$\\frac{\\frac{\\partial}{\\partial r} f{\\left (t,r \\right )}}{2 f{\\left (t,r \\right )}}$$"
      ],
      "text/plain": [
       "∂          \n",
       "──(f(t, r))\n",
       "∂r         \n",
       "───────────\n",
       " 2⋅f(t, r) "
      ]
     },
     "metadata": {},
     "output_type": "display_data"
    },
    {
     "data": {
      "text/plain": [
       "'Gamma^{0}_{1 1}= '"
      ]
     },
     "metadata": {},
     "output_type": "display_data"
    },
    {
     "data": {
      "text/latex": [
       "$$\\frac{\\frac{\\partial}{\\partial t} g{\\left (t,r \\right )}}{2 f{\\left (t,r \\right )}}$$"
      ],
      "text/plain": [
       "∂          \n",
       "──(g(t, r))\n",
       "∂t         \n",
       "───────────\n",
       " 2⋅f(t, r) "
      ]
     },
     "metadata": {},
     "output_type": "display_data"
    },
    {
     "data": {
      "text/plain": [
       "'Gamma^{1}_{0 0}= '"
      ]
     },
     "metadata": {},
     "output_type": "display_data"
    },
    {
     "data": {
      "text/latex": [
       "$$\\frac{\\frac{\\partial}{\\partial r} f{\\left (t,r \\right )}}{2 g{\\left (t,r \\right )}}$$"
      ],
      "text/plain": [
       "∂          \n",
       "──(f(t, r))\n",
       "∂r         \n",
       "───────────\n",
       " 2⋅g(t, r) "
      ]
     },
     "metadata": {},
     "output_type": "display_data"
    },
    {
     "data": {
      "text/plain": [
       "'Gamma^{1}_{0 1}= '"
      ]
     },
     "metadata": {},
     "output_type": "display_data"
    },
    {
     "data": {
      "text/latex": [
       "$$\\frac{\\frac{\\partial}{\\partial t} g{\\left (t,r \\right )}}{2 g{\\left (t,r \\right )}}$$"
      ],
      "text/plain": [
       "∂          \n",
       "──(g(t, r))\n",
       "∂t         \n",
       "───────────\n",
       " 2⋅g(t, r) "
      ]
     },
     "metadata": {},
     "output_type": "display_data"
    },
    {
     "data": {
      "text/plain": [
       "'Gamma^{1}_{1 0}= '"
      ]
     },
     "metadata": {},
     "output_type": "display_data"
    },
    {
     "data": {
      "text/latex": [
       "$$\\frac{\\frac{\\partial}{\\partial t} g{\\left (t,r \\right )}}{2 g{\\left (t,r \\right )}}$$"
      ],
      "text/plain": [
       "∂          \n",
       "──(g(t, r))\n",
       "∂t         \n",
       "───────────\n",
       " 2⋅g(t, r) "
      ]
     },
     "metadata": {},
     "output_type": "display_data"
    },
    {
     "data": {
      "text/plain": [
       "'Gamma^{1}_{1 1}= '"
      ]
     },
     "metadata": {},
     "output_type": "display_data"
    },
    {
     "data": {
      "text/latex": [
       "$$\\frac{\\frac{\\partial}{\\partial r} g{\\left (t,r \\right )}}{2 g{\\left (t,r \\right )}}$$"
      ],
      "text/plain": [
       "∂          \n",
       "──(g(t, r))\n",
       "∂r         \n",
       "───────────\n",
       " 2⋅g(t, r) "
      ]
     },
     "metadata": {},
     "output_type": "display_data"
    },
    {
     "data": {
      "text/plain": [
       "'Gamma^{1}_{2 2}= '"
      ]
     },
     "metadata": {},
     "output_type": "display_data"
    },
    {
     "data": {
      "text/latex": [
       "$$- \\frac{r}{g{\\left (t,r \\right )}}$$"
      ],
      "text/plain": [
       "  -r   \n",
       "───────\n",
       "g(t, r)"
      ]
     },
     "metadata": {},
     "output_type": "display_data"
    },
    {
     "data": {
      "text/plain": [
       "'Gamma^{1}_{3 3}= '"
      ]
     },
     "metadata": {},
     "output_type": "display_data"
    },
    {
     "data": {
      "text/latex": [
       "$$- \\frac{r \\sin^{2}{\\left (\\theta \\right )}}{g{\\left (t,r \\right )}}$$"
      ],
      "text/plain": [
       "      2    \n",
       "-r⋅sin (θ) \n",
       "───────────\n",
       "  g(t, r)  "
      ]
     },
     "metadata": {},
     "output_type": "display_data"
    },
    {
     "data": {
      "text/plain": [
       "'Gamma^{2}_{1 2}= '"
      ]
     },
     "metadata": {},
     "output_type": "display_data"
    },
    {
     "data": {
      "text/latex": [
       "$$\\frac{1}{r}$$"
      ],
      "text/plain": [
       "1\n",
       "─\n",
       "r"
      ]
     },
     "metadata": {},
     "output_type": "display_data"
    },
    {
     "data": {
      "text/plain": [
       "'Gamma^{2}_{2 1}= '"
      ]
     },
     "metadata": {},
     "output_type": "display_data"
    },
    {
     "data": {
      "text/latex": [
       "$$\\frac{1}{r}$$"
      ],
      "text/plain": [
       "1\n",
       "─\n",
       "r"
      ]
     },
     "metadata": {},
     "output_type": "display_data"
    },
    {
     "data": {
      "text/plain": [
       "'Gamma^{2}_{3 3}= '"
      ]
     },
     "metadata": {},
     "output_type": "display_data"
    },
    {
     "data": {
      "text/latex": [
       "$$- \\sin{\\left (\\theta \\right )} \\cos{\\left (\\theta \\right )}$$"
      ],
      "text/plain": [
       "-sin(θ)⋅cos(θ)"
      ]
     },
     "metadata": {},
     "output_type": "display_data"
    },
    {
     "data": {
      "text/plain": [
       "'Gamma^{3}_{1 3}= '"
      ]
     },
     "metadata": {},
     "output_type": "display_data"
    },
    {
     "data": {
      "text/latex": [
       "$$\\frac{1}{r}$$"
      ],
      "text/plain": [
       "1\n",
       "─\n",
       "r"
      ]
     },
     "metadata": {},
     "output_type": "display_data"
    },
    {
     "data": {
      "text/plain": [
       "'Gamma^{3}_{2 3}= '"
      ]
     },
     "metadata": {},
     "output_type": "display_data"
    },
    {
     "data": {
      "text/latex": [
       "$$\\frac{\\cos{\\left (\\theta \\right )}}{\\sin{\\left (\\theta \\right )}}$$"
      ],
      "text/plain": [
       "cos(θ)\n",
       "──────\n",
       "sin(θ)"
      ]
     },
     "metadata": {},
     "output_type": "display_data"
    },
    {
     "data": {
      "text/plain": [
       "'Gamma^{3}_{3 1}= '"
      ]
     },
     "metadata": {},
     "output_type": "display_data"
    },
    {
     "data": {
      "text/latex": [
       "$$\\frac{1}{r}$$"
      ],
      "text/plain": [
       "1\n",
       "─\n",
       "r"
      ]
     },
     "metadata": {},
     "output_type": "display_data"
    },
    {
     "data": {
      "text/plain": [
       "'Gamma^{3}_{3 2}= '"
      ]
     },
     "metadata": {},
     "output_type": "display_data"
    },
    {
     "data": {
      "text/latex": [
       "$$\\frac{\\cos{\\left (\\theta \\right )}}{\\sin{\\left (\\theta \\right )}}$$"
      ],
      "text/plain": [
       "cos(θ)\n",
       "──────\n",
       "sin(θ)"
      ]
     },
     "metadata": {},
     "output_type": "display_data"
    }
   ],
   "source": [
    "for i in range(len(R3_Metric_matrix[:,0])):\n",
    "    for k in range(len(R3_Metric_matrix[:,0])):\n",
    "        for j in range(len(R3_Metric_matrix[:,0])):\n",
    "            if(manual_christ[i,j,k]!=0):\n",
    "                display('Gamma^{%i}_{%i %i}= '%(i, k, j), manual_christ[i,j,k])"
   ]
  },
  {
   "cell_type": "code",
   "execution_count": 32,
   "metadata": {
    "collapsed": true
   },
   "outputs": [],
   "source": [
    "def Ricci(i, j, ch=R3_ch):\n",
    "    sum1, sum2, sum3, sum4=0, 0, 0, 0\n",
    "    for l in range(len(R3_Metric_matrix[:,0])):\n",
    "        sum1+=Derivative(ch[l, i, j], coords_vec[l])\n",
    "        sum2+=-Derivative(ch[l, i, l], coords_vec[j])\n",
    "    for m in range(len(R3_Metric_matrix[:,0])):\n",
    "        for l in range(len(R3_Metric_matrix[:,0])):\n",
    "            sum3+=ch[m, i, j]*ch[l, l, m]\n",
    "            sum4+=-ch[m, i, l]*ch[l, j, m]\n",
    "    return simplify(sum1+sum2+sum3+sum4)\n",
    "    \n",
    "\n",
    "manual_Ricci = MutableDenseMatrix([[0, 0, 0,0],[0, 0, 0,0],[0, 0, 0,0],[0, 0, 0,0]])\n",
    "for i in range(len(R3_Metric_matrix[:,0])):\n",
    "    for k in range(len(R3_Metric_matrix[:,0])):\n",
    "        manual_Ricci[i,k]=simplify(Ricci(i, k, manual_christ).doit())"
   ]
  },
  {
   "cell_type": "markdown",
   "metadata": {},
   "source": [
    "Procedemos, ahora si, a ver las componentes del tensor de Ricci. Tomemos aquellas que son distintas a cero."
   ]
  },
  {
   "cell_type": "code",
   "execution_count": 33,
   "metadata": {
    "scrolled": false
   },
   "outputs": [
    {
     "data": {
      "text/plain": [
       "'R_{0 0}'"
      ]
     },
     "metadata": {},
     "output_type": "display_data"
    },
    {
     "data": {
      "text/latex": [
       "$$\\frac{1}{4 r f{\\left (t,r \\right )} g^{2}{\\left (t,r \\right )}} \\left(r \\left(- \\frac{\\partial}{\\partial r} f{\\left (t,r \\right )} \\frac{\\partial}{\\partial r} g{\\left (t,r \\right )} + \\left(\\frac{\\partial}{\\partial t} g{\\left (t,r \\right )}\\right)^{2}\\right) f{\\left (t,r \\right )} + r \\left(- \\left(\\frac{\\partial}{\\partial r} f{\\left (t,r \\right )}\\right)^{2} + \\frac{\\partial}{\\partial t} f{\\left (t,r \\right )} \\frac{\\partial}{\\partial t} g{\\left (t,r \\right )}\\right) g{\\left (t,r \\right )} + 2 r \\left(\\frac{\\partial^{2}}{\\partial r^{2}}  f{\\left (t,r \\right )} - \\frac{\\partial^{2}}{\\partial t^{2}}  g{\\left (t,r \\right )}\\right) f{\\left (t,r \\right )} g{\\left (t,r \\right )} + 4 f{\\left (t,r \\right )} g{\\left (t,r \\right )} \\frac{\\partial}{\\partial r} f{\\left (t,r \\right )}\\right)$$"
      ],
      "text/plain": [
       "  ⎛                                         2⎞             ⎛               2  \n",
       "  ⎜  ∂           ∂             ⎛∂          ⎞ ⎟             ⎜  ⎛∂          ⎞   \n",
       "r⋅⎜- ──(f(t, r))⋅──(g(t, r)) + ⎜──(g(t, r))⎟ ⎟⋅f(t, r) + r⋅⎜- ⎜──(f(t, r))⎟  +\n",
       "  ⎝  ∂r          ∂r            ⎝∂t         ⎠ ⎠             ⎝  ⎝∂r         ⎠   \n",
       "                                                                              \n",
       "──────────────────────────────────────────────────────────────────────────────\n",
       "                                                                              \n",
       "                                                                              \n",
       "\n",
       "                        ⎞               ⎛  2              2         ⎞         \n",
       " ∂           ∂          ⎟               ⎜ ∂              ∂          ⎟         \n",
       " ──(f(t, r))⋅──(g(t, r))⎟⋅g(t, r) + 2⋅r⋅⎜───(f(t, r)) - ───(g(t, r))⎟⋅f(t, r)⋅\n",
       " ∂t          ∂t         ⎠               ⎜  2              2         ⎟         \n",
       "                                        ⎝∂r             ∂t          ⎠         \n",
       "──────────────────────────────────────────────────────────────────────────────\n",
       "                       2                                                      \n",
       "          4⋅r⋅f(t, r)⋅g (t, r)                                                \n",
       "\n",
       "                                       \n",
       "                            ∂          \n",
       "g(t, r) + 4⋅f(t, r)⋅g(t, r)⋅──(f(t, r))\n",
       "                            ∂r         \n",
       "                                       \n",
       "───────────────────────────────────────\n",
       "                                       \n",
       "                                       "
      ]
     },
     "metadata": {},
     "output_type": "display_data"
    },
    {
     "data": {
      "text/plain": [
       "'R_{0 1}'"
      ]
     },
     "metadata": {},
     "output_type": "display_data"
    },
    {
     "data": {
      "text/latex": [
       "$$\\frac{\\frac{\\partial}{\\partial t} g{\\left (t,r \\right )}}{r g{\\left (t,r \\right )}}$$"
      ],
      "text/plain": [
       "∂          \n",
       "──(g(t, r))\n",
       "∂t         \n",
       "───────────\n",
       " r⋅g(t, r) "
      ]
     },
     "metadata": {},
     "output_type": "display_data"
    },
    {
     "data": {
      "text/plain": [
       "'R_{1 0}'"
      ]
     },
     "metadata": {},
     "output_type": "display_data"
    },
    {
     "data": {
      "text/latex": [
       "$$\\frac{\\frac{\\partial}{\\partial t} g{\\left (t,r \\right )}}{r g{\\left (t,r \\right )}}$$"
      ],
      "text/plain": [
       "∂          \n",
       "──(g(t, r))\n",
       "∂t         \n",
       "───────────\n",
       " r⋅g(t, r) "
      ]
     },
     "metadata": {},
     "output_type": "display_data"
    },
    {
     "data": {
      "text/plain": [
       "'R_{1 1}'"
      ]
     },
     "metadata": {},
     "output_type": "display_data"
    },
    {
     "data": {
      "text/latex": [
       "$$\\frac{1}{4 r f^{2}{\\left (t,r \\right )} g{\\left (t,r \\right )}} \\left(r \\left(\\frac{\\partial}{\\partial r} f{\\left (t,r \\right )} \\frac{\\partial}{\\partial r} g{\\left (t,r \\right )} - \\left(\\frac{\\partial}{\\partial t} g{\\left (t,r \\right )}\\right)^{2}\\right) f{\\left (t,r \\right )} + r \\left(\\left(\\frac{\\partial}{\\partial r} f{\\left (t,r \\right )}\\right)^{2} - \\frac{\\partial}{\\partial t} f{\\left (t,r \\right )} \\frac{\\partial}{\\partial t} g{\\left (t,r \\right )}\\right) g{\\left (t,r \\right )} + 2 r \\left(- \\frac{\\partial^{2}}{\\partial r^{2}}  f{\\left (t,r \\right )} + \\frac{\\partial^{2}}{\\partial t^{2}}  g{\\left (t,r \\right )}\\right) f{\\left (t,r \\right )} g{\\left (t,r \\right )} + 4 f^{2}{\\left (t,r \\right )} \\frac{\\partial}{\\partial r} g{\\left (t,r \\right )}\\right)$$"
      ],
      "text/plain": [
       "  ⎛                                       2⎞             ⎛             2      \n",
       "  ⎜∂           ∂             ⎛∂          ⎞ ⎟             ⎜⎛∂          ⎞    ∂  \n",
       "r⋅⎜──(f(t, r))⋅──(g(t, r)) - ⎜──(g(t, r))⎟ ⎟⋅f(t, r) + r⋅⎜⎜──(f(t, r))⎟  - ──(\n",
       "  ⎝∂r          ∂r            ⎝∂t         ⎠ ⎠             ⎝⎝∂r         ⎠    ∂t \n",
       "                                                                              \n",
       "──────────────────────────────────────────────────────────────────────────────\n",
       "                                                                              \n",
       "                                                                              \n",
       "\n",
       "                    ⎞               ⎛    2              2         ⎞           \n",
       "         ∂          ⎟               ⎜   ∂              ∂          ⎟           \n",
       "f(t, r))⋅──(g(t, r))⎟⋅g(t, r) + 2⋅r⋅⎜- ───(f(t, r)) + ───(g(t, r))⎟⋅f(t, r)⋅g(\n",
       "         ∂t         ⎠               ⎜    2              2         ⎟           \n",
       "                                    ⎝  ∂r             ∂t          ⎠           \n",
       "──────────────────────────────────────────────────────────────────────────────\n",
       "          2                                                                   \n",
       "     4⋅r⋅f (t, r)⋅g(t, r)                                                     \n",
       "\n",
       "                              \n",
       "           2       ∂          \n",
       "t, r) + 4⋅f (t, r)⋅──(g(t, r))\n",
       "                   ∂r         \n",
       "                              \n",
       "──────────────────────────────\n",
       "                              \n",
       "                              "
      ]
     },
     "metadata": {},
     "output_type": "display_data"
    },
    {
     "data": {
      "text/plain": [
       "'R_{2 2}'"
      ]
     },
     "metadata": {},
     "output_type": "display_data"
    },
    {
     "data": {
      "text/latex": [
       "$$\\frac{r \\frac{\\partial}{\\partial r} g{\\left (t,r \\right )}}{2 g^{2}{\\left (t,r \\right )}} - \\frac{r \\frac{\\partial}{\\partial r} f{\\left (t,r \\right )}}{2 f{\\left (t,r \\right )} g{\\left (t,r \\right )}} + 1 - \\frac{1}{g{\\left (t,r \\right )}}$$"
      ],
      "text/plain": [
       "  ∂                 ∂                          \n",
       "r⋅──(g(t, r))     r⋅──(f(t, r))                \n",
       "  ∂r                ∂r                     1   \n",
       "───────────── - ───────────────── + 1 - ───────\n",
       "     2          2⋅f(t, r)⋅g(t, r)       g(t, r)\n",
       "  2⋅g (t, r)                                   "
      ]
     },
     "metadata": {},
     "output_type": "display_data"
    },
    {
     "data": {
      "text/plain": [
       "'R_{3 3}'"
      ]
     },
     "metadata": {},
     "output_type": "display_data"
    },
    {
     "data": {
      "text/latex": [
       "$$\\frac{\\sin^{2}{\\left (\\theta \\right )}}{f{\\left (t,r \\right )} g^{2}{\\left (t,r \\right )}} \\left(\\frac{r}{2} f{\\left (t,r \\right )} \\frac{\\partial}{\\partial r} g{\\left (t,r \\right )} - \\frac{r}{2} g{\\left (t,r \\right )} \\frac{\\partial}{\\partial r} f{\\left (t,r \\right )} + f{\\left (t,r \\right )} g^{2}{\\left (t,r \\right )} - f{\\left (t,r \\right )} g{\\left (t,r \\right )}\\right)$$"
      ],
      "text/plain": [
       "⎛          ∂                       ∂                                          \n",
       "⎜r⋅f(t, r)⋅──(g(t, r))   r⋅g(t, r)⋅──(f(t, r))                                \n",
       "⎜          ∂r                      ∂r                     2                   \n",
       "⎜───────────────────── - ───────────────────── + f(t, r)⋅g (t, r) - f(t, r)⋅g(\n",
       "⎝          2                       2                                          \n",
       "──────────────────────────────────────────────────────────────────────────────\n",
       "                                               2                              \n",
       "                                      f(t, r)⋅g (t, r)                        \n",
       "\n",
       "     ⎞        \n",
       "     ⎟        \n",
       "     ⎟    2   \n",
       "t, r)⎟⋅sin (θ)\n",
       "     ⎠        \n",
       "──────────────\n",
       "              \n",
       "              "
      ]
     },
     "metadata": {},
     "output_type": "display_data"
    }
   ],
   "source": [
    "for i in range(len(R3_Metric_matrix[:,0])):\n",
    "    for k in range(len(R3_Metric_matrix[:,0])):\n",
    "        if(manual_Ricci[i,k]!=0):\n",
    "            display('R_{%i %i}'%(i,k), manual_Ricci[i,k])"
   ]
  },
  {
   "cell_type": "markdown",
   "metadata": {},
   "source": [
    "Tomemos $R_{10}$:"
   ]
  },
  {
   "cell_type": "code",
   "execution_count": 31,
   "metadata": {},
   "outputs": [
    {
     "data": {
      "text/latex": [
       "$$\\frac{\\frac{\\partial}{\\partial t} g{\\left (t,r \\right )}}{r g{\\left (t,r \\right )}} = 0$$"
      ],
      "text/plain": [
       "∂              \n",
       "──(g(t, r))    \n",
       "∂t             \n",
       "─────────── = 0\n",
       " r⋅g(t, r)     "
      ]
     },
     "execution_count": 31,
     "metadata": {},
     "output_type": "execute_result"
    }
   ],
   "source": [
    "Eq(manual_Ricci[1,0], 0)"
   ]
  },
  {
   "cell_type": "markdown",
   "metadata": {},
   "source": [
    "Debemos entonces exigir que $$\\frac{1}{rg}\\partial_tg=0,$$es decir, $$g(t,r)=g(r).$$"
   ]
  },
  {
   "cell_type": "code",
   "execution_count": 34,
   "metadata": {
    "collapsed": true
   },
   "outputs": [],
   "source": [
    "f = Function('f')\n",
    "f_r=f(r)\n",
    "g = Function('g')\n",
    "g_r=g(r)"
   ]
  },
  {
   "cell_type": "code",
   "execution_count": 57,
   "metadata": {},
   "outputs": [
    {
     "data": {
      "text/latex": [
       "$$\\frac{1}{4 r f{\\left (t,r \\right )} g^{2}{\\left (r \\right )}} \\left(2 r f{\\left (t,r \\right )} g{\\left (r \\right )} \\frac{\\partial^{2}}{\\partial r^{2}}  f{\\left (t,r \\right )} - r f{\\left (t,r \\right )} \\frac{\\partial}{\\partial r} f{\\left (t,r \\right )} \\frac{d}{d r} g{\\left (r \\right )} - r g{\\left (r \\right )} \\left(\\frac{\\partial}{\\partial r} f{\\left (t,r \\right )}\\right)^{2} + 4 f{\\left (t,r \\right )} g{\\left (r \\right )} \\frac{\\partial}{\\partial r} f{\\left (t,r \\right )}\\right)$$"
      ],
      "text/plain": [
       "                   2                                                          \n",
       "                  ∂                       ∂           d                 ⎛∂    \n",
       "2⋅r⋅f(t, r)⋅g(r)⋅───(f(t, r)) - r⋅f(t, r)⋅──(f(t, r))⋅──(g(r)) - r⋅g(r)⋅⎜──(f(\n",
       "                   2                      ∂r          dr                ⎝∂r   \n",
       "                 ∂r                                                           \n",
       "──────────────────────────────────────────────────────────────────────────────\n",
       "                                                              2               \n",
       "                                                 4⋅r⋅f(t, r)⋅g (r)            \n",
       "\n",
       "       2                             \n",
       "      ⎞                   ∂          \n",
       "t, r))⎟  + 4⋅f(t, r)⋅g(r)⋅──(f(t, r))\n",
       "      ⎠                   ∂r         \n",
       "                                     \n",
       "─────────────────────────────────────\n",
       "                                     \n",
       "                                     "
      ]
     },
     "metadata": {},
     "output_type": "display_data"
    },
    {
     "data": {
      "text/latex": [
       "$$g{\\left (r \\right )} = \\frac{C_{1} r^{4} \\left(\\frac{\\partial}{\\partial r} f{\\left (t,r \\right )}\\right)^{2}}{f{\\left (t,r \\right )}}$$"
      ],
      "text/plain": [
       "                          2\n",
       "           4 ⎛∂          ⎞ \n",
       "       C₁⋅r ⋅⎜──(f(t, r))⎟ \n",
       "             ⎝∂r         ⎠ \n",
       "g(r) = ────────────────────\n",
       "             f(t, r)       "
      ]
     },
     "execution_count": 57,
     "metadata": {},
     "output_type": "execute_result"
    }
   ],
   "source": [
    "comp00=manual_Ricci[0,0].subs(g_met, g_r).doit()\n",
    "display(comp00)\n",
    "dsolve(Eq(comp00,0), g_r)"
   ]
  },
  {
   "cell_type": "code",
   "execution_count": 61,
   "metadata": {},
   "outputs": [
    {
     "data": {
      "text/latex": [
       "$$\\frac{1}{4 r f^{2}{\\left (t,r \\right )} g{\\left (r \\right )}} \\left(- 2 r f{\\left (t,r \\right )} g{\\left (r \\right )} \\frac{\\partial^{2}}{\\partial r^{2}}  f{\\left (t,r \\right )} + r f{\\left (t,r \\right )} \\frac{\\partial}{\\partial r} f{\\left (t,r \\right )} \\frac{d}{d r} g{\\left (r \\right )} + r g{\\left (r \\right )} \\left(\\frac{\\partial}{\\partial r} f{\\left (t,r \\right )}\\right)^{2} + 4 f^{2}{\\left (t,r \\right )} \\frac{d}{d r} g{\\left (r \\right )}\\right)$$"
      ],
      "text/plain": [
       "                     2                                                        \n",
       "                    ∂                       ∂           d                 ⎛∂  \n",
       "- 2⋅r⋅f(t, r)⋅g(r)⋅───(f(t, r)) + r⋅f(t, r)⋅──(f(t, r))⋅──(g(r)) + r⋅g(r)⋅⎜──(\n",
       "                     2                      ∂r          dr                ⎝∂r \n",
       "                   ∂r                                                         \n",
       "──────────────────────────────────────────────────────────────────────────────\n",
       "                                                   2                          \n",
       "                                              4⋅r⋅f (t, r)⋅g(r)               \n",
       "\n",
       "         2                      \n",
       "        ⎞       2       d       \n",
       "f(t, r))⎟  + 4⋅f (t, r)⋅──(g(r))\n",
       "        ⎠               dr      \n",
       "                                \n",
       "────────────────────────────────\n",
       "                                \n",
       "                                "
      ]
     },
     "metadata": {},
     "output_type": "display_data"
    },
    {
     "data": {
      "text/latex": [
       "$$g{\\left (r \\right )} = C_{1} e^{- \\int \\left(- \\frac{2 r \\frac{\\partial^{2}}{\\partial r^{2}}  f{\\left (t,r \\right )}}{r \\frac{\\partial}{\\partial r} f{\\left (t,r \\right )} + 4 f{\\left (t,r \\right )}}\\right)\\, dr - \\int \\frac{r \\left(\\frac{\\partial}{\\partial r} f{\\left (t,r \\right )}\\right)^{2}}{\\left(r \\frac{\\partial}{\\partial r} f{\\left (t,r \\right )} + 4 f{\\left (t,r \\right )}\\right) f{\\left (t,r \\right )}}\\, dr}$$"
      ],
      "text/plain": [
       "             ⌠                                                                \n",
       "             ⎮            2                   ⌠                               \n",
       "             ⎮           ∂                    ⎮                          2    \n",
       "             ⎮     -2⋅r⋅───(f(t, r))          ⎮             ⎛∂          ⎞     \n",
       "             ⎮            2                   ⎮           r⋅⎜──(f(t, r))⎟     \n",
       "             ⎮          ∂r                    ⎮             ⎝∂r         ⎠     \n",
       "           - ⎮ ───────────────────────── dr - ⎮ ──────────────────────────────\n",
       "             ⎮   ∂                            ⎮ ⎛  ∂                      ⎞   \n",
       "             ⎮ r⋅──(f(t, r)) + 4⋅f(t, r)      ⎮ ⎜r⋅──(f(t, r)) + 4⋅f(t, r)⎟⋅f(\n",
       "             ⎮   ∂r                           ⎮ ⎝  ∂r                     ⎠   \n",
       "             ⌡                                ⌡                               \n",
       "g(r) = C₁⋅ℯ                                                                   \n",
       "\n",
       "        \n",
       "        \n",
       "        \n",
       "        \n",
       "        \n",
       "        \n",
       "───── dr\n",
       "        \n",
       "t, r)   \n",
       "        \n",
       "        \n",
       "        "
      ]
     },
     "execution_count": 61,
     "metadata": {},
     "output_type": "execute_result"
    }
   ],
   "source": [
    "comp11=manual_Ricci[1,1].subs(g_met, g_r).doit()\n",
    "display(comp11)\n",
    "dsolve(Eq(comp11,0), g_r)"
   ]
  },
  {
   "cell_type": "code",
   "execution_count": 56,
   "metadata": {
    "scrolled": true
   },
   "outputs": [
    {
     "data": {
      "text/latex": [
       "$$\\frac{r \\frac{d}{d r} g{\\left (r \\right )}}{2 g^{2}{\\left (r \\right )}} - \\frac{r \\frac{\\partial}{\\partial r} f{\\left (t,r \\right )}}{2 f{\\left (t,r \\right )} g{\\left (r \\right )}} + 1 - \\frac{1}{g{\\left (r \\right )}} = 0$$"
      ],
      "text/plain": [
       "  d            ∂                          \n",
       "r⋅──(g(r))   r⋅──(f(t, r))                \n",
       "  dr           ∂r                  1      \n",
       "────────── - ────────────── + 1 - ──── = 0\n",
       "    2        2⋅f(t, r)⋅g(r)       g(r)    \n",
       " 2⋅g (r)                                  "
      ]
     },
     "metadata": {},
     "output_type": "display_data"
    },
    {
     "data": {
      "text/latex": [
       "$$g{\\left (r \\right )} = \\frac{r^{2} f{\\left (t,r \\right )}}{C_{1} + 2 \\int r f{\\left (t,r \\right )}\\, dr}$$"
      ],
      "text/plain": [
       "              2             \n",
       "             r ⋅f(t, r)     \n",
       "g(r) = ─────────────────────\n",
       "              ⌠             \n",
       "       C₁ + 2⋅⎮ r⋅f(t, r) dr\n",
       "              ⌡             "
      ]
     },
     "execution_count": 56,
     "metadata": {},
     "output_type": "execute_result"
    }
   ],
   "source": [
    "comp22=manual_Ricci[2,2].subs(g_met, g_r).doit()\n",
    "display(Eq(comp22,0))\n",
    "dsolve(Eq(comp22,0), g_r)"
   ]
  },
  {
   "cell_type": "code",
   "execution_count": 55,
   "metadata": {},
   "outputs": [
    {
     "data": {
      "text/latex": [
       "$$\\frac{\\sin^{2}{\\left (\\theta \\right )}}{f{\\left (t,r \\right )} g^{2}{\\left (r \\right )}} \\left(\\frac{r}{2} f{\\left (t,r \\right )} \\frac{d}{d r} g{\\left (r \\right )} - \\frac{r}{2} g{\\left (r \\right )} \\frac{\\partial}{\\partial r} f{\\left (t,r \\right )} + f{\\left (t,r \\right )} g^{2}{\\left (r \\right )} - f{\\left (t,r \\right )} g{\\left (r \\right )}\\right) = 0$$"
      ],
      "text/plain": [
       "⎛          d                 ∂                                         ⎞      \n",
       "⎜r⋅f(t, r)⋅──(g(r))   r⋅g(r)⋅──(f(t, r))                               ⎟      \n",
       "⎜          dr                ∂r                     2                  ⎟    2 \n",
       "⎜────────────────── - ────────────────── + f(t, r)⋅g (r) - f(t, r)⋅g(r)⎟⋅sin (\n",
       "⎝        2                    2                                        ⎠      \n",
       "──────────────────────────────────────────────────────────────────────────────\n",
       "                                          2                                   \n",
       "                                 f(t, r)⋅g (r)                                \n",
       "\n",
       "      \n",
       "      \n",
       "      \n",
       "θ)    \n",
       "      \n",
       "── = 0\n",
       "      \n",
       "      "
      ]
     },
     "metadata": {},
     "output_type": "display_data"
    },
    {
     "data": {
      "text/latex": [
       "$$g{\\left (r \\right )} = \\frac{r^{2} f{\\left (t,r \\right )}}{C_{1} + 2 \\int r f{\\left (t,r \\right )}\\, dr}$$"
      ],
      "text/plain": [
       "              2             \n",
       "             r ⋅f(t, r)     \n",
       "g(r) = ─────────────────────\n",
       "              ⌠             \n",
       "       C₁ + 2⋅⎮ r⋅f(t, r) dr\n",
       "              ⌡             "
      ]
     },
     "execution_count": 55,
     "metadata": {},
     "output_type": "execute_result"
    }
   ],
   "source": [
    "comp33=manual_Ricci[3,3].subs(g_met, g_r).doit()\n",
    "display(Eq(comp33,0))\n",
    "dsolve(Eq(comp33,0), g_r)"
   ]
  },
  {
   "cell_type": "code",
   "execution_count": null,
   "metadata": {
    "collapsed": true
   },
   "outputs": [],
   "source": []
  }
 ],
 "metadata": {
  "anaconda-cloud": {},
  "kernelspec": {
   "display_name": "Python [default]",
   "language": "python",
   "name": "python2"
  },
  "language_info": {
   "codemirror_mode": {
    "name": "ipython",
    "version": 2
   },
   "file_extension": ".py",
   "mimetype": "text/x-python",
   "name": "python",
   "nbconvert_exporter": "python",
   "pygments_lexer": "ipython2",
   "version": "2.7.12"
  }
 },
 "nbformat": 4,
 "nbformat_minor": 1
}
