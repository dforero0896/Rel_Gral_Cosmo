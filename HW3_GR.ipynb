{
 "cells": [
  {
   "cell_type": "markdown",
   "metadata": {},
   "source": [
    "# Relatividad General y Cosmología\n",
    "## Tarea #2\n",
    "### Daniel Felipe Forero Sánchez - 201415069"
   ]
  },
  {
   "cell_type": "code",
   "execution_count": 1,
   "metadata": {
    "collapsed": true
   },
   "outputs": [],
   "source": [
    "from sympy import *\n",
    "init_printing()\n",
    "from sympy.diffgeom import *\n",
    "from sympy.tensor.array import Array"
   ]
  },
  {
   "cell_type": "markdown",
   "metadata": {},
   "source": [
    "Halle los campos de Killing para Minkowski: \n",
    "$$ds^2 = -(dx^0)^2 + (dx^1)^2 + (dx^2)^2 + (dx^3)^2.$$\n",
    "La forma general de un vector de Killing será\n",
    "$$v=v^0(x^\\mu)\\partial_0 + v^1(x^\\mu)\\partial_1 + v^2(x^\\mu)\\partial_2 + v^3(x^\\mu)\\partial_3.$$"
   ]
  },
  {
   "cell_type": "code",
   "execution_count": 2,
   "metadata": {
    "collapsed": true
   },
   "outputs": [],
   "source": [
    "M=Manifold('M', 4)\n",
    "P=Patch('P', M)\n",
    "Mink_4 = CoordSystem('Mink_4', P, ['x^0', 'x^1', 'x^2', 'x^3'])\n",
    "e_x0, e_x1, e_x2, e_x3 = Mink_4.base_vectors()\n",
    "dx0, dx1, dx2, dx3 = Mink_4.base_oneforms()\n",
    "x0, x1, x2, x3 = Mink_4.coord_functions()\n",
    "TP=TensorProduct"
   ]
  },
  {
   "cell_type": "code",
   "execution_count": 3,
   "metadata": {},
   "outputs": [
    {
     "data": {
      "image/png": "[encoded data removed]",
      "text/latex": [
       "$$- \\mathrm{d}x^{0}\\otimes\\mathrm{d}x^{0} + \\mathrm{d}x^{1}\\otimes\\mathrm{d}x^{1} + \\mathrm{d}x^{2}\\otimes\\mathrm{d}x^{2} + \\mathrm{d}x^{3}\\otimes\\mathrm{d}x^{3}$$"
      ],
      "text/plain": [
       "-TensorProduct(dx^0, dx^0) + TensorProduct(dx^1, dx^1) + TensorProduct(dx^2, d\n",
       "x^2) + TensorProduct(dx^3, dx^3)"
      ]
     },
     "execution_count": 3,
     "metadata": {},
     "output_type": "execute_result"
    }
   ],
   "source": [
    "Mink_4_Metric = -TP(dx0, dx0)+TP(dx1, dx1)+TP(dx2, dx2)+TP(dx3, dx3)\n",
    "Mink_4_Metric"
   ]
  },
  {
   "cell_type": "code",
   "execution_count": 4,
   "metadata": {
    "collapsed": true
   },
   "outputs": [],
   "source": [
    "v0 = Function('v^0')\n",
    "v1 = Function('v^1')\n",
    "v2 = Function('v^2')\n",
    "v3 = Function('v^3')\n",
    "v0_kill = v0(x0, x1, x2, x3)\n",
    "v1_kill = v1(x0, x1, x2, x3)\n",
    "v2_kill = v2(x0, x1, x2, x3)\n",
    "v3_kill = v3(x0, x1, x2, x3)"
   ]
  },
  {
   "cell_type": "code",
   "execution_count": 5,
   "metadata": {},
   "outputs": [
    {
     "data": {
      "text/latex": [
       "$$\\left[\\begin{matrix}-1 & 0 & 0 & 0\\\\0 & 1 & 0 & 0\\\\0 & 0 & 1 & 0\\\\0 & 0 & 0 & 1\\end{matrix}\\right]$$"
      ],
      "text/plain": [
       "⎡-1  0  0  0⎤\n",
       "⎢           ⎥\n",
       "⎢0   1  0  0⎥\n",
       "⎢           ⎥\n",
       "⎢0   0  1  0⎥\n",
       "⎢           ⎥\n",
       "⎣0   0  0  1⎦"
      ]
     },
     "execution_count": 5,
     "metadata": {},
     "output_type": "execute_result"
    }
   ],
   "source": [
    "v = v0_kill * e_x0+\\\n",
    "v1_kill * e_x1+\\\n",
    "v2_kill * e_x2+\\\n",
    "v3_kill * e_x3\n",
    "v_vec=Matrix([v0_kill, v1_kill, v2_kill, v3_kill])\n",
    "Mink_4_Metric_Matrix = Matrix([[-1, 0, 0, 0], [0, 1, 0, 0], [0, 0, 1, 0], [0, 0, 0, 1]])\n",
    "Mink_4_Metric_Matrix"
   ]
  },
  {
   "cell_type": "code",
   "execution_count": 6,
   "metadata": {
    "collapsed": true
   },
   "outputs": [],
   "source": [
    "def CalcLieDerv(mu, nu, rank_2_tensor, vector_field, CoordSyst):\n",
    "    term1=0\n",
    "    for i in range(len(vector_field)):\n",
    "        term1 += vector_field[i]*CoordSyst.base_vectors()[i](rank_2_tensor[mu,nu])\n",
    "    term2_contr=0\n",
    "    for i in range(len(vector_field)):\n",
    "        term2_contr += vector_field[i]*rank_2_tensor[i, nu]\n",
    "    term2 = CoordSyst.base_vectors()[mu](term2_contr)\n",
    "    term3_contr=0\n",
    "    for i in range(len(vector_field)):\n",
    "        term3_contr += vector_field[i]*rank_2_tensor[mu, i]\n",
    "    term3 = CoordSyst.base_vectors()[nu](term3_contr)\n",
    "    return term1+term2+term3"
   ]
  },
  {
   "cell_type": "code",
   "execution_count": 7,
   "metadata": {},
   "outputs": [
    {
     "data": {
      "text/latex": [
       "$$- 2 \\left. \\frac{d}{d \\xi_{1}} \\operatorname{v^{0}}{\\left (\\xi_{1},\\boldsymbol{\\mathrm{x^{1}}},\\boldsymbol{\\mathrm{x^{2}}},\\boldsymbol{\\mathrm{x^{3}}} \\right )} \\right|_{\\substack{ \\xi_{1}=\\boldsymbol{\\mathrm{x^{0}}} }}$$"
      ],
      "text/plain": [
       "   ⎛ d                     ⎞│     \n",
       "-2⋅⎜───(v⁰(ξ₁, x¹, x², x³))⎟│     \n",
       "   ⎝dξ₁                    ⎠│ξ₁=x⁰"
      ]
     },
     "execution_count": 7,
     "metadata": {},
     "output_type": "execute_result"
    }
   ],
   "source": [
    "CalcLieDerv(0, 0, Mink_4_Metric_Matrix, v_vec, Mink_4)"
   ]
  },
  {
   "cell_type": "markdown",
   "metadata": {},
   "source": [
    "La expresión de arriba implica que $$\\partial_0v^0=0,$$ es decir, son vectores de killing aquellos $$v=a\\partial_0,$$ para todo escalar $a$"
   ]
  },
  {
   "cell_type": "code",
   "execution_count": 8,
   "metadata": {},
   "outputs": [
    {
     "data": {
      "image/png": "[encoded data removed]",
      "text/latex": [
       "$$0$$"
      ],
      "text/plain": [
       "0"
      ]
     },
     "execution_count": 8,
     "metadata": {},
     "output_type": "execute_result"
    }
   ],
   "source": [
    "CalcLieDerv(0, 0, Mink_4_Metric_Matrix, [1, 0, 0, 0], Mink_4)"
   ]
  },
  {
   "cell_type": "code",
   "execution_count": 9,
   "metadata": {},
   "outputs": [
    {
     "data": {
      "text/latex": [
       "$$2 \\left. \\frac{d}{d \\xi_{2}} \\operatorname{v^{1}}{\\left (\\boldsymbol{\\mathrm{x^{0}}},\\xi_{2},\\boldsymbol{\\mathrm{x^{2}}},\\boldsymbol{\\mathrm{x^{3}}} \\right )} \\right|_{\\substack{ \\xi_{2}=\\boldsymbol{\\mathrm{x^{1}}} }}$$"
      ],
      "text/plain": [
       "  ⎛ d                     ⎞│     \n",
       "2⋅⎜───(v¹(x⁰, ξ₂, x², x³))⎟│     \n",
       "  ⎝dξ₂                    ⎠│ξ₂=x¹"
      ]
     },
     "execution_count": 9,
     "metadata": {},
     "output_type": "execute_result"
    }
   ],
   "source": [
    "CalcLieDerv(1, 1, Mink_4_Metric_Matrix, v_vec, Mink_4)"
   ]
  },
  {
   "cell_type": "markdown",
   "metadata": {},
   "source": [
    "De manera similar, de la expresión arriba obtenemos que son vectores de killing $$v=a\\partial_i,\\ i=1, 2, 3.$$ Es decir, cualquier vector constante en una dirección paralela a $\\partial_\\mu$ es un vector de killing."
   ]
  },
  {
   "cell_type": "code",
   "execution_count": 10,
   "metadata": {},
   "outputs": [
    {
     "data": {
      "image/png": "[encoded data removed]",
      "text/latex": [
       "$$0$$"
      ],
      "text/plain": [
       "0"
      ]
     },
     "execution_count": 10,
     "metadata": {},
     "output_type": "execute_result"
    }
   ],
   "source": [
    "CalcLieDerv(1, 1, Mink_4_Metric_Matrix, [0, 1, 0, 0], Mink_4)"
   ]
  },
  {
   "cell_type": "code",
   "execution_count": 11,
   "metadata": {
    "scrolled": true
   },
   "outputs": [
    {
     "data": {
      "text/latex": [
       "$$- \\left. \\frac{d}{d \\xi_{2}} \\operatorname{v^{0}}{\\left (\\boldsymbol{\\mathrm{x^{0}}},\\xi_{2},\\boldsymbol{\\mathrm{x^{2}}},\\boldsymbol{\\mathrm{x^{3}}} \\right )} \\right|_{\\substack{ \\xi_{2}=\\boldsymbol{\\mathrm{x^{1}}} }} + \\left. \\frac{d}{d \\xi_{1}} \\operatorname{v^{1}}{\\left (\\xi_{1},\\boldsymbol{\\mathrm{x^{1}}},\\boldsymbol{\\mathrm{x^{2}}},\\boldsymbol{\\mathrm{x^{3}}} \\right )} \\right|_{\\substack{ \\xi_{1}=\\boldsymbol{\\mathrm{x^{0}}} }}$$"
      ],
      "text/plain": [
       "  ⎛ d                     ⎞│        ⎛ d                     ⎞│     \n",
       "- ⎜───(v⁰(x⁰, ξ₂, x², x³))⎟│      + ⎜───(v¹(ξ₁, x¹, x², x³))⎟│     \n",
       "  ⎝dξ₂                    ⎠│ξ₂=x¹   ⎝dξ₁                    ⎠│ξ₁=x⁰"
      ]
     },
     "execution_count": 11,
     "metadata": {},
     "output_type": "execute_result"
    }
   ],
   "source": [
    "CalcLieDerv(0, 1, Mink_4_Metric_Matrix, v_vec, Mink_4)"
   ]
  },
  {
   "cell_type": "markdown",
   "metadata": {},
   "source": [
    "De la expresión de arriba, podemos generalizar para otras componentes según\n",
    "\n",
    "$$-\\partial_iv^0 + \\partial_0v^i=0,$$ es decir los vectores $$v = x^0\\partial_0 + x^i\\partial_i$$ y $$v=x^0\\partial_i + x^i\\partial_0$$ cumplen la condición, pero solo los últimos son killing, ya que para los primeros, se tiene que otras componentes de la derivada de Lie son distintos a cero."
   ]
  },
  {
   "cell_type": "code",
   "execution_count": 12,
   "metadata": {},
   "outputs": [
    {
     "data": {
      "image/png": "[encoded data removed]",
      "text/latex": [
       "$$0$$"
      ],
      "text/plain": [
       "0"
      ]
     },
     "execution_count": 12,
     "metadata": {},
     "output_type": "execute_result"
    }
   ],
   "source": [
    "CalcLieDerv(0, 1, Mink_4_Metric_Matrix, [x1, x0, x2, x3], Mink_4)"
   ]
  },
  {
   "cell_type": "code",
   "execution_count": 13,
   "metadata": {
    "scrolled": true
   },
   "outputs": [
    {
     "data": {
      "text/latex": [
       "$$\\left. \\frac{d}{d \\xi_{3}} \\operatorname{v^{1}}{\\left (\\boldsymbol{\\mathrm{x^{0}}},\\boldsymbol{\\mathrm{x^{1}}},\\xi_{3},\\boldsymbol{\\mathrm{x^{3}}} \\right )} \\right|_{\\substack{ \\xi_{3}=\\boldsymbol{\\mathrm{x^{2}}} }} + \\left. \\frac{d}{d \\xi_{2}} \\operatorname{v^{2}}{\\left (\\boldsymbol{\\mathrm{x^{0}}},\\xi_{2},\\boldsymbol{\\mathrm{x^{2}}},\\boldsymbol{\\mathrm{x^{3}}} \\right )} \\right|_{\\substack{ \\xi_{2}=\\boldsymbol{\\mathrm{x^{1}}} }}$$"
      ],
      "text/plain": [
       "⎛ d                     ⎞│        ⎛ d                     ⎞│     \n",
       "⎜───(v¹(x⁰, x¹, ξ₃, x³))⎟│      + ⎜───(v²(x⁰, ξ₂, x², x³))⎟│     \n",
       "⎝dξ₃                    ⎠│ξ₃=x²   ⎝dξ₂                    ⎠│ξ₂=x¹"
      ]
     },
     "execution_count": 13,
     "metadata": {},
     "output_type": "execute_result"
    }
   ],
   "source": [
    "CalcLieDerv(1, 2, Mink_4_Metric_Matrix, v_vec, Mink_4)"
   ]
  },
  {
   "cell_type": "markdown",
   "metadata": {},
   "source": [
    "Finalmente, esta condición se puede generalizar a $$ \\partial_iv^k+\\partial_kv^i=0.$$\n",
    "\n",
    "Esta condición es cumplida por vectores de la forma $$v = x^i\\partial_k - x^k\\partial_i,\\ v^i = \\varepsilon^{ijk}\\partial_kx_j.$$"
   ]
  },
  {
   "cell_type": "code",
   "execution_count": 14,
   "metadata": {},
   "outputs": [
    {
     "data": {
      "image/png": "[encoded data removed]",
      "text/latex": [
       "$$0$$"
      ],
      "text/plain": [
       "0"
      ]
     },
     "execution_count": 14,
     "metadata": {},
     "output_type": "execute_result"
    }
   ],
   "source": [
    "CalcLieDerv(1, 2, Mink_4_Metric_Matrix, [0, x2, -x1, 0], Mink_4)"
   ]
  },
  {
   "cell_type": "code",
   "execution_count": null,
   "metadata": {
    "collapsed": true
   },
   "outputs": [],
   "source": []
  },
  {
   "cell_type": "code",
   "execution_count": null,
   "metadata": {
    "collapsed": true
   },
   "outputs": [],
   "source": []
  },
  {
   "cell_type": "code",
   "execution_count": null,
   "metadata": {
    "collapsed": true
   },
   "outputs": [],
   "source": []
  }
 ],
 "metadata": {
  "anaconda-cloud": {},
  "kernelspec": {
   "display_name": "Python [default]",
   "language": "python",
   "name": "python2"
  },
  "language_info": {
   "codemirror_mode": {
    "name": "ipython",
    "version": 2
   },
   "file_extension": ".py",
   "mimetype": "text/x-python",
   "name": "python",
   "nbconvert_exporter": "python",
   "pygments_lexer": "ipython2",
   "version": "2.7.12"
  }
 },
 "nbformat": 4,
 "nbformat_minor": 1
}
