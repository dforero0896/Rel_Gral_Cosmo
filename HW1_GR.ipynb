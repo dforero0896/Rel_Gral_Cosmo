{
 "cells": [
  {
   "cell_type": "code",
   "execution_count": 132,
   "metadata": {},
   "outputs": [
    {
     "name": "stdout",
     "output_type": "stream",
     "text": [
      "IPython console for SymPy 1.0 (Python 2.7.12-64-bit) (ground types: python)\n",
      "\n",
      "These commands were executed:\n",
      ">>> from __future__ import division\n",
      ">>> from sympy import *\n",
      ">>> x, y, z, t = symbols('x y z t')\n",
      ">>> k, m, n = symbols('k m n', integer=True)\n",
      ">>> f, g, h = symbols('f g h', cls=Function)\n",
      ">>> init_printing()\n",
      "\n",
      "Documentation can be found at http://docs.sympy.org/1.0/\n"
     ]
    }
   ],
   "source": [
    "from sympy import init_session\n",
    "init_session()\n",
    "from sympy.diffgeom import *\n",
    "from sympy.tensor.array import Array"
   ]
  },
  {
   "cell_type": "code",
   "execution_count": 134,
   "metadata": {},
   "outputs": [],
   "source": [
    "theta, phi, I = symbols('theta phi I')\n",
    "M=Manifold('M', 2)\n",
    "P=Patch('P', M)\n",
    "S2 = CoordSystem('S2', P, ['I', 'varphi'])\n",
    "e_I, e_phi = S2.base_vectors()\n",
    "dI, dphi = S2.base_oneforms()\n",
    "I, phi = S2.coord_functions()\n",
    "K=(1-I**2)\n",
    "TP=TensorProduct\n",
    "metric = (1/K)*TP(dI,dI) + K*TP(dphi,dphi)\n",
    "S2_metric=Array([[1/K,0],[0,K]])\n",
    "S2_ch=metric_to_Christoffel_2nd(metric)\n"
   ]
  },
  {
   "cell_type": "code",
   "execution_count": 128,
   "metadata": {},
   "outputs": [
    {
     "name": "stdout",
     "output_type": "stream",
     "text": [
      "I/(-I**2 + 1)\n",
      "0\n",
      "0\n",
      "(-I**2 + 1)*I\n",
      "0\n",
      "-I/(-I**2 + 1)\n",
      "-I/(-I**2 + 1)\n",
      "0\n"
     ]
    },
    {
     "data": {
      "image/png": "[encoded data removed]",
      "text/latex": [
       "$$\\left ( 2, \\quad 2, \\quad 2\\right )$$"
      ],
      "text/plain": [
       "(2, 2, 2)"
      ]
     },
     "execution_count": 128,
     "metadata": {},
     "output_type": "execute_result"
    }
   ],
   "source": [
    "#gamma=0, mu=0, nu=0\n",
    "print S2_ch[0, 0, 0]\n",
    "#gamma=0, mu=1, nu=0\n",
    "print S2_ch[0, 1, 0]\n",
    "#gamma=0, mu=0, nu=1\n",
    "print S2_ch[0, 0, 1]\n",
    "#gamma=0, mu=1, nu=1\n",
    "print S2_ch[0, 1, 1]\n",
    "#gamma=1, mu=0, nu=0\n",
    "print S2_ch[1, 0, 0]\n",
    "#gamma=1, mu=0, nu=1\n",
    "print S2_ch[1, 0, 1]\n",
    "#gamma=1, mu=1, nu=0\n",
    "print S2_ch[1, 1, 0]\n",
    "#gamma=1, mu=1, nu=1\n",
    "print S2_ch[1, 1, 1]\n",
    "S2_ch.shape"
   ]
  },
  {
   "cell_type": "code",
   "execution_count": 129,
   "metadata": {},
   "outputs": [
    {
     "data": {
      "image/png": "[encoded data removed]",
      "text/latex": [
       "$$[[[[0, 0], [0, 0]], [[0, -I**2 + 1], [I**2 - 1, 0]]], [[[0, -1/(-I**2 + 1)], [1/(-I**2 + 1), 0]], [[0, 0], [0, 0]]]]$$"
      ],
      "text/plain": [
       "[[[[0, 0], [0, 0]], [[0, -I**2 + 1], [I**2 - 1, 0]]], [[[0, -1/(-I**2 + 1)], [\n",
       "1/(-I**2 + 1), 0]], [[0, 0], [0, 0]]]]"
      ]
     },
     "execution_count": 129,
     "metadata": {},
     "output_type": "execute_result"
    }
   ],
   "source": [
    "S2_Riemman=metric_to_Riemann_components(metric)\n",
    "S2_Riemman"
   ]
  },
  {
   "cell_type": "code",
   "execution_count": 130,
   "metadata": {},
   "outputs": [
    {
     "data": {
      "text/latex": [
       "$$\\left[\\begin{matrix}\\frac{1}{- \\boldsymbol{\\mathrm{I}}^{2} + 1} & 0\\\\0 & - \\boldsymbol{\\mathrm{I}}^{2} + 1\\end{matrix}\\right]$$"
      ],
      "text/plain": [
       "⎡   1              ⎤\n",
       "⎢────────     0    ⎥\n",
       "⎢   2              ⎥\n",
       "⎢- I  + 1          ⎥\n",
       "⎢                  ⎥\n",
       "⎢             2    ⎥\n",
       "⎣   0      - I  + 1⎦"
      ]
     },
     "execution_count": 130,
     "metadata": {},
     "output_type": "execute_result"
    }
   ],
   "source": [
    "S2_Ricci=metric_to_Ricci_components(metric)\n",
    "S2_Ricci.tomatrix()\n"
   ]
  },
  {
   "cell_type": "code",
   "execution_count": 149,
   "metadata": {},
   "outputs": [
    {
     "data": {
      "image/png": "[encoded data removed]",
      "text/latex": [
       "$$2$$"
      ],
      "text/plain": [
       "2"
      ]
     },
     "execution_count": 149,
     "metadata": {},
     "output_type": "execute_result"
    }
   ],
   "source": [
    "S2_R=S2_metric.tomatrix().inv()[0,0]*S2_Ricci[0,0]+\\\n",
    "S2_metric.tomatrix().inv()[1,1]*S2_Ricci[1,1]\n",
    "S2_R"
   ]
  },
  {
   "cell_type": "code",
   "execution_count": 146,
   "metadata": {},
   "outputs": [],
   "source": [
    "S2_Einstein = S2_Ricci - (1/2)*S2_R*S2_metric"
   ]
  },
  {
   "cell_type": "code",
   "execution_count": 148,
   "metadata": {},
   "outputs": [
    {
     "data": {
      "text/latex": [
       "$$\\left[\\begin{matrix}\\frac{2}{- \\boldsymbol{\\mathrm{I}}^{2} + 1} & 0\\\\0 & - 2 \\boldsymbol{\\mathrm{I}}^{2} + 2\\end{matrix}\\right]$$"
      ],
      "text/plain": [
       "⎡   2                ⎤\n",
       "⎢────────      0     ⎥\n",
       "⎢   2                ⎥\n",
       "⎢- I  + 1            ⎥\n",
       "⎢                    ⎥\n",
       "⎢               2    ⎥\n",
       "⎣   0      - 2⋅I  + 2⎦"
      ]
     },
     "execution_count": 148,
     "metadata": {},
     "output_type": "execute_result"
    }
   ],
   "source": []
  },
  {
   "cell_type": "code",
   "execution_count": 145,
   "metadata": {},
   "outputs": [
    {
     "data": {
      "text/latex": [
       "$$\\left[\\begin{matrix}0 & 0\\\\0 & 0\\end{matrix}\\right]$$"
      ],
      "text/plain": [
       "⎡0  0⎤\n",
       "⎢    ⎥\n",
       "⎣0  0⎦"
      ]
     },
     "execution_count": 145,
     "metadata": {},
     "output_type": "execute_result"
    }
   ],
   "source": [
    "S2_Einstein.tomatrix()"
   ]
  }
 ],
 "metadata": {
  "anaconda-cloud": {},
  "kernelspec": {
   "display_name": "Python [default]",
   "language": "python",
   "name": "python2"
  },
  "language_info": {
   "codemirror_mode": {
    "name": "ipython",
    "version": 2
   },
   "file_extension": ".py",
   "mimetype": "text/x-python",
   "name": "python",
   "nbconvert_exporter": "python",
   "pygments_lexer": "ipython2",
   "version": "2.7.12"
  }
 },
 "nbformat": 4,
 "nbformat_minor": 1
}
